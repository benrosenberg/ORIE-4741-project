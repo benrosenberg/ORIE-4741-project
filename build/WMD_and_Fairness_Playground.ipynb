{
  "nbformat": 4,
  "nbformat_minor": 0,
  "metadata": {
    "colab": {
      "name": "WMD and Fairness Playground.ipynb",
      "provenance": [],
      "collapsed_sections": []
    },
    "kernelspec": {
      "name": "python3",
      "display_name": "Python 3"
    },
    "language_info": {
      "name": "python"
    }
  },
  "cells": [
    {
      "cell_type": "code",
      "metadata": {
        "id": "Un9gfcdN24W7",
        "colab": {
          "base_uri": "https://localhost:8080/"
        },
        "outputId": "13d4516f-7e04-4aa8-eb13-ce37cc4c2c15"
      },
      "source": [
        "import pandas as pd\n",
        "import numpy as np\n",
        "import matplotlib.pyplot as plt\n",
        "import statsmodels.api as sm\n",
        "from sklearn.linear_model import LinearRegression\n",
        "import sklearn\n",
        "import seaborn as sns"
      ],
      "execution_count": 1,
      "outputs": [
        {
          "output_type": "stream",
          "name": "stderr",
          "text": [
            "/usr/local/lib/python3.7/dist-packages/statsmodels/tools/_testing.py:19: FutureWarning: pandas.util.testing is deprecated. Use the functions in the public API at pandas.testing instead.\n",
            "  import pandas.util.testing as tm\n"
          ]
        }
      ]
    },
    {
      "cell_type": "code",
      "metadata": {
        "colab": {
          "base_uri": "https://localhost:8080/"
        },
        "id": "Qyuu4fT22mQx",
        "outputId": "bd3c9ff1-0259-43c3-caa9-3a38f17f42f0"
      },
      "source": [
        "! git clone https://github.com/benrosenberg/ORIE-4741-project.git"
      ],
      "execution_count": 2,
      "outputs": [
        {
          "output_type": "stream",
          "name": "stdout",
          "text": [
            "Cloning into 'ORIE-4741-project'...\n",
            "remote: Enumerating objects: 172, done.\u001b[K\n",
            "remote: Counting objects: 100% (172/172), done.\u001b[K\n",
            "remote: Compressing objects: 100% (139/139), done.\u001b[K\n",
            "remote: Total 172 (delta 85), reused 61 (delta 27), pack-reused 0\u001b[K\n",
            "Receiving objects: 100% (172/172), 8.14 MiB | 11.07 MiB/s, done.\n",
            "Resolving deltas: 100% (85/85), done.\n"
          ]
        }
      ]
    },
    {
      "cell_type": "code",
      "metadata": {
        "id": "OJ6nw8uq2zPU"
      },
      "source": [
        "users_train = pd.read_csv(\"/content/ORIE-4741-project/datasets/training_users_list.csv\")\n",
        "users_test = pd.read_csv(\"/content/ORIE-4741-project/datasets/testing_users_list.csv\")\n",
        "all_users = pd.read_csv(\"/content/ORIE-4741-project/datasets/users_cleaned.csv\")"
      ],
      "execution_count": 3,
      "outputs": []
    },
    {
      "cell_type": "code",
      "metadata": {
        "id": "qh-LyEOnDa6y"
      },
      "source": [
        "us_users = pd.concat([users_train, users_test], axis=0)"
      ],
      "execution_count": 4,
      "outputs": []
    },
    {
      "cell_type": "code",
      "metadata": {
        "colab": {
          "base_uri": "https://localhost:8080/"
        },
        "id": "kyjDfPEE4Nxo",
        "outputId": "9d76ad1b-7c95-4dcb-cbe3-4d0d87e7871e"
      },
      "source": [
        "us_users.groupby(by='gender')['username'].count()"
      ],
      "execution_count": 5,
      "outputs": [
        {
          "output_type": "execute_result",
          "data": {
            "text/plain": [
              "gender\n",
              "Female         6066\n",
              "Male          12855\n",
              "Non-Binary       84\n",
              "Name: username, dtype: int64"
            ]
          },
          "metadata": {},
          "execution_count": 5
        }
      ]
    },
    {
      "cell_type": "code",
      "metadata": {
        "colab": {
          "base_uri": "https://localhost:8080/"
        },
        "id": "a0t6-yqIp2Jr",
        "outputId": "b99ba294-b831-42f8-c0df-eaee4829ca50"
      },
      "source": [
        "us_users.groupby(by='gender')['username'].count() / len(us_users)"
      ],
      "execution_count": 6,
      "outputs": [
        {
          "output_type": "execute_result",
          "data": {
            "text/plain": [
              "gender\n",
              "Female        0.319179\n",
              "Male          0.676401\n",
              "Non-Binary    0.004420\n",
              "Name: username, dtype: float64"
            ]
          },
          "metadata": {},
          "execution_count": 6
        }
      ]
    },
    {
      "cell_type": "code",
      "metadata": {
        "colab": {
          "base_uri": "https://localhost:8080/"
        },
        "id": "kexyoHmO2FK5",
        "outputId": "e08a17e8-e233-486d-c533-9599025c1284"
      },
      "source": [
        "all_users.groupby(by='gender')['username'].count()"
      ],
      "execution_count": 7,
      "outputs": [
        {
          "output_type": "execute_result",
          "data": {
            "text/plain": [
              "gender\n",
              "Female        37330\n",
              "Male          70879\n",
              "Non-Binary      501\n",
              "Name: username, dtype: int64"
            ]
          },
          "metadata": {},
          "execution_count": 7
        }
      ]
    },
    {
      "cell_type": "code",
      "metadata": {
        "colab": {
          "base_uri": "https://localhost:8080/"
        },
        "id": "MsKtAwuR4QNi",
        "outputId": "087389af-c01a-4e92-835a-3857f69b2a99"
      },
      "source": [
        "all_users.groupby(by='gender')['username'].count() / len(all_users)"
      ],
      "execution_count": 8,
      "outputs": [
        {
          "output_type": "execute_result",
          "data": {
            "text/plain": [
              "gender\n",
              "Female        0.343388\n",
              "Male          0.651995\n",
              "Non-Binary    0.004609\n",
              "Name: username, dtype: float64"
            ]
          },
          "metadata": {},
          "execution_count": 8
        }
      ]
    },
    {
      "cell_type": "code",
      "metadata": {
        "colab": {
          "base_uri": "https://localhost:8080/"
        },
        "id": "5BUtJAfD3NgP",
        "outputId": "d5aea60e-e85c-4793-ea52-338d1bb11621"
      },
      "source": [
        "us_users.groupby(by='gender').user_days_spent_watching.sum()"
      ],
      "execution_count": 9,
      "outputs": [
        {
          "output_type": "execute_result",
          "data": {
            "text/plain": [
              "gender\n",
              "Female        226842.669190\n",
              "Male          788336.514491\n",
              "Non-Binary      4879.744097\n",
              "Name: user_days_spent_watching, dtype: float64"
            ]
          },
          "metadata": {},
          "execution_count": 9
        }
      ]
    },
    {
      "cell_type": "code",
      "metadata": {
        "colab": {
          "base_uri": "https://localhost:8080/"
        },
        "id": "r9CMSBiv4bYw",
        "outputId": "6a42d5f8-b45c-4803-e840-100b59bcb07e"
      },
      "source": [
        "us_users.groupby(by='gender').user_days_spent_watching.mean()"
      ],
      "execution_count": 10,
      "outputs": [
        {
          "output_type": "execute_result",
          "data": {
            "text/plain": [
              "gender\n",
              "Female        37.395758\n",
              "Male          61.325283\n",
              "Non-Binary    58.092192\n",
              "Name: user_days_spent_watching, dtype: float64"
            ]
          },
          "metadata": {},
          "execution_count": 10
        }
      ]
    },
    {
      "cell_type": "code",
      "metadata": {
        "colab": {
          "base_uri": "https://localhost:8080/"
        },
        "id": "jH6lMoP22Skh",
        "outputId": "a172d18c-a4ee-46bd-e306-2582f72fd329"
      },
      "source": [
        "all_users.groupby(by='gender').user_days_spent_watching.mean()"
      ],
      "execution_count": 11,
      "outputs": [
        {
          "output_type": "execute_result",
          "data": {
            "text/plain": [
              "gender\n",
              "Female        47.212740\n",
              "Male          69.643065\n",
              "Non-Binary    63.806513\n",
              "Name: user_days_spent_watching, dtype: float64"
            ]
          },
          "metadata": {},
          "execution_count": 11
        }
      ]
    },
    {
      "cell_type": "code",
      "metadata": {
        "colab": {
          "base_uri": "https://localhost:8080/",
          "height": 282
        },
        "id": "w5zEogqP2-c8",
        "outputId": "cee37ed2-17e1-48d7-99f1-418331b8dac9"
      },
      "source": [
        "us_users.user_days_spent_watching.hist()"
      ],
      "execution_count": 12,
      "outputs": [
        {
          "output_type": "execute_result",
          "data": {
            "text/plain": [
              "<matplotlib.axes._subplots.AxesSubplot at 0x7f7f72034510>"
            ]
          },
          "metadata": {},
          "execution_count": 12
        },
        {
          "output_type": "display_data",
          "data": {
            "image/png": "[encoded data removed]",
            "text/plain": [
              "<Figure size 432x288 with 1 Axes>"
            ]
          },
          "metadata": {
            "needs_background": "light"
          }
        }
      ]
    },
    {
      "cell_type": "code",
      "metadata": {
        "colab": {
          "base_uri": "https://localhost:8080/"
        },
        "id": "tSNc1TEB3m2c",
        "outputId": "51ec4c3b-04f7-4cc6-e93e-4abcab5d885c"
      },
      "source": [
        "real_humans = all_users[all_users.user_days_spent_watching < 500]\n",
        "real_humans.groupby(by='gender').user_days_spent_watching.sum() / 10"
      ],
      "execution_count": 13,
      "outputs": [
        {
          "output_type": "execute_result",
          "data": {
            "text/plain": [
              "gender\n",
              "Female        175177.376020\n",
              "Male          489439.512988\n",
              "Non-Binary      3056.354405\n",
              "Name: user_days_spent_watching, dtype: float64"
            ]
          },
          "metadata": {},
          "execution_count": 13
        }
      ]
    },
    {
      "cell_type": "code",
      "metadata": {
        "colab": {
          "base_uri": "https://localhost:8080/"
        },
        "id": "cVffG-jF3rlA",
        "outputId": "b9c6749e-d165-41be-d85f-41355412f47a"
      },
      "source": [
        "real_humans_us = us_users[all_users.user_days_spent_watching < 500]\n",
        "real_humans_us.groupby(by='gender').user_days_spent_watching.sum() / 10"
      ],
      "execution_count": 14,
      "outputs": [
        {
          "output_type": "stream",
          "name": "stderr",
          "text": [
            "/usr/local/lib/python3.7/dist-packages/ipykernel_launcher.py:1: UserWarning: Boolean Series key will be reindexed to match DataFrame index.\n",
            "  \"\"\"Entry point for launching an IPython kernel.\n"
          ]
        },
        {
          "output_type": "execute_result",
          "data": {
            "text/plain": [
              "gender\n",
              "Female        22673.871711\n",
              "Male          78756.875269\n",
              "Non-Binary      487.974410\n",
              "Name: user_days_spent_watching, dtype: float64"
            ]
          },
          "metadata": {},
          "execution_count": 14
        }
      ]
    },
    {
      "cell_type": "code",
      "metadata": {
        "colab": {
          "base_uri": "https://localhost:8080/"
        },
        "id": "DpbwR6i84mg5",
        "outputId": "149b69d3-ad0f-42ad-91ad-dc6e48b61086"
      },
      "source": [
        "users_train.groupby(by='gender')['username'].count() / len(users_train)"
      ],
      "execution_count": 15,
      "outputs": [
        {
          "output_type": "execute_result",
          "data": {
            "text/plain": [
              "gender\n",
              "Female        0.318798\n",
              "Male          0.676401\n",
              "Non-Binary    0.004801\n",
              "Name: username, dtype: float64"
            ]
          },
          "metadata": {},
          "execution_count": 15
        }
      ]
    },
    {
      "cell_type": "code",
      "metadata": {
        "colab": {
          "base_uri": "https://localhost:8080/",
          "height": 143
        },
        "id": "cba9_ZnE40Gu",
        "outputId": "9103b882-f92b-4756-f98f-b50fbc64fd3c"
      },
      "source": [
        "gender_proportions_usa = pd.DataFrame({\"Proportion\" : us_users.groupby(by='gender')['username'].count() / len(us_users)})\n",
        "gender_proportions_usa[\"Country\"] = [\"USA\", \"USA\", \"USA\"]\n",
        "gender_proportions_usa.reset_index(inplace=True)\n",
        "gender_proportions_usa"
      ],
      "execution_count": 16,
      "outputs": [
        {
          "output_type": "execute_result",
          "data": {
            "text/html": [
              "<div>\n",
              "<style scoped>\n",
              "    .dataframe tbody tr th:only-of-type {\n",
              "        vertical-align: middle;\n",
              "    }\n",
              "\n",
              "    .dataframe tbody tr th {\n",
              "        vertical-align: top;\n",
              "    }\n",
              "\n",
              "    .dataframe thead th {\n",
              "        text-align: right;\n",
              "    }\n",
              "</style>\n",
              "<table border=\"1\" class=\"dataframe\">\n",
              "  <thead>\n",
              "    <tr style=\"text-align: right;\">\n",
              "      <th></th>\n",
              "      <th>gender</th>\n",
              "      <th>Proportion</th>\n",
              "      <th>Country</th>\n",
              "    </tr>\n",
              "  </thead>\n",
              "  <tbody>\n",
              "    <tr>\n",
              "      <th>0</th>\n",
              "      <td>Female</td>\n",
              "      <td>0.319179</td>\n",
              "      <td>USA</td>\n",
              "    </tr>\n",
              "    <tr>\n",
              "      <th>1</th>\n",
              "      <td>Male</td>\n",
              "      <td>0.676401</td>\n",
              "      <td>USA</td>\n",
              "    </tr>\n",
              "    <tr>\n",
              "      <th>2</th>\n",
              "      <td>Non-Binary</td>\n",
              "      <td>0.004420</td>\n",
              "      <td>USA</td>\n",
              "    </tr>\n",
              "  </tbody>\n",
              "</table>\n",
              "</div>"
            ],
            "text/plain": [
              "       gender  Proportion Country\n",
              "0      Female    0.319179     USA\n",
              "1        Male    0.676401     USA\n",
              "2  Non-Binary    0.004420     USA"
            ]
          },
          "metadata": {},
          "execution_count": 16
        }
      ]
    },
    {
      "cell_type": "code",
      "metadata": {
        "colab": {
          "base_uri": "https://localhost:8080/",
          "height": 143
        },
        "id": "DSxQJeHq5U8b",
        "outputId": "507d4c3a-c92f-456b-9beb-319d16d3a059"
      },
      "source": [
        "gender_proportions_int = pd.DataFrame({\"Proportion\" : all_users.groupby(by='gender')['username'].count() / len(all_users)})\n",
        "gender_proportions_int[\"Country\"] = [\"International\", \"International\", \"International\"]\n",
        "gender_proportions_int.reset_index(inplace=True)\n",
        "gender_proportions_int"
      ],
      "execution_count": 17,
      "outputs": [
        {
          "output_type": "execute_result",
          "data": {
            "text/html": [
              "<div>\n",
              "<style scoped>\n",
              "    .dataframe tbody tr th:only-of-type {\n",
              "        vertical-align: middle;\n",
              "    }\n",
              "\n",
              "    .dataframe tbody tr th {\n",
              "        vertical-align: top;\n",
              "    }\n",
              "\n",
              "    .dataframe thead th {\n",
              "        text-align: right;\n",
              "    }\n",
              "</style>\n",
              "<table border=\"1\" class=\"dataframe\">\n",
              "  <thead>\n",
              "    <tr style=\"text-align: right;\">\n",
              "      <th></th>\n",
              "      <th>gender</th>\n",
              "      <th>Proportion</th>\n",
              "      <th>Country</th>\n",
              "    </tr>\n",
              "  </thead>\n",
              "  <tbody>\n",
              "    <tr>\n",
              "      <th>0</th>\n",
              "      <td>Female</td>\n",
              "      <td>0.343388</td>\n",
              "      <td>International</td>\n",
              "    </tr>\n",
              "    <tr>\n",
              "      <th>1</th>\n",
              "      <td>Male</td>\n",
              "      <td>0.651995</td>\n",
              "      <td>International</td>\n",
              "    </tr>\n",
              "    <tr>\n",
              "      <th>2</th>\n",
              "      <td>Non-Binary</td>\n",
              "      <td>0.004609</td>\n",
              "      <td>International</td>\n",
              "    </tr>\n",
              "  </tbody>\n",
              "</table>\n",
              "</div>"
            ],
            "text/plain": [
              "       gender  Proportion        Country\n",
              "0      Female    0.343388  International\n",
              "1        Male    0.651995  International\n",
              "2  Non-Binary    0.004609  International"
            ]
          },
          "metadata": {},
          "execution_count": 17
        }
      ]
    },
    {
      "cell_type": "code",
      "metadata": {
        "colab": {
          "base_uri": "https://localhost:8080/",
          "height": 237
        },
        "id": "xVN2Doxd5-n9",
        "outputId": "3ec6803a-fce6-47dd-9552-2d70981ecd0d"
      },
      "source": [
        "gender_proportions = pd.concat([gender_proportions_usa, gender_proportions_int], axis=0)\n",
        "gender_proportions"
      ],
      "execution_count": 18,
      "outputs": [
        {
          "output_type": "execute_result",
          "data": {
            "text/html": [
              "<div>\n",
              "<style scoped>\n",
              "    .dataframe tbody tr th:only-of-type {\n",
              "        vertical-align: middle;\n",
              "    }\n",
              "\n",
              "    .dataframe tbody tr th {\n",
              "        vertical-align: top;\n",
              "    }\n",
              "\n",
              "    .dataframe thead th {\n",
              "        text-align: right;\n",
              "    }\n",
              "</style>\n",
              "<table border=\"1\" class=\"dataframe\">\n",
              "  <thead>\n",
              "    <tr style=\"text-align: right;\">\n",
              "      <th></th>\n",
              "      <th>gender</th>\n",
              "      <th>Proportion</th>\n",
              "      <th>Country</th>\n",
              "    </tr>\n",
              "  </thead>\n",
              "  <tbody>\n",
              "    <tr>\n",
              "      <th>0</th>\n",
              "      <td>Female</td>\n",
              "      <td>0.319179</td>\n",
              "      <td>USA</td>\n",
              "    </tr>\n",
              "    <tr>\n",
              "      <th>1</th>\n",
              "      <td>Male</td>\n",
              "      <td>0.676401</td>\n",
              "      <td>USA</td>\n",
              "    </tr>\n",
              "    <tr>\n",
              "      <th>2</th>\n",
              "      <td>Non-Binary</td>\n",
              "      <td>0.004420</td>\n",
              "      <td>USA</td>\n",
              "    </tr>\n",
              "    <tr>\n",
              "      <th>0</th>\n",
              "      <td>Female</td>\n",
              "      <td>0.343388</td>\n",
              "      <td>International</td>\n",
              "    </tr>\n",
              "    <tr>\n",
              "      <th>1</th>\n",
              "      <td>Male</td>\n",
              "      <td>0.651995</td>\n",
              "      <td>International</td>\n",
              "    </tr>\n",
              "    <tr>\n",
              "      <th>2</th>\n",
              "      <td>Non-Binary</td>\n",
              "      <td>0.004609</td>\n",
              "      <td>International</td>\n",
              "    </tr>\n",
              "  </tbody>\n",
              "</table>\n",
              "</div>"
            ],
            "text/plain": [
              "       gender  Proportion        Country\n",
              "0      Female    0.319179            USA\n",
              "1        Male    0.676401            USA\n",
              "2  Non-Binary    0.004420            USA\n",
              "0      Female    0.343388  International\n",
              "1        Male    0.651995  International\n",
              "2  Non-Binary    0.004609  International"
            ]
          },
          "metadata": {},
          "execution_count": 18
        }
      ]
    },
    {
      "cell_type": "code",
      "metadata": {
        "colab": {
          "base_uri": "https://localhost:8080/",
          "height": 517
        },
        "id": "7mIZWOXW6GVy",
        "outputId": "0bc8672d-3067-4054-9cad-f6896db860ff"
      },
      "source": [
        "sns.set(rc = {'figure.figsize':(15,8)})\n",
        "p = sns.barplot(x = 'gender', y = 'Proportion', hue='Country', data=gender_proportions)\n",
        "p.set( xlabel = \"Gender\", ylabel = \"Proportion\", title='Proportion of Users by Gender')\n",
        "plt.savefig('users_by_gender.png')\n",
        "plt.show()"
      ],
      "execution_count": 21,
      "outputs": [
        {
          "output_type": "display_data",
          "data": {
            "image/png": "[encoded data removed]",
            "text/plain": [
              "<Figure size 1080x576 with 1 Axes>"
            ]
          },
          "metadata": {}
        }
      ]
    },
    {
      "cell_type": "code",
      "metadata": {
        "colab": {
          "base_uri": "https://localhost:8080/",
          "height": 143
        },
        "id": "aNoo-6Ul61Xu",
        "outputId": "05c9e034-e09b-4b81-a9f4-5e08094d1f76"
      },
      "source": [
        "time_proportions_usa = pd.DataFrame({\"Proportion of Time Watched\" : us_users.groupby(by='gender').user_days_spent_watching.sum() / us_users.user_days_spent_watching.sum()})\n",
        "time_proportions_usa[\"Country\"] = [\"USA\", \"USA\", \"USA\"]\n",
        "time_proportions_usa.reset_index(inplace=True)\n",
        "time_proportions_usa"
      ],
      "execution_count": 22,
      "outputs": [
        {
          "output_type": "execute_result",
          "data": {
            "text/html": [
              "<div>\n",
              "<style scoped>\n",
              "    .dataframe tbody tr th:only-of-type {\n",
              "        vertical-align: middle;\n",
              "    }\n",
              "\n",
              "    .dataframe tbody tr th {\n",
              "        vertical-align: top;\n",
              "    }\n",
              "\n",
              "    .dataframe thead th {\n",
              "        text-align: right;\n",
              "    }\n",
              "</style>\n",
              "<table border=\"1\" class=\"dataframe\">\n",
              "  <thead>\n",
              "    <tr style=\"text-align: right;\">\n",
              "      <th></th>\n",
              "      <th>gender</th>\n",
              "      <th>Proportion of Time Watched</th>\n",
              "      <th>Country</th>\n",
              "    </tr>\n",
              "  </thead>\n",
              "  <tbody>\n",
              "    <tr>\n",
              "      <th>0</th>\n",
              "      <td>Female</td>\n",
              "      <td>0.222382</td>\n",
              "      <td>USA</td>\n",
              "    </tr>\n",
              "    <tr>\n",
              "      <th>1</th>\n",
              "      <td>Male</td>\n",
              "      <td>0.772834</td>\n",
              "      <td>USA</td>\n",
              "    </tr>\n",
              "    <tr>\n",
              "      <th>2</th>\n",
              "      <td>Non-Binary</td>\n",
              "      <td>0.004784</td>\n",
              "      <td>USA</td>\n",
              "    </tr>\n",
              "  </tbody>\n",
              "</table>\n",
              "</div>"
            ],
            "text/plain": [
              "       gender  Proportion of Time Watched Country\n",
              "0      Female                    0.222382     USA\n",
              "1        Male                    0.772834     USA\n",
              "2  Non-Binary                    0.004784     USA"
            ]
          },
          "metadata": {},
          "execution_count": 22
        }
      ]
    },
    {
      "cell_type": "code",
      "metadata": {
        "colab": {
          "base_uri": "https://localhost:8080/",
          "height": 143
        },
        "id": "l9jUm3r78gX1",
        "outputId": "93ba40df-5387-477f-d301-8d9be05f8637"
      },
      "source": [
        "time_proportions_int = pd.DataFrame({\"Proportion of Time Watched\" : all_users.groupby(by='gender').user_days_spent_watching.sum() / all_users.user_days_spent_watching.sum()})\n",
        "time_proportions_int[\"Country\"] = [\"International\", \"International\", \"International\"]\n",
        "time_proportions_int.reset_index(inplace=True)\n",
        "time_proportions_int"
      ],
      "execution_count": 23,
      "outputs": [
        {
          "output_type": "execute_result",
          "data": {
            "text/html": [
              "<div>\n",
              "<style scoped>\n",
              "    .dataframe tbody tr th:only-of-type {\n",
              "        vertical-align: middle;\n",
              "    }\n",
              "\n",
              "    .dataframe tbody tr th {\n",
              "        vertical-align: top;\n",
              "    }\n",
              "\n",
              "    .dataframe thead th {\n",
              "        text-align: right;\n",
              "    }\n",
              "</style>\n",
              "<table border=\"1\" class=\"dataframe\">\n",
              "  <thead>\n",
              "    <tr style=\"text-align: right;\">\n",
              "      <th></th>\n",
              "      <th>gender</th>\n",
              "      <th>Proportion of Time Watched</th>\n",
              "      <th>Country</th>\n",
              "    </tr>\n",
              "  </thead>\n",
              "  <tbody>\n",
              "    <tr>\n",
              "      <th>0</th>\n",
              "      <td>Female</td>\n",
              "      <td>0.261852</td>\n",
              "      <td>International</td>\n",
              "    </tr>\n",
              "    <tr>\n",
              "      <th>1</th>\n",
              "      <td>Male</td>\n",
              "      <td>0.733399</td>\n",
              "      <td>International</td>\n",
              "    </tr>\n",
              "    <tr>\n",
              "      <th>2</th>\n",
              "      <td>Non-Binary</td>\n",
              "      <td>0.004749</td>\n",
              "      <td>International</td>\n",
              "    </tr>\n",
              "  </tbody>\n",
              "</table>\n",
              "</div>"
            ],
            "text/plain": [
              "       gender  Proportion of Time Watched        Country\n",
              "0      Female                    0.261852  International\n",
              "1        Male                    0.733399  International\n",
              "2  Non-Binary                    0.004749  International"
            ]
          },
          "metadata": {},
          "execution_count": 23
        }
      ]
    },
    {
      "cell_type": "code",
      "metadata": {
        "colab": {
          "base_uri": "https://localhost:8080/",
          "height": 237
        },
        "id": "vsUGPRgf8ouW",
        "outputId": "1236fcaa-83de-4d74-ef63-8ea4a3196cfa"
      },
      "source": [
        "time_proportions = pd.concat([time_proportions_usa, time_proportions_int], axis=0)\n",
        "time_proportions"
      ],
      "execution_count": 24,
      "outputs": [
        {
          "output_type": "execute_result",
          "data": {
            "text/html": [
              "<div>\n",
              "<style scoped>\n",
              "    .dataframe tbody tr th:only-of-type {\n",
              "        vertical-align: middle;\n",
              "    }\n",
              "\n",
              "    .dataframe tbody tr th {\n",
              "        vertical-align: top;\n",
              "    }\n",
              "\n",
              "    .dataframe thead th {\n",
              "        text-align: right;\n",
              "    }\n",
              "</style>\n",
              "<table border=\"1\" class=\"dataframe\">\n",
              "  <thead>\n",
              "    <tr style=\"text-align: right;\">\n",
              "      <th></th>\n",
              "      <th>gender</th>\n",
              "      <th>Proportion of Time Watched</th>\n",
              "      <th>Country</th>\n",
              "    </tr>\n",
              "  </thead>\n",
              "  <tbody>\n",
              "    <tr>\n",
              "      <th>0</th>\n",
              "      <td>Female</td>\n",
              "      <td>0.222382</td>\n",
              "      <td>USA</td>\n",
              "    </tr>\n",
              "    <tr>\n",
              "      <th>1</th>\n",
              "      <td>Male</td>\n",
              "      <td>0.772834</td>\n",
              "      <td>USA</td>\n",
              "    </tr>\n",
              "    <tr>\n",
              "      <th>2</th>\n",
              "      <td>Non-Binary</td>\n",
              "      <td>0.004784</td>\n",
              "      <td>USA</td>\n",
              "    </tr>\n",
              "    <tr>\n",
              "      <th>0</th>\n",
              "      <td>Female</td>\n",
              "      <td>0.261852</td>\n",
              "      <td>International</td>\n",
              "    </tr>\n",
              "    <tr>\n",
              "      <th>1</th>\n",
              "      <td>Male</td>\n",
              "      <td>0.733399</td>\n",
              "      <td>International</td>\n",
              "    </tr>\n",
              "    <tr>\n",
              "      <th>2</th>\n",
              "      <td>Non-Binary</td>\n",
              "      <td>0.004749</td>\n",
              "      <td>International</td>\n",
              "    </tr>\n",
              "  </tbody>\n",
              "</table>\n",
              "</div>"
            ],
            "text/plain": [
              "       gender  Proportion of Time Watched        Country\n",
              "0      Female                    0.222382            USA\n",
              "1        Male                    0.772834            USA\n",
              "2  Non-Binary                    0.004784            USA\n",
              "0      Female                    0.261852  International\n",
              "1        Male                    0.733399  International\n",
              "2  Non-Binary                    0.004749  International"
            ]
          },
          "metadata": {},
          "execution_count": 24
        }
      ]
    },
    {
      "cell_type": "code",
      "metadata": {
        "colab": {
          "base_uri": "https://localhost:8080/",
          "height": 517
        },
        "id": "GM0jEMjI8yid",
        "outputId": "0efd1a67-5429-4356-ad98-46c351d216c1"
      },
      "source": [
        "sns.set(rc = {'figure.figsize':(15,8)})\n",
        "p = sns.barplot(x = 'gender', y = 'Proportion of Time Watched', hue='Country', data=time_proportions)\n",
        "p.set( xlabel = \"Gender\", ylabel = \"Proportion\", title='Proportion of Total Time Watched by Gender')\n",
        "plt.savefig('time_watched_by_gender.png')\n",
        "plt.show()"
      ],
      "execution_count": 26,
      "outputs": [
        {
          "output_type": "display_data",
          "data": {
            "image/png": "[encoded data removed]",
            "text/plain": [
              "<Figure size 1080x576 with 1 Axes>"
            ]
          },
          "metadata": {}
        }
      ]
    },
    {
      "cell_type": "code",
      "metadata": {
        "id": "0t8rY4kx85bf"
      },
      "source": [
        ""
      ],
      "execution_count": null,
      "outputs": []
    }
  ]
}