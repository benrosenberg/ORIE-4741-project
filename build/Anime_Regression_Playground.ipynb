{
  "nbformat": 4,
  "nbformat_minor": 0,
  "metadata": {
    "colab": {
      "name": "Anime Regression Playground.ipynb",
      "provenance": [],
      "collapsed_sections": []
    },
    "kernelspec": {
      "name": "python3",
      "display_name": "Python 3"
    },
    "language_info": {
      "name": "python"
    }
  },
  "cells": [
    {
      "cell_type": "code",
      "metadata": {
        "id": "Un9gfcdN24W7"
      },
      "source": [
        "import pandas as pd\n",
        "import numpy as np\n",
        "import matplotlib.pyplot as plt\n",
        "import statsmodels.api as sm\n",
        "from sklearn.linear_model import LinearRegression\n",
        "import sklearn"
      ],
      "execution_count": 57,
      "outputs": []
    },
    {
      "cell_type": "code",
      "metadata": {
        "colab": {
          "base_uri": "https://localhost:8080/"
        },
        "id": "Qyuu4fT22mQx",
        "outputId": "772df267-4116-4c4b-e101-51db0b34f802"
      },
      "source": [
        "! git clone https://github.com/benrosenberg/ORIE-4741-project.git"
      ],
      "execution_count": 2,
      "outputs": [
        {
          "output_type": "stream",
          "name": "stdout",
          "text": [
            "Cloning into 'ORIE-4741-project'...\n",
            "remote: Enumerating objects: 67, done.\u001b[K\n",
            "remote: Counting objects: 100% (67/67), done.\u001b[K\n",
            "remote: Compressing objects: 100% (58/58), done.\u001b[K\n",
            "remote: Total 67 (delta 19), reused 18 (delta 3), pack-reused 0\u001b[K\n",
            "Unpacking objects: 100% (67/67), done.\n"
          ]
        }
      ]
    },
    {
      "cell_type": "code",
      "metadata": {
        "id": "OJ6nw8uq2zPU"
      },
      "source": [
        "users_train = pd.read_csv(\"/content/ORIE-4741-project/datasets/training_users_list.csv\")\n",
        "users_test = pd.read_csv(\"/content/ORIE-4741-project/datasets/testing_users_list.csv\")"
      ],
      "execution_count": 16,
      "outputs": []
    },
    {
      "cell_type": "markdown",
      "metadata": {
        "id": "mVQT0OllD7xQ"
      },
      "source": [
        "Try without dummy variables to get a more simplified model"
      ]
    },
    {
      "cell_type": "code",
      "metadata": {
        "id": "PQCxffMw6zuN"
      },
      "source": [
        "# feature engineering\n",
        "users_train[\"year_last_online\"] = pd.to_datetime(users_train.last_online).apply(lambda date: date.year)\n",
        "# drop columns that have no value or are completely null\n",
        "X_train_no_dummies = users_train.drop(['Unnamed: 0', 'username', 'birth_date', 'user_id', 'join_date', 'last_online', 'access_rank'], axis=1)\n",
        "# drop columns we expect to be overcorrelated\n",
        "X_train_no_dummies = X_train_no_dummies.drop(['stats_episodes'], axis=1)\n",
        "# drop feature column\n",
        "X_train_no_dummies = X_train_no_dummies.drop(['user_days_spent_watching'], axis=1)\n",
        "# drop categorical \n",
        "X_train_no_dummies = X_train_no_dummies.drop(['gender', 'location'], axis=1)\n",
        "# fill na values with their average value in the column\n",
        "X_train_no_dummies = X_train_no_dummies.fillna(X_train_no_dummies.mean())\n",
        "\n",
        "\n",
        "y_train_no_dummies = users_train.user_days_spent_watching"
      ],
      "execution_count": 44,
      "outputs": []
    },
    {
      "cell_type": "code",
      "metadata": {
        "id": "Xbrzixgr6zya",
        "colab": {
          "base_uri": "https://localhost:8080/"
        },
        "outputId": "397a3c03-5363-49da-bc3c-138e30e5101f"
      },
      "source": [
        "no_dummies_model = sm.OLS(y_train_no_dummies, X_train_no_dummies).fit()\n",
        "w_no_dummies = no_dummies_model.params\n",
        "print(w_no_dummies)"
      ],
      "execution_count": 45,
      "outputs": [
        {
          "output_type": "stream",
          "name": "stdout",
          "text": [
            "user_watching      -0.001327\n",
            "user_completed      0.230240\n",
            "user_onhold        -0.023962\n",
            "user_dropped        0.010255\n",
            "user_plantowatch   -0.010366\n",
            "stats_mean_score    0.260649\n",
            "stats_rewatched     0.000309\n",
            "join_year          -1.549046\n",
            "age                -0.124907\n",
            "year_last_online    1.554855\n",
            "dtype: float64\n"
          ]
        }
      ]
    },
    {
      "cell_type": "code",
      "metadata": {
        "id": "biTFZim86z2U",
        "colab": {
          "base_uri": "https://localhost:8080/"
        },
        "outputId": "9dd71c40-df7f-416d-a949-09e92c6c2df4"
      },
      "source": [
        "print(no_dummies_model.summary())"
      ],
      "execution_count": 46,
      "outputs": [
        {
          "output_type": "stream",
          "name": "stdout",
          "text": [
            "                                    OLS Regression Results                                   \n",
            "=============================================================================================\n",
            "Dep. Variable:     user_days_spent_watching   R-squared (uncentered):                   0.919\n",
            "Model:                                  OLS   Adj. R-squared (uncentered):              0.919\n",
            "Method:                       Least Squares   F-statistic:                          1.729e+04\n",
            "Date:                      Wed, 27 Oct 2021   Prob (F-statistic):                        0.00\n",
            "Time:                              23:26:51   Log-Likelihood:                         -68452.\n",
            "No. Observations:                     15204   AIC:                                  1.369e+05\n",
            "Df Residuals:                         15194   BIC:                                  1.370e+05\n",
            "Df Model:                                10                                                  \n",
            "Covariance Type:                  nonrobust                                                  \n",
            "====================================================================================\n",
            "                       coef    std err          t      P>|t|      [0.025      0.975]\n",
            "------------------------------------------------------------------------------------\n",
            "user_watching       -0.0013      0.005     -0.253      0.800      -0.012       0.009\n",
            "user_completed       0.2302      0.001    226.838      0.000       0.228       0.232\n",
            "user_onhold         -0.0240      0.006     -3.699      0.000      -0.037      -0.011\n",
            "user_dropped         0.0103      0.006      1.786      0.074      -0.001       0.022\n",
            "user_plantowatch    -0.0104      0.001     -9.110      0.000      -0.013      -0.008\n",
            "stats_mean_score     0.2606      0.124      2.110      0.035       0.019       0.503\n",
            "stats_rewatched      0.0003      0.002      0.160      0.873      -0.003       0.004\n",
            "join_year           -1.5490      0.066    -23.344      0.000      -1.679      -1.419\n",
            "age                 -0.1249      0.038     -3.307      0.001      -0.199      -0.051\n",
            "year_last_online     1.5549      0.066     23.426      0.000       1.425       1.685\n",
            "==============================================================================\n",
            "Omnibus:                     5069.851   Durbin-Watson:                   1.992\n",
            "Prob(Omnibus):                  0.000   Jarque-Bera (JB):           408670.288\n",
            "Skew:                          -0.693   Prob(JB):                         0.00\n",
            "Kurtosis:                      28.361   Cond. No.                     1.99e+03\n",
            "==============================================================================\n",
            "\n",
            "Warnings:\n",
            "[1] Standard Errors assume that the covariance matrix of the errors is correctly specified.\n",
            "[2] The condition number is large, 1.99e+03. This might indicate that there are\n",
            "strong multicollinearity or other numerical problems.\n"
          ]
        }
      ]
    },
    {
      "cell_type": "code",
      "metadata": {
        "id": "cfzqJXcG6z6L"
      },
      "source": [
        "# feature engineering\n",
        "users_test[\"year_last_online\"] = pd.to_datetime(users_test.last_online).apply(lambda date: date.year)\n",
        "# drop columns that have no value or \n",
        "X_test_no_dummies = users_test.drop(['Unnamed: 0', 'username', 'birth_date', 'user_id', 'join_date', 'last_online', 'access_rank'], axis=1)\n",
        "# drop columns we expect to be overcorrelated\n",
        "X_test_no_dummies = X_test_no_dummies.drop(['stats_episodes'], axis=1)\n",
        "# drop feature column\n",
        "X_test_no_dummies = X_test_no_dummies.drop(['user_days_spent_watching'], axis=1)\n",
        "# drop categorical \n",
        "X_test_no_dummies = X_test_no_dummies.drop(['gender', 'location'], axis=1)\n",
        "# fill na values with their average value in the column\n",
        "X_test_no_dummies = X_test_no_dummies.fillna(X_test.mean())\n",
        "\n",
        "y_test_no_dummies = users_test.user_days_spent_watching"
      ],
      "execution_count": 47,
      "outputs": []
    },
    {
      "cell_type": "code",
      "metadata": {
        "id": "CXQ-BZDT3Boo",
        "colab": {
          "base_uri": "https://localhost:8080/"
        },
        "outputId": "c3ab708b-2e8e-4abf-9e0d-29541384e11d"
      },
      "source": [
        "y_pred_no_dummies = no_dummies_model.predict(X_test_no_dummies)\n",
        "print('The MSE of our simplified model is', sklearn.metrics.mean_squared_error(y_test_no_dummies, y_pred_no_dummies))"
      ],
      "execution_count": 56,
      "outputs": [
        {
          "output_type": "stream",
          "name": "stdout",
          "text": [
            "The MSE of our simplified model is 448.48880098922444\n"
          ]
        }
      ]
    },
    {
      "cell_type": "markdown",
      "metadata": {
        "id": "cjlexrehD2H6"
      },
      "source": [
        "Now try creating dummy variables so we don't lose the power of our categorical variables. "
      ]
    },
    {
      "cell_type": "code",
      "metadata": {
        "id": "uTuDR_y-4Dry"
      },
      "source": [
        "# feature engineering\n",
        "users_train[\"year_last_online\"] = pd.to_datetime(users_train.last_online).apply(lambda date: date.year)\n",
        "# drop columns that have no value or are completely null\n",
        "X_train = users_train.drop(['Unnamed: 0', 'username', 'birth_date', 'user_id', 'join_date', 'last_online', 'access_rank'], axis=1)\n",
        "# drop columns we expect to be overcorrelated\n",
        "X_train = X_train.drop(['stats_episodes'], axis=1)\n",
        "# drop feature column\n",
        "X_train = X_train.drop(['user_days_spent_watching'], axis=1)\n",
        "# create dummies\n",
        "X_train = pd.get_dummies(X_train)\n",
        "# fill na values with their average value in the column\n",
        "X_train = X_train.fillna(X_train.mean())\n",
        "\n",
        "\n",
        "y_train = users_train.user_days_spent_watching"
      ],
      "execution_count": 49,
      "outputs": []
    },
    {
      "cell_type": "code",
      "metadata": {
        "colab": {
          "base_uri": "https://localhost:8080/"
        },
        "id": "zuPnekL18Ry7",
        "outputId": "dfe06afe-6fb1-46f4-a3b0-7b4ab39e208b"
      },
      "source": [
        "model = sm.OLS(y_train, X_train).fit()\n",
        "w = model.params\n",
        "print(w)"
      ],
      "execution_count": 50,
      "outputs": [
        {
          "output_type": "stream",
          "name": "stdout",
          "text": [
            "user_watching       -0.002608\n",
            "user_completed       0.227981\n",
            "user_onhold         -0.021432\n",
            "user_dropped         0.011228\n",
            "user_plantowatch    -0.010295\n",
            "                      ...    \n",
            "location_VT        -24.275407\n",
            "location_WA        -31.763535\n",
            "location_WI        -32.755475\n",
            "location_WV        -34.510741\n",
            "location_WY        -28.993112\n",
            "Length: 64, dtype: float64\n"
          ]
        }
      ]
    },
    {
      "cell_type": "code",
      "metadata": {
        "colab": {
          "base_uri": "https://localhost:8080/"
        },
        "id": "rnixbA0N9brv",
        "outputId": "a5b5794a-0e8a-40f6-e4fa-2ab656cc56ec"
      },
      "source": [
        "print(model.summary())"
      ],
      "execution_count": 51,
      "outputs": [
        {
          "output_type": "stream",
          "name": "stdout",
          "text": [
            "                               OLS Regression Results                               \n",
            "====================================================================================\n",
            "Dep. Variable:     user_days_spent_watching   R-squared:                       0.844\n",
            "Model:                                  OLS   Adj. R-squared:                  0.843\n",
            "Method:                       Least Squares   F-statistic:                     1323.\n",
            "Date:                      Wed, 27 Oct 2021   Prob (F-statistic):               0.00\n",
            "Time:                              23:26:54   Log-Likelihood:                -68316.\n",
            "No. Observations:                     15204   AIC:                         1.368e+05\n",
            "Df Residuals:                         15141   BIC:                         1.372e+05\n",
            "Df Model:                                62                                         \n",
            "Covariance Type:                  nonrobust                                         \n",
            "=====================================================================================\n",
            "                        coef    std err          t      P>|t|      [0.025      0.975]\n",
            "-------------------------------------------------------------------------------------\n",
            "user_watching        -0.0026      0.005     -0.500      0.617      -0.013       0.008\n",
            "user_completed        0.2280      0.001    221.220      0.000       0.226       0.230\n",
            "user_onhold          -0.0214      0.006     -3.324      0.001      -0.034      -0.009\n",
            "user_dropped          0.0112      0.006      1.965      0.049    2.96e-05       0.022\n",
            "user_plantowatch     -0.0103      0.001     -9.052      0.000      -0.013      -0.008\n",
            "stats_mean_score      0.3365      0.123      2.725      0.006       0.094       0.579\n",
            "stats_rewatched       0.0009      0.002      0.452      0.652      -0.003       0.005\n",
            "join_year            -1.3499      0.088    -15.279      0.000      -1.523      -1.177\n",
            "age                  -0.0583      0.044     -1.324      0.186      -0.145       0.028\n",
            "year_last_online      1.6292      0.073     22.410      0.000       1.487       1.772\n",
            "gender_Female      -525.1067    170.119     -3.087      0.002    -858.561    -191.652\n",
            "gender_Male        -520.4540    170.185     -3.058      0.002    -854.037    -186.871\n",
            "gender_Non-Binary  -533.7474    170.328     -3.134      0.002    -867.611    -199.884\n",
            "location_AK         -28.0923     10.534     -2.667      0.008     -48.741      -7.444\n",
            "location_AL         -31.6705     10.145     -3.122      0.002     -51.557     -11.784\n",
            "location_AR         -29.8585     10.331     -2.890      0.004     -50.108      -9.609\n",
            "location_AZ         -30.7735     10.064     -3.058      0.002     -50.499     -11.047\n",
            "location_CA         -30.3241     10.014     -3.028      0.002     -49.952     -10.696\n",
            "location_CO         -31.1407     10.130     -3.074      0.002     -50.998     -11.284\n",
            "location_CT         -28.0149     10.158     -2.758      0.006     -47.925      -8.104\n",
            "location_DC         -34.1020     10.660     -3.199      0.001     -54.997     -13.207\n",
            "location_DE         -29.0707     10.470     -2.777      0.006     -49.593      -8.548\n",
            "location_FL         -27.9053     10.029     -2.783      0.005     -47.563      -8.248\n",
            "location_GA         -29.4684     10.054     -2.931      0.003     -49.175      -9.762\n",
            "location_HI         -31.5299     10.205     -3.090      0.002     -51.533     -11.527\n",
            "location_IA         -36.2882     10.224     -3.549      0.000     -56.329     -16.247\n",
            "location_ID         -33.4779     10.372     -3.228      0.001     -53.808     -13.148\n",
            "location_IL         -31.7431     10.049     -3.159      0.002     -51.440     -12.046\n",
            "location_IN         -34.9076     10.101     -3.456      0.001     -54.707     -15.108\n",
            "location_KS         -30.6237     10.223     -2.995      0.003     -50.663     -10.585\n",
            "location_KY         -30.3213     10.168     -2.982      0.003     -50.251     -10.392\n",
            "location_LA         -29.8469     10.132     -2.946      0.003     -49.707      -9.987\n",
            "location_MA         -30.3794     10.060     -3.020      0.003     -50.099     -10.660\n",
            "location_MD         -30.4184     10.073     -3.020      0.003     -50.162     -10.675\n",
            "location_ME         -33.3112     10.394     -3.205      0.001     -53.684     -12.938\n",
            "location_MI         -31.3539     10.070     -3.113      0.002     -51.093     -11.615\n",
            "location_MN         -31.5593     10.100     -3.125      0.002     -51.356     -11.762\n",
            "location_MO         -28.6186     10.159     -2.817      0.005     -48.532      -8.705\n",
            "location_MS         -27.7025     10.271     -2.697      0.007     -47.836      -7.569\n",
            "location_MT         -38.3265     11.021     -3.478      0.001     -59.929     -16.724\n",
            "location_NC         -30.0752     10.070     -2.987      0.003     -49.813     -10.338\n",
            "location_ND         -32.4942     10.758     -3.021      0.003     -53.580     -11.408\n",
            "location_NE         -31.0667     10.341     -3.004      0.003     -51.336     -10.797\n",
            "location_NH         -32.5087     10.423     -3.119      0.002     -52.939     -12.078\n",
            "location_NJ         -29.7422     10.052     -2.959      0.003     -49.445     -10.039\n",
            "location_NM         -33.0146     10.409     -3.172      0.002     -53.417     -12.612\n",
            "location_NV         -28.0275     10.118     -2.770      0.006     -47.860      -8.195\n",
            "location_NY         -28.3524     10.015     -2.831      0.005     -47.984      -8.721\n",
            "location_OH         -32.5645     10.058     -3.238      0.001     -52.280     -12.849\n",
            "location_OK         -33.1946     10.196     -3.256      0.001     -53.180     -13.209\n",
            "location_OR         -29.5400     10.115     -2.920      0.004     -49.367      -9.713\n",
            "location_PA         -32.7357     10.056     -3.255      0.001     -52.447     -13.024\n",
            "location_RI         -27.0042     10.433     -2.588      0.010     -47.455      -6.554\n",
            "location_SC         -30.8379     10.203     -3.022      0.003     -50.837     -10.839\n",
            "location_SD         -32.3727     11.065     -2.926      0.003     -54.062     -10.684\n",
            "location_TN         -31.1265     10.129     -3.073      0.002     -50.980     -11.273\n",
            "location_TX         -29.6340     10.041     -2.951      0.003     -49.316      -9.952\n",
            "location_UT         -30.4198     10.212     -2.979      0.003     -50.436     -10.404\n",
            "location_VA         -31.4693     10.073     -3.124      0.002     -51.213     -11.726\n",
            "location_VT         -24.2754     10.976     -2.212      0.027     -45.789      -2.762\n",
            "location_WA         -31.7635     10.055     -3.159      0.002     -51.472     -12.055\n",
            "location_WI         -32.7555     10.099     -3.243      0.001     -52.551     -12.960\n",
            "location_WV         -34.5107     10.514     -3.282      0.001     -55.120     -13.902\n",
            "location_WY         -28.9931     11.718     -2.474      0.013     -51.963      -6.024\n",
            "==============================================================================\n",
            "Omnibus:                     4984.867   Durbin-Watson:                   1.995\n",
            "Prob(Omnibus):                  0.000   Jarque-Bera (JB):           404944.446\n",
            "Skew:                          -0.661   Prob(JB):                         0.00\n",
            "Kurtosis:                      28.248   Cond. No.                     1.09e+16\n",
            "==============================================================================\n",
            "\n",
            "Warnings:\n",
            "[1] Standard Errors assume that the covariance matrix of the errors is correctly specified.\n",
            "[2] The smallest eigenvalue is 1.04e-21. This might indicate that there are\n",
            "strong multicollinearity problems or that the design matrix is singular.\n"
          ]
        }
      ]
    },
    {
      "cell_type": "code",
      "metadata": {
        "id": "ah6_M95D5XQF"
      },
      "source": [
        "# feature engineering\n",
        "users_test[\"year_last_online\"] = pd.to_datetime(users_test.last_online).apply(lambda date: date.year)\n",
        "# drop columns that have no value or \n",
        "X_test = users_test.drop(['Unnamed: 0', 'username', 'birth_date', 'user_id', 'join_date', 'last_online', 'access_rank'], axis=1)\n",
        "# drop columns we expect to be overcorrelated\n",
        "X_test = X_test.drop(['stats_episodes'], axis=1)\n",
        "# drop feature column\n",
        "X_test = X_test.drop(['user_days_spent_watching'], axis=1)\n",
        "# create dummies\n",
        "X_test = pd.get_dummies(X_test)\n",
        "# fill na values with their average value in the column\n",
        "X_test = X_test.fillna(X_test.mean())\n",
        "\n",
        "y_test = users_test.user_days_spent_watching"
      ],
      "execution_count": 52,
      "outputs": []
    },
    {
      "cell_type": "code",
      "metadata": {
        "colab": {
          "base_uri": "https://localhost:8080/"
        },
        "id": "78qM8lf46ziO",
        "outputId": "defd0840-fe88-4e60-ccba-c88b79654015"
      },
      "source": [
        "y_pred = model.predict(X_test)\n",
        "print('The MSE is of our model with categorical variables is', sklearn.metrics.mean_squared_error(y_test, y_pred))"
      ],
      "execution_count": 55,
      "outputs": [
        {
          "output_type": "stream",
          "name": "stdout",
          "text": [
            "The MSE is of our model with categorical variables is 441.20913294612023\n"
          ]
        }
      ]
    },
    {
      "cell_type": "code",
      "metadata": {
        "id": "qh-LyEOnDa6y"
      },
      "source": [
        ""
      ],
      "execution_count": 53,
      "outputs": []
    }
  ]
}