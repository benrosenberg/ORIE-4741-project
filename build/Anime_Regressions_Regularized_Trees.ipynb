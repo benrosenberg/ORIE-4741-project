{
 "cells": [
  {
   "cell_type": "code",
   "execution_count": 280,
   "metadata": {
    "id": "Un9gfcdN24W7"
   },
   "outputs": [],
   "source": [
    "import pandas as pd\n",
    "import numpy as np\n",
    "import matplotlib.pyplot as plt\n",
    "import statsmodels.api as sm\n",
    "from sklearn.linear_model import LinearRegression, Lasso, Ridge\n",
    "from sklearn.ensemble import RandomForestRegressor, GradientBoostingRegressor\n",
    "import sklearn\n",
    "np.set_printoptions(suppress= True) #decimal formatting"
   ]
  },
  {
   "cell_type": "code",
   "execution_count": 12,
   "metadata": {
    "id": "OJ6nw8uq2zPU"
   },
   "outputs": [],
   "source": [
    "users_train = pd.read_csv(\"training_users_list.csv\")\n",
    "users_test = pd.read_csv(\"testing_users_list.csv\")"
   ]
  },
  {
   "cell_type": "markdown",
   "metadata": {
    "id": "mVQT0OllD7xQ"
   },
   "source": [
    "Try without dummy variables to get a more simplified model"
   ]
  },
  {
   "cell_type": "code",
   "execution_count": 13,
   "metadata": {
    "id": "PQCxffMw6zuN"
   },
   "outputs": [],
   "source": [
    "# feature engineering\n",
    "users_train[\"year_last_online\"] = pd.to_datetime(users_train.last_online).apply(lambda date: date.year)\n",
    "# drop columns that have no value or are completely null\n",
    "X_train_no_dummies = users_train.drop(['Unnamed: 0', 'username', 'birth_date', 'user_id', 'join_date', 'last_online', 'access_rank',\n",
    "                                      'user_watching', 'user_completed', 'user_onhold', 'user_dropped', 'user_plantowatch', 'stats_rewatched'], axis=1)\n",
    "# drop columns we expect to be overcorrelated\n",
    "X_train_no_dummies = X_train_no_dummies.drop(['stats_episodes'], axis=1)\n",
    "# drop feature column\n",
    "X_train_no_dummies = X_train_no_dummies.drop(['user_days_spent_watching'], axis=1)\n",
    "# drop categorical \n",
    "X_train_no_dummies = X_train_no_dummies.drop(['gender', 'location'], axis=1)\n",
    "# fill na values with their average value in the column\n",
    "X_train_no_dummies = X_train_no_dummies.fillna(X_train_no_dummies.mean())\n",
    "\n",
    "\n",
    "y_train_no_dummies = users_train.user_days_spent_watching"
   ]
  },
  {
   "cell_type": "code",
   "execution_count": null,
   "metadata": {},
   "outputs": [],
   "source": []
  },
  {
   "cell_type": "code",
   "execution_count": 14,
   "metadata": {
    "colab": {
     "base_uri": "https://localhost:8080/"
    },
    "id": "Xbrzixgr6zya",
    "outputId": "397a3c03-5363-49da-bc3c-138e30e5101f"
   },
   "outputs": [
    {
     "name": "stdout",
     "output_type": "stream",
     "text": [
      "stats_mean_score   -4.293553\n",
      "join_year          -7.770052\n",
      "age                -0.189627\n",
      "year_last_online    7.799645\n",
      "dtype: float64\n"
     ]
    }
   ],
   "source": [
    "no_dummies_model = sm.OLS(y_train_no_dummies, X_train_no_dummies).fit()\n",
    "w_no_dummies = no_dummies_model.params\n",
    "print(w_no_dummies)"
   ]
  },
  {
   "cell_type": "code",
   "execution_count": 15,
   "metadata": {
    "colab": {
     "base_uri": "https://localhost:8080/"
    },
    "id": "biTFZim86z2U",
    "outputId": "9dd71c40-df7f-416d-a949-09e92c6c2df4"
   },
   "outputs": [
    {
     "name": "stdout",
     "output_type": "stream",
     "text": [
      "                                    OLS Regression Results                                   \n",
      "=============================================================================================\n",
      "Dep. Variable:     user_days_spent_watching   R-squared (uncentered):                   0.598\n",
      "Model:                                  OLS   Adj. R-squared (uncentered):              0.598\n",
      "Method:                       Least Squares   F-statistic:                              5644.\n",
      "Date:                      Sat, 30 Oct 2021   Prob (F-statistic):                        0.00\n",
      "Time:                              16:13:14   Log-Likelihood:                         -80660.\n",
      "No. Observations:                     15204   AIC:                                  1.613e+05\n",
      "Df Residuals:                         15200   BIC:                                  1.614e+05\n",
      "Df Model:                                 4                                                  \n",
      "Covariance Type:                  nonrobust                                                  \n",
      "====================================================================================\n",
      "                       coef    std err          t      P>|t|      [0.025      0.975]\n",
      "------------------------------------------------------------------------------------\n",
      "stats_mean_score    -4.2936      0.271    -15.834      0.000      -4.825      -3.762\n",
      "join_year           -7.7701      0.135    -57.465      0.000      -8.035      -7.505\n",
      "age                 -0.1896      0.084     -2.265      0.024      -0.354      -0.025\n",
      "year_last_online     7.7996      0.135     57.717      0.000       7.535       8.065\n",
      "==============================================================================\n",
      "Omnibus:                     8770.102   Durbin-Watson:                   1.968\n",
      "Prob(Omnibus):                  0.000   Jarque-Bera (JB):           128084.565\n",
      "Skew:                           2.488   Prob(JB):                         0.00\n",
      "Kurtosis:                      16.320   Cond. No.                     1.96e+03\n",
      "==============================================================================\n",
      "\n",
      "Notes:\n",
      "[1] R² is computed without centering (uncentered) since the model does not contain a constant.\n",
      "[2] Standard Errors assume that the covariance matrix of the errors is correctly specified.\n",
      "[3] The condition number is large, 1.96e+03. This might indicate that there are\n",
      "strong multicollinearity or other numerical problems.\n"
     ]
    }
   ],
   "source": [
    "print(no_dummies_model.summary())"
   ]
  },
  {
   "cell_type": "code",
   "execution_count": 16,
   "metadata": {
    "id": "cfzqJXcG6z6L"
   },
   "outputs": [],
   "source": [
    "# feature engineering\n",
    "users_test[\"year_last_online\"] = pd.to_datetime(users_test.last_online).apply(lambda date: date.year)\n",
    "# drop columns that have no value or \n",
    "X_test_no_dummies = users_test.drop(['Unnamed: 0', 'username', 'birth_date', 'user_id', 'join_date', 'last_online', 'access_rank', \n",
    "                                    'user_watching', 'user_completed', 'user_onhold', 'user_dropped', 'user_plantowatch', 'stats_rewatched'], axis=1)\n",
    "# drop columns we expect to be overcorrelated\n",
    "X_test_no_dummies = X_test_no_dummies.drop(['stats_episodes'], axis=1)\n",
    "# drop feature column\n",
    "X_test_no_dummies = X_test_no_dummies.drop(['user_days_spent_watching'], axis=1)\n",
    "# drop categorical \n",
    "X_test_no_dummies = X_test_no_dummies.drop(['gender', 'location'], axis=1)\n",
    "# fill na values with their average value in the column \n",
    "X_test_no_dummies = X_test_no_dummies.fillna(X_test_no_dummies.mean())\n",
    "\n",
    "y_test_no_dummies = users_test.user_days_spent_watching"
   ]
  },
  {
   "cell_type": "code",
   "execution_count": null,
   "metadata": {},
   "outputs": [],
   "source": []
  },
  {
   "cell_type": "code",
   "execution_count": 17,
   "metadata": {
    "colab": {
     "base_uri": "https://localhost:8080/"
    },
    "id": "CXQ-BZDT3Boo",
    "outputId": "c3ab708b-2e8e-4abf-9e0d-29541384e11d"
   },
   "outputs": [
    {
     "name": "stdout",
     "output_type": "stream",
     "text": [
      "The MSE of our simplified model is 2217.039650478535\n"
     ]
    }
   ],
   "source": [
    "y_pred_no_dummies = no_dummies_model.predict(X_test_no_dummies)\n",
    "print('The MSE of our simplified model is', sklearn.metrics.mean_squared_error(y_test_no_dummies, y_pred_no_dummies))"
   ]
  },
  {
   "cell_type": "markdown",
   "metadata": {
    "id": "cjlexrehD2H6"
   },
   "source": [
    "Now try creating dummy variables so we don't lose the power of our categorical variables. "
   ]
  },
  {
   "cell_type": "code",
   "execution_count": 18,
   "metadata": {
    "id": "uTuDR_y-4Dry"
   },
   "outputs": [],
   "source": [
    "# feature engineering\n",
    "users_train[\"year_last_online\"] = pd.to_datetime(users_train.last_online).apply(lambda date: date.year)\n",
    "# drop columns that have no value or are completely null\n",
    "X_train = users_train.drop(['Unnamed: 0', 'username', 'birth_date', 'user_id', 'join_date', 'last_online', 'access_rank',\n",
    "                           'user_watching', 'user_completed', 'user_onhold', 'user_dropped', 'user_plantowatch', 'stats_rewatched'], axis=1)\n",
    "# drop columns we expect to be overcorrelated\n",
    "X_train = X_train.drop(['stats_episodes'], axis=1)\n",
    "# drop feature column\n",
    "X_train = X_train.drop(['user_days_spent_watching'], axis=1)\n",
    "# create dummies\n",
    "X_train = pd.get_dummies(X_train)\n",
    "# fill na values with their average value in the column\n",
    "X_train = X_train.fillna(X_train.mean())\n",
    "\n",
    "\n",
    "y_train = users_train.user_days_spent_watching"
   ]
  },
  {
   "cell_type": "code",
   "execution_count": null,
   "metadata": {},
   "outputs": [],
   "source": []
  },
  {
   "cell_type": "code",
   "execution_count": 19,
   "metadata": {
    "colab": {
     "base_uri": "https://localhost:8080/"
    },
    "id": "zuPnekL18Ry7",
    "outputId": "dfe06afe-6fb1-46f4-a3b0-7b4ab39e208b"
   },
   "outputs": [
    {
     "name": "stdout",
     "output_type": "stream",
     "text": [
      "stats_mean_score       -3.443107\n",
      "join_year              -4.849010\n",
      "age                     0.748037\n",
      "year_last_online        8.644234\n",
      "gender_Female       -7198.857877\n",
      "gender_Male         -7183.345909\n",
      "gender_Non-Binary   -7194.897599\n",
      "location_AK          -411.190912\n",
      "location_AL          -425.077086\n",
      "location_AR          -423.735234\n",
      "location_AZ          -424.760112\n",
      "location_CA          -418.324449\n",
      "location_CO          -424.874551\n",
      "location_CT          -418.441841\n",
      "location_DC          -409.968635\n",
      "location_DE          -427.835231\n",
      "location_FL          -421.549107\n",
      "location_GA          -419.981071\n",
      "location_HI          -413.791436\n",
      "location_IA          -427.656143\n",
      "location_ID          -433.212729\n",
      "location_IL          -425.261435\n",
      "location_IN          -424.527632\n",
      "location_KS          -425.949584\n",
      "location_KY          -426.030963\n",
      "location_LA          -418.570349\n",
      "location_MA          -426.118872\n",
      "location_MD          -421.154210\n",
      "location_ME          -427.071075\n",
      "location_MI          -424.815248\n",
      "location_MN          -427.065022\n",
      "location_MO          -423.977546\n",
      "location_MS          -424.184340\n",
      "location_MT          -423.502459\n",
      "location_NC          -422.046351\n",
      "location_ND          -419.985192\n",
      "location_NE          -418.484860\n",
      "location_NH          -430.573383\n",
      "location_NJ          -421.866039\n",
      "location_NM          -427.293029\n",
      "location_NV          -418.638189\n",
      "location_NY          -419.379314\n",
      "location_OH          -428.083977\n",
      "location_OK          -425.890601\n",
      "location_OR          -421.202507\n",
      "location_PA          -425.048759\n",
      "location_RI          -422.307371\n",
      "location_SC          -424.981483\n",
      "location_SD          -419.877246\n",
      "location_TN          -421.101500\n",
      "location_TX          -420.649831\n",
      "location_UT          -422.990038\n",
      "location_VA          -424.026902\n",
      "location_VT          -405.806585\n",
      "location_WA          -422.468067\n",
      "location_WI          -424.958987\n",
      "location_WV          -432.463837\n",
      "location_WY          -438.350067\n",
      "dtype: float64\n"
     ]
    }
   ],
   "source": [
    "model = sm.OLS(y_train, X_train).fit()\n",
    "w = model.params\n",
    "print(w)"
   ]
  },
  {
   "cell_type": "code",
   "execution_count": 20,
   "metadata": {
    "colab": {
     "base_uri": "https://localhost:8080/"
    },
    "id": "rnixbA0N9brv",
    "outputId": "a5b5794a-0e8a-40f6-e4fa-2ab656cc56ec"
   },
   "outputs": [
    {
     "name": "stdout",
     "output_type": "stream",
     "text": [
      "                               OLS Regression Results                               \n",
      "====================================================================================\n",
      "Dep. Variable:     user_days_spent_watching   R-squared:                       0.257\n",
      "Model:                                  OLS   Adj. R-squared:                  0.254\n",
      "Method:                       Least Squares   F-statistic:                     93.62\n",
      "Date:                      Sat, 30 Oct 2021   Prob (F-statistic):               0.00\n",
      "Time:                              16:13:17   Log-Likelihood:                -80187.\n",
      "No. Observations:                     15204   AIC:                         1.605e+05\n",
      "Df Residuals:                         15147   BIC:                         1.609e+05\n",
      "Df Model:                                56                                         \n",
      "Covariance Type:                  nonrobust                                         \n",
      "=====================================================================================\n",
      "                        coef    std err          t      P>|t|      [0.025      0.975]\n",
      "-------------------------------------------------------------------------------------\n",
      "stats_mean_score     -3.4431      0.266    -12.944      0.000      -3.964      -2.922\n",
      "join_year            -4.8490      0.190    -25.580      0.000      -5.221      -4.477\n",
      "age                   0.7480      0.096      7.815      0.000       0.560       0.936\n",
      "year_last_online      8.6442      0.143     60.536      0.000       8.364       8.924\n",
      "gender_Female     -7198.8579    364.246    -19.764      0.000   -7912.825   -6484.891\n",
      "gender_Male       -7183.3459    364.405    -19.713      0.000   -7897.624   -6469.068\n",
      "gender_Non-Binary -7194.8976    364.740    -19.726      0.000   -7909.833   -6479.962\n",
      "location_AK        -411.1909     22.610    -18.187      0.000    -455.508    -366.874\n",
      "location_AL        -425.0771     21.731    -19.561      0.000    -467.673    -382.482\n",
      "location_AR        -423.7352     22.146    -19.134      0.000    -467.144    -380.327\n",
      "location_AZ        -424.7601     21.553    -19.708      0.000    -467.006    -382.514\n",
      "location_CA        -418.3244     21.447    -19.505      0.000    -460.363    -376.286\n",
      "location_CO        -424.8746     21.701    -19.579      0.000    -467.410    -382.339\n",
      "location_CT        -418.4418     21.768    -19.223      0.000    -461.109    -375.775\n",
      "location_DC        -409.9686     22.894    -17.907      0.000    -454.844    -365.094\n",
      "location_DE        -427.8352     22.445    -19.061      0.000    -471.830    -383.840\n",
      "location_FL        -421.5491     21.474    -19.631      0.000    -463.641    -379.458\n",
      "location_GA        -419.9811     21.534    -19.504      0.000    -462.189    -377.773\n",
      "location_HI        -413.7914     21.880    -18.912      0.000    -456.679    -370.904\n",
      "location_IA        -427.6561     21.911    -19.518      0.000    -470.603    -384.709\n",
      "location_ID        -433.2127     22.227    -19.490      0.000    -476.781    -389.645\n",
      "location_IL        -425.2614     21.518    -19.763      0.000    -467.440    -383.083\n",
      "location_IN        -424.5276     21.636    -19.621      0.000    -466.937    -382.118\n",
      "location_KS        -425.9496     21.903    -19.447      0.000    -468.883    -383.017\n",
      "location_KY        -426.0310     21.780    -19.560      0.000    -468.723    -383.339\n",
      "location_LA        -418.5703     21.717    -19.274      0.000    -461.138    -376.003\n",
      "location_MA        -426.1189     21.541    -19.782      0.000    -468.342    -383.896\n",
      "location_MD        -421.1542     21.579    -19.517      0.000    -463.452    -378.856\n",
      "location_ME        -427.0711     22.277    -19.171      0.000    -470.737    -383.406\n",
      "location_MI        -424.8152     21.565    -19.699      0.000    -467.085    -382.546\n",
      "location_MN        -427.0650     21.629    -19.745      0.000    -469.461    -384.669\n",
      "location_MO        -423.9775     21.759    -19.485      0.000    -466.628    -381.328\n",
      "location_MS        -424.1843     22.014    -19.269      0.000    -467.334    -381.035\n",
      "location_MT        -423.5025     23.680    -17.884      0.000    -469.918    -377.087\n",
      "location_NC        -422.0464     21.566    -19.570      0.000    -464.317    -379.775\n",
      "location_ND        -419.9852     23.096    -18.184      0.000    -465.257    -374.714\n",
      "location_NE        -418.4849     22.179    -18.869      0.000    -461.958    -375.012\n",
      "location_NH        -430.5734     22.348    -19.266      0.000    -474.379    -386.768\n",
      "location_NJ        -421.8660     21.524    -19.600      0.000    -464.056    -379.676\n",
      "location_NM        -427.2930     22.311    -19.152      0.000    -471.026    -383.560\n",
      "location_NV        -418.6382     21.677    -19.313      0.000    -461.127    -376.149\n",
      "location_NY        -419.3793     21.446    -19.555      0.000    -461.416    -377.342\n",
      "location_OH        -428.0840     21.534    -19.879      0.000    -470.294    -385.874\n",
      "location_OK        -425.8906     21.845    -19.496      0.000    -468.709    -383.073\n",
      "location_OR        -421.2025     21.678    -19.430      0.000    -463.694    -378.711\n",
      "location_PA        -425.0488     21.538    -19.735      0.000    -467.266    -382.832\n",
      "location_RI        -422.3074     22.365    -18.883      0.000    -466.145    -378.470\n",
      "location_SC        -424.9815     21.861    -19.440      0.000    -467.832    -382.131\n",
      "location_SD        -419.8772     23.790    -17.649      0.000    -466.509    -373.246\n",
      "location_TN        -421.1015     21.697    -19.408      0.000    -463.630    -378.573\n",
      "location_TX        -420.6498     21.505    -19.561      0.000    -462.802    -378.498\n",
      "location_UT        -422.9900     21.882    -19.331      0.000    -465.881    -380.099\n",
      "location_VA        -424.0269     21.575    -19.654      0.000    -466.317    -381.737\n",
      "location_VT        -405.8066     23.591    -17.202      0.000    -452.047    -359.566\n",
      "location_WA        -422.4681     21.537    -19.616      0.000    -464.683    -380.253\n",
      "location_WI        -424.9590     21.641    -19.637      0.000    -467.378    -382.540\n",
      "location_WV        -432.4638     22.542    -19.184      0.000    -476.650    -388.278\n",
      "location_WY        -438.3501     25.199    -17.395      0.000    -487.744    -388.957\n",
      "==============================================================================\n",
      "Omnibus:                     9038.589   Durbin-Watson:                   1.968\n",
      "Prob(Omnibus):                  0.000   Jarque-Bera (JB):           147286.339\n",
      "Skew:                           2.552   Prob(JB):                         0.00\n",
      "Kurtosis:                      17.368   Cond. No.                     1.02e+16\n",
      "==============================================================================\n",
      "\n",
      "Notes:\n",
      "[1] Standard Errors assume that the covariance matrix of the errors is correctly specified.\n",
      "[2] The smallest eigenvalue is 1.19e-21. This might indicate that there are\n",
      "strong multicollinearity problems or that the design matrix is singular.\n"
     ]
    }
   ],
   "source": [
    "print(model.summary())"
   ]
  },
  {
   "cell_type": "code",
   "execution_count": 21,
   "metadata": {
    "id": "ah6_M95D5XQF"
   },
   "outputs": [],
   "source": [
    "# feature engineering\n",
    "users_test[\"year_last_online\"] = pd.to_datetime(users_test.last_online).apply(lambda date: date.year)\n",
    "# drop columns that have no value or \n",
    "X_test = users_test.drop(['Unnamed: 0', 'username', 'birth_date', 'user_id', 'join_date', 'last_online', 'access_rank',\n",
    "                         'user_watching', 'user_completed', 'user_onhold', 'user_dropped', 'user_plantowatch', 'stats_rewatched'], axis=1)\n",
    "# drop columns we expect to be overcorrelated\n",
    "X_test = X_test.drop(['stats_episodes'], axis=1)\n",
    "# drop feature column\n",
    "X_test = X_test.drop(['user_days_spent_watching'], axis=1)\n",
    "# create dummies\n",
    "X_test = pd.get_dummies(X_test)\n",
    "# fill na values with their average value in the column\n",
    "X_test = X_test.fillna(X_test.mean())\n",
    "\n",
    "y_test = users_test.user_days_spent_watching"
   ]
  },
  {
   "cell_type": "markdown",
   "metadata": {},
   "source": [
    "## normalized label datasets"
   ]
  },
  {
   "cell_type": "code",
   "execution_count": 153,
   "metadata": {},
   "outputs": [],
   "source": [
    "mean = y_train.mean()\n",
    "sigma = y_train.std()\n",
    "y_train_norm = y_train.map(lambda x : (x-mean)/sigma)\n",
    "\n",
    "y_test_norm = y_test.map(lambda x : (x-mean)/sigma)"
   ]
  },
  {
   "cell_type": "markdown",
   "metadata": {},
   "source": [
    "## outliers-purged dataset"
   ]
  },
  {
   "cell_type": "code",
   "execution_count": 221,
   "metadata": {},
   "outputs": [],
   "source": [
    "y_train_no_outs = y_train[y_train<y_train.quantile(0.99)]\n",
    "y_train_no_outs_idx = y_train_no_outs.index\n",
    "X_train_no_outs = X_train.loc[y_train_no_outs.index]"
   ]
  },
  {
   "cell_type": "markdown",
   "metadata": {},
   "source": [
    "(After testing, normalizing labels and removing outlier labels didn't really improve the accuracy much, adjusted for the magnitude of the labels)"
   ]
  },
  {
   "cell_type": "code",
   "execution_count": null,
   "metadata": {},
   "outputs": [],
   "source": []
  },
  {
   "cell_type": "markdown",
   "metadata": {},
   "source": [
    "## SKLEARN LIN REG "
   ]
  },
  {
   "cell_type": "code",
   "execution_count": null,
   "metadata": {},
   "outputs": [],
   "source": []
  },
  {
   "cell_type": "code",
   "execution_count": 230,
   "metadata": {},
   "outputs": [
    {
     "data": {
      "text/plain": [
       "array([-3.44310675e+00, -4.84899390e+00,  7.48033438e-01,  8.64421470e+00,\n",
       "        1.40608843e+11,  1.40608843e+11,  1.40608843e+11,  6.23402465e+09,\n",
       "        6.23402463e+09,  6.23402463e+09,  6.23402463e+09,  6.23402464e+09,\n",
       "        6.23402463e+09,  6.23402464e+09,  6.23402465e+09,  6.23402463e+09,\n",
       "        6.23402464e+09,  6.23402464e+09,  6.23402464e+09,  6.23402463e+09,\n",
       "        6.23402462e+09,  6.23402463e+09,  6.23402463e+09,  6.23402463e+09,\n",
       "        6.23402463e+09,  6.23402464e+09,  6.23402463e+09,  6.23402464e+09,\n",
       "        6.23402463e+09,  6.23402463e+09,  6.23402463e+09,  6.23402463e+09,\n",
       "        6.23402463e+09,  6.23402463e+09,  6.23402464e+09,  6.23402464e+09,\n",
       "        6.23402464e+09,  6.23402463e+09,  6.23402464e+09,  6.23402463e+09,\n",
       "        6.23402464e+09,  6.23402464e+09,  6.23402463e+09,  6.23402463e+09,\n",
       "        6.23402464e+09,  6.23402463e+09,  6.23402464e+09,  6.23402463e+09,\n",
       "        6.23402464e+09,  6.23402464e+09,  6.23402464e+09,  6.23402463e+09,\n",
       "        6.23402463e+09,  6.23402465e+09,  6.23402463e+09,  6.23402463e+09,\n",
       "        6.23402462e+09,  6.23402462e+09])"
      ]
     },
     "execution_count": 230,
     "metadata": {},
     "output_type": "execute_result"
    }
   ],
   "source": [
    "lin_reg = LinearRegression(fit_intercept = True).fit(X_train, y_train)\n",
    "lin_reg.coef_"
   ]
  },
  {
   "cell_type": "code",
   "execution_count": null,
   "metadata": {},
   "outputs": [],
   "source": []
  },
  {
   "cell_type": "code",
   "execution_count": 231,
   "metadata": {},
   "outputs": [
    {
     "name": "stdout",
     "output_type": "stream",
     "text": [
      "training error\n",
      "2230.99789343167\n",
      "testing error\n",
      "2079.5815892663686\n"
     ]
    }
   ],
   "source": [
    "print(\"training error\")\n",
    "print(sklearn.metrics.mean_squared_error(y_train, lin_reg.predict(X_train)))\n",
    "print(\"testing error\")\n",
    "print(sklearn.metrics.mean_squared_error(y_test, lin_reg.predict(X_test)))\n"
   ]
  },
  {
   "cell_type": "code",
   "execution_count": 232,
   "metadata": {},
   "outputs": [
    {
     "data": {
      "text/plain": [
       "<matplotlib.collections.PathCollection at 0x7f8e4346b3d0>"
      ]
     },
     "execution_count": 232,
     "metadata": {},
     "output_type": "execute_result"
    },
    {
     "data": {
      "image/png": "[encoded data removed]",
      "text/plain": [
       "<Figure size 432x288 with 1 Axes>"
      ]
     },
     "metadata": {
      "needs_background": "light"
     },
     "output_type": "display_data"
    }
   ],
   "source": [
    "plt.scatter(lin_reg.predict(X_test), y_test, s = 1)"
   ]
  },
  {
   "cell_type": "markdown",
   "metadata": {},
   "source": [
    "## First attempt at correction: ridge regression"
   ]
  },
  {
   "cell_type": "code",
   "execution_count": null,
   "metadata": {},
   "outputs": [],
   "source": []
  },
  {
   "cell_type": "code",
   "execution_count": 233,
   "metadata": {},
   "outputs": [],
   "source": [
    "cv_ridge = sklearn.model_selection.RandomizedSearchCV(Ridge(), {'alpha' : list(np.arange(0.01, 1000, 0.1))}, \n",
    "                                                      scoring = 'neg_mean_squared_error',\n",
    "                                                     n_iter = 1000, random_state = 0)"
   ]
  },
  {
   "cell_type": "code",
   "execution_count": 234,
   "metadata": {},
   "outputs": [],
   "source": [
    "cv_ridge_res = cv_ridge.fit(X_train, y_train)"
   ]
  },
  {
   "cell_type": "code",
   "execution_count": 139,
   "metadata": {},
   "outputs": [
    {
     "data": {
      "text/plain": [
       "[{'alpha': 587.61},\n",
       " {'alpha': 655.51},\n",
       " {'alpha': 144.81},\n",
       " {'alpha': 335.11},\n",
       " {'alpha': 23.110000000000003},\n",
       " {'alpha': 120.41000000000001},\n",
       " {'alpha': 191.11},\n",
       " {'alpha': 964.8100000000001},\n",
       " {'alpha': 843.8100000000001},\n",
       " {'alpha': 754.11},\n",
       " {'alpha': 258.91},\n",
       " {'alpha': 97.71000000000001},\n",
       " {'alpha': 468.41},\n",
       " {'alpha': 381.41},\n",
       " {'alpha': 402.31},\n",
       " {'alpha': 418.91},\n",
       " {'alpha': 924.61},\n",
       " {'alpha': 900.4100000000001},\n",
       " {'alpha': 464.61},\n",
       " {'alpha': 873.01},\n",
       " {'alpha': 791.01},\n",
       " {'alpha': 374.01},\n",
       " {'alpha': 267.51},\n",
       " {'alpha': 711.11},\n",
       " {'alpha': 242.31},\n",
       " {'alpha': 564.21},\n",
       " {'alpha': 85.01},\n",
       " {'alpha': 89.81000000000002},\n",
       " {'alpha': 633.61},\n",
       " {'alpha': 247.11},\n",
       " {'alpha': 284.91},\n",
       " {'alpha': 691.21},\n",
       " {'alpha': 733.3100000000001},\n",
       " {'alpha': 796.11},\n",
       " {'alpha': 538.71},\n",
       " {'alpha': 19.410000000000004},\n",
       " {'alpha': 854.4100000000001},\n",
       " {'alpha': 778.51},\n",
       " {'alpha': 676.21},\n",
       " {'alpha': 509.41},\n",
       " {'alpha': 596.71},\n",
       " {'alpha': 949.01},\n",
       " {'alpha': 707.21},\n",
       " {'alpha': 668.3100000000001},\n",
       " {'alpha': 189.71},\n",
       " {'alpha': 57.71},\n",
       " {'alpha': 632.8100000000001},\n",
       " {'alpha': 223.01},\n",
       " {'alpha': 400.81},\n",
       " {'alpha': 100.81000000000002},\n",
       " {'alpha': 717.51},\n",
       " {'alpha': 352.01},\n",
       " {'alpha': 432.81},\n",
       " {'alpha': 334.61},\n",
       " {'alpha': 411.91},\n",
       " {'alpha': 646.11},\n",
       " {'alpha': 281.41},\n",
       " {'alpha': 926.71},\n",
       " {'alpha': 443.61},\n",
       " {'alpha': 499.51},\n",
       " {'alpha': 213.01},\n",
       " {'alpha': 782.21},\n",
       " {'alpha': 136.41},\n",
       " {'alpha': 529.41},\n",
       " {'alpha': 24.710000000000004},\n",
       " {'alpha': 837.51},\n",
       " {'alpha': 296.01},\n",
       " {'alpha': 264.41},\n",
       " {'alpha': 96.51},\n",
       " {'alpha': 556.41},\n",
       " {'alpha': 715.61},\n",
       " {'alpha': 278.21},\n",
       " {'alpha': 662.01},\n",
       " {'alpha': 872.11},\n",
       " {'alpha': 573.41},\n",
       " {'alpha': 23.210000000000004},\n",
       " {'alpha': 110.31000000000002},\n",
       " {'alpha': 992.71},\n",
       " {'alpha': 448.01},\n",
       " {'alpha': 697.8100000000001},\n",
       " {'alpha': 551.3100000000001},\n",
       " {'alpha': 470.21000000000004},\n",
       " {'alpha': 95.51},\n",
       " {'alpha': 793.61},\n",
       " {'alpha': 351.41},\n",
       " {'alpha': 751.51},\n",
       " {'alpha': 499.01},\n",
       " {'alpha': 530.8100000000001},\n",
       " {'alpha': 36.81},\n",
       " {'alpha': 217.61},\n",
       " {'alpha': 980.51},\n",
       " {'alpha': 738.21},\n",
       " {'alpha': 570.8100000000001},\n",
       " {'alpha': 322.21000000000004},\n",
       " {'alpha': 137.71},\n",
       " {'alpha': 725.51},\n",
       " {'alpha': 208.31},\n",
       " {'alpha': 376.11},\n",
       " {'alpha': 447.31},\n",
       " {'alpha': 163.11},\n",
       " {'alpha': 517.01},\n",
       " {'alpha': 162.81},\n",
       " {'alpha': 437.01},\n",
       " {'alpha': 800.61},\n",
       " {'alpha': 808.61},\n",
       " {'alpha': 455.71000000000004},\n",
       " {'alpha': 848.9100000000001},\n",
       " {'alpha': 45.51},\n",
       " {'alpha': 349.11},\n",
       " {'alpha': 92.21000000000001},\n",
       " {'alpha': 36.71},\n",
       " {'alpha': 903.3100000000001},\n",
       " {'alpha': 526.61},\n",
       " {'alpha': 243.81},\n",
       " {'alpha': 493.41},\n",
       " {'alpha': 21.310000000000002},\n",
       " {'alpha': 313.81},\n",
       " {'alpha': 735.01},\n",
       " {'alpha': 503.01},\n",
       " {'alpha': 924.4100000000001},\n",
       " {'alpha': 958.01},\n",
       " {'alpha': 209.91},\n",
       " {'alpha': 477.01},\n",
       " {'alpha': 601.01},\n",
       " {'alpha': 655.4100000000001},\n",
       " {'alpha': 756.61},\n",
       " {'alpha': 237.11},\n",
       " {'alpha': 548.91},\n",
       " {'alpha': 887.4100000000001},\n",
       " {'alpha': 844.71},\n",
       " {'alpha': 195.11},\n",
       " {'alpha': 402.41},\n",
       " {'alpha': 116.21000000000001},\n",
       " {'alpha': 103.01},\n",
       " {'alpha': 685.8100000000001},\n",
       " {'alpha': 652.11},\n",
       " {'alpha': 363.61},\n",
       " {'alpha': 977.3100000000001},\n",
       " {'alpha': 67.91000000000001},\n",
       " {'alpha': 648.01},\n",
       " {'alpha': 781.11},\n",
       " {'alpha': 513.21},\n",
       " {'alpha': 38.01},\n",
       " {'alpha': 867.4100000000001},\n",
       " {'alpha': 973.01},\n",
       " {'alpha': 425.21000000000004},\n",
       " {'alpha': 930.3100000000001},\n",
       " {'alpha': 61.01},\n",
       " {'alpha': 718.01},\n",
       " {'alpha': 386.11},\n",
       " {'alpha': 400.21000000000004},\n",
       " {'alpha': 601.3100000000001},\n",
       " {'alpha': 560.11},\n",
       " {'alpha': 726.8100000000001},\n",
       " {'alpha': 725.61},\n",
       " {'alpha': 249.41},\n",
       " {'alpha': 31.310000000000002},\n",
       " {'alpha': 271.71},\n",
       " {'alpha': 415.11},\n",
       " {'alpha': 317.51},\n",
       " {'alpha': 46.01},\n",
       " {'alpha': 583.21},\n",
       " {'alpha': 934.01},\n",
       " {'alpha': 711.51},\n",
       " {'alpha': 188.01},\n",
       " {'alpha': 883.71},\n",
       " {'alpha': 686.4100000000001},\n",
       " {'alpha': 158.01},\n",
       " {'alpha': 677.8100000000001},\n",
       " {'alpha': 899.01},\n",
       " {'alpha': 817.3100000000001},\n",
       " {'alpha': 541.8100000000001},\n",
       " {'alpha': 644.11},\n",
       " {'alpha': 160.01},\n",
       " {'alpha': 171.71},\n",
       " {'alpha': 134.01},\n",
       " {'alpha': 943.01},\n",
       " {'alpha': 89.11000000000001},\n",
       " {'alpha': 933.51},\n",
       " {'alpha': 201.31},\n",
       " {'alpha': 984.61},\n",
       " {'alpha': 260.11},\n",
       " {'alpha': 950.9100000000001},\n",
       " {'alpha': 290.21},\n",
       " {'alpha': 443.21000000000004},\n",
       " {'alpha': 463.71000000000004},\n",
       " {'alpha': 267.81},\n",
       " {'alpha': 401.71000000000004},\n",
       " {'alpha': 814.8100000000001},\n",
       " {'alpha': 539.01},\n",
       " {'alpha': 252.11},\n",
       " {'alpha': 864.01},\n",
       " {'alpha': 347.61},\n",
       " {'alpha': 318.61},\n",
       " {'alpha': 394.11},\n",
       " {'alpha': 599.8100000000001},\n",
       " {'alpha': 628.9100000000001},\n",
       " {'alpha': 845.51},\n",
       " {'alpha': 778.71},\n",
       " {'alpha': 558.51},\n",
       " {'alpha': 318.81},\n",
       " {'alpha': 564.3100000000001},\n",
       " {'alpha': 511.71000000000004},\n",
       " {'alpha': 736.3100000000001},\n",
       " {'alpha': 319.71000000000004},\n",
       " {'alpha': 411.21000000000004},\n",
       " {'alpha': 417.91},\n",
       " {'alpha': 534.61},\n",
       " {'alpha': 857.3100000000001},\n",
       " {'alpha': 403.71000000000004},\n",
       " {'alpha': 654.9100000000001},\n",
       " {'alpha': 582.51},\n",
       " {'alpha': 281.51},\n",
       " {'alpha': 571.01},\n",
       " {'alpha': 215.41},\n",
       " {'alpha': 630.9100000000001},\n",
       " {'alpha': 210.91},\n",
       " {'alpha': 886.61},\n",
       " {'alpha': 524.51},\n",
       " {'alpha': 769.9100000000001},\n",
       " {'alpha': 604.91},\n",
       " {'alpha': 480.21000000000004},\n",
       " {'alpha': 833.01},\n",
       " {'alpha': 447.71000000000004},\n",
       " {'alpha': 53.81},\n",
       " {'alpha': 189.11},\n",
       " {'alpha': 484.11},\n",
       " {'alpha': 266.91},\n",
       " {'alpha': 498.11},\n",
       " {'alpha': 441.31},\n",
       " {'alpha': 531.8100000000001},\n",
       " {'alpha': 207.21},\n",
       " {'alpha': 766.61},\n",
       " {'alpha': 220.21},\n",
       " {'alpha': 700.8100000000001},\n",
       " {'alpha': 234.81},\n",
       " {'alpha': 649.11},\n",
       " {'alpha': 300.61},\n",
       " {'alpha': 525.51},\n",
       " {'alpha': 732.3100000000001},\n",
       " {'alpha': 759.11},\n",
       " {'alpha': 462.71000000000004},\n",
       " {'alpha': 385.61},\n",
       " {'alpha': 245.91},\n",
       " {'alpha': 80.01},\n",
       " {'alpha': 364.11},\n",
       " {'alpha': 263.31},\n",
       " {'alpha': 79.31000000000002},\n",
       " {'alpha': 535.01},\n",
       " {'alpha': 520.71},\n",
       " {'alpha': 672.21},\n",
       " {'alpha': 283.61},\n",
       " {'alpha': 441.61},\n",
       " {'alpha': 177.71},\n",
       " {'alpha': 611.91},\n",
       " {'alpha': 371.21000000000004},\n",
       " {'alpha': 227.81},\n",
       " {'alpha': 472.91},\n",
       " {'alpha': 202.11},\n",
       " {'alpha': 45.410000000000004},\n",
       " {'alpha': 424.61},\n",
       " {'alpha': 239.11},\n",
       " {'alpha': 77.11000000000001},\n",
       " {'alpha': 461.81},\n",
       " {'alpha': 536.01},\n",
       " {'alpha': 677.9100000000001},\n",
       " {'alpha': 542.3100000000001},\n",
       " {'alpha': 2.41},\n",
       " {'alpha': 498.61},\n",
       " {'alpha': 944.71},\n",
       " {'alpha': 139.91},\n",
       " {'alpha': 38.71},\n",
       " {'alpha': 434.21000000000004},\n",
       " {'alpha': 732.51},\n",
       " {'alpha': 941.8100000000001},\n",
       " {'alpha': 271.11},\n",
       " {'alpha': 132.41},\n",
       " {'alpha': 584.91},\n",
       " {'alpha': 174.01},\n",
       " {'alpha': 976.51},\n",
       " {'alpha': 484.51},\n",
       " {'alpha': 438.51},\n",
       " {'alpha': 603.11},\n",
       " {'alpha': 633.4100000000001},\n",
       " {'alpha': 575.3100000000001},\n",
       " {'alpha': 922.9100000000001},\n",
       " {'alpha': 565.3100000000001},\n",
       " {'alpha': 731.01},\n",
       " {'alpha': 746.4100000000001},\n",
       " {'alpha': 752.8100000000001},\n",
       " {'alpha': 975.61},\n",
       " {'alpha': 746.71},\n",
       " {'alpha': 984.8100000000001},\n",
       " {'alpha': 204.21},\n",
       " {'alpha': 889.4100000000001},\n",
       " {'alpha': 982.71},\n",
       " {'alpha': 573.11},\n",
       " {'alpha': 762.9100000000001},\n",
       " {'alpha': 543.61},\n",
       " {'alpha': 650.01},\n",
       " {'alpha': 745.4100000000001},\n",
       " {'alpha': 767.11},\n",
       " {'alpha': 767.8100000000001},\n",
       " {'alpha': 83.91000000000001},\n",
       " {'alpha': 221.91},\n",
       " {'alpha': 204.01},\n",
       " {'alpha': 505.11},\n",
       " {'alpha': 794.21},\n",
       " {'alpha': 1.31},\n",
       " {'alpha': 129.10999999999999},\n",
       " {'alpha': 558.21},\n",
       " {'alpha': 215.61},\n",
       " {'alpha': 999.21},\n",
       " {'alpha': 183.91},\n",
       " {'alpha': 207.51},\n",
       " {'alpha': 775.01},\n",
       " {'alpha': 867.71},\n",
       " {'alpha': 56.410000000000004},\n",
       " {'alpha': 236.41},\n",
       " {'alpha': 225.11},\n",
       " {'alpha': 175.71},\n",
       " {'alpha': 571.8100000000001},\n",
       " {'alpha': 59.11},\n",
       " {'alpha': 879.11},\n",
       " {'alpha': 14.610000000000001},\n",
       " {'alpha': 237.51},\n",
       " {'alpha': 949.8100000000001},\n",
       " {'alpha': 160.41},\n",
       " {'alpha': 952.4100000000001},\n",
       " {'alpha': 581.91},\n",
       " {'alpha': 356.31},\n",
       " {'alpha': 448.41},\n",
       " {'alpha': 935.21},\n",
       " {'alpha': 29.51},\n",
       " {'alpha': 117.21000000000001},\n",
       " {'alpha': 405.01},\n",
       " {'alpha': 423.61},\n",
       " {'alpha': 886.4100000000001},\n",
       " {'alpha': 213.41},\n",
       " {'alpha': 501.81},\n",
       " {'alpha': 944.4100000000001},\n",
       " {'alpha': 881.71},\n",
       " {'alpha': 643.4100000000001},\n",
       " {'alpha': 905.51},\n",
       " {'alpha': 627.4100000000001},\n",
       " {'alpha': 911.11},\n",
       " {'alpha': 105.01},\n",
       " {'alpha': 56.910000000000004},\n",
       " {'alpha': 301.11},\n",
       " {'alpha': 572.01},\n",
       " {'alpha': 626.4100000000001},\n",
       " {'alpha': 145.51},\n",
       " {'alpha': 393.41},\n",
       " {'alpha': 528.61},\n",
       " {'alpha': 409.11},\n",
       " {'alpha': 500.01},\n",
       " {'alpha': 493.11},\n",
       " {'alpha': 881.3100000000001},\n",
       " {'alpha': 488.81},\n",
       " {'alpha': 796.61},\n",
       " {'alpha': 357.71000000000004},\n",
       " {'alpha': 876.11},\n",
       " {'alpha': 935.4100000000001},\n",
       " {'alpha': 546.8100000000001},\n",
       " {'alpha': 423.91},\n",
       " {'alpha': 550.11},\n",
       " {'alpha': 52.11},\n",
       " {'alpha': 212.51},\n",
       " {'alpha': 992.11},\n",
       " {'alpha': 107.11000000000001},\n",
       " {'alpha': 308.31},\n",
       " {'alpha': 783.8100000000001},\n",
       " {'alpha': 272.71},\n",
       " {'alpha': 484.71000000000004},\n",
       " {'alpha': 971.01},\n",
       " {'alpha': 509.91},\n",
       " {'alpha': 194.81},\n",
       " {'alpha': 983.3100000000001},\n",
       " {'alpha': 455.41},\n",
       " {'alpha': 486.51},\n",
       " {'alpha': 476.21000000000004},\n",
       " {'alpha': 925.9100000000001},\n",
       " {'alpha': 862.61},\n",
       " {'alpha': 737.71},\n",
       " {'alpha': 531.71},\n",
       " {'alpha': 30.910000000000004},\n",
       " {'alpha': 899.21},\n",
       " {'alpha': 887.01},\n",
       " {'alpha': 927.71},\n",
       " {'alpha': 803.71},\n",
       " {'alpha': 182.21},\n",
       " {'alpha': 498.71000000000004},\n",
       " {'alpha': 288.21},\n",
       " {'alpha': 464.21000000000004},\n",
       " {'alpha': 693.21},\n",
       " {'alpha': 59.01},\n",
       " {'alpha': 411.41},\n",
       " {'alpha': 134.81},\n",
       " {'alpha': 515.51},\n",
       " {'alpha': 245.71},\n",
       " {'alpha': 818.3100000000001},\n",
       " {'alpha': 905.8100000000001},\n",
       " {'alpha': 515.91},\n",
       " {'alpha': 336.81},\n",
       " {'alpha': 494.21000000000004},\n",
       " {'alpha': 595.41},\n",
       " {'alpha': 897.61},\n",
       " {'alpha': 182.91},\n",
       " {'alpha': 822.9100000000001},\n",
       " {'alpha': 796.8100000000001},\n",
       " {'alpha': 819.71},\n",
       " {'alpha': 5.51},\n",
       " {'alpha': 503.21000000000004},\n",
       " {'alpha': 282.61},\n",
       " {'alpha': 389.31},\n",
       " {'alpha': 751.9100000000001},\n",
       " {'alpha': 270.91},\n",
       " {'alpha': 510.31},\n",
       " {'alpha': 331.01},\n",
       " {'alpha': 45.31},\n",
       " {'alpha': 726.3100000000001},\n",
       " {'alpha': 197.51},\n",
       " {'alpha': 513.61},\n",
       " {'alpha': 275.21},\n",
       " {'alpha': 232.41},\n",
       " {'alpha': 647.61},\n",
       " {'alpha': 902.9100000000001},\n",
       " {'alpha': 614.8100000000001},\n",
       " {'alpha': 788.51},\n",
       " {'alpha': 912.01},\n",
       " {'alpha': 282.11},\n",
       " {'alpha': 823.01},\n",
       " {'alpha': 961.01},\n",
       " {'alpha': 903.8100000000001},\n",
       " {'alpha': 840.11},\n",
       " {'alpha': 158.41},\n",
       " {'alpha': 893.01},\n",
       " {'alpha': 196.61},\n",
       " {'alpha': 257.11},\n",
       " {'alpha': 887.11},\n",
       " {'alpha': 651.8100000000001},\n",
       " {'alpha': 478.51},\n",
       " {'alpha': 152.41},\n",
       " {'alpha': 282.71},\n",
       " {'alpha': 699.9100000000001},\n",
       " {'alpha': 221.71},\n",
       " {'alpha': 33.91},\n",
       " {'alpha': 497.51},\n",
       " {'alpha': 453.91},\n",
       " {'alpha': 95.41000000000001},\n",
       " {'alpha': 525.3100000000001},\n",
       " {'alpha': 902.71},\n",
       " {'alpha': 926.51},\n",
       " {'alpha': 406.61},\n",
       " {'alpha': 328.61},\n",
       " {'alpha': 689.71},\n",
       " {'alpha': 443.01},\n",
       " {'alpha': 146.10999999999999},\n",
       " {'alpha': 73.81},\n",
       " {'alpha': 256.11},\n",
       " {'alpha': 830.61},\n",
       " {'alpha': 552.41},\n",
       " {'alpha': 88.01},\n",
       " {'alpha': 602.41},\n",
       " {'alpha': 842.61},\n",
       " {'alpha': 410.81},\n",
       " {'alpha': 137.10999999999999},\n",
       " {'alpha': 608.71},\n",
       " {'alpha': 91.61000000000001},\n",
       " {'alpha': 855.21},\n",
       " {'alpha': 730.3100000000001},\n",
       " {'alpha': 572.8100000000001},\n",
       " {'alpha': 627.9100000000001},\n",
       " {'alpha': 674.3100000000001},\n",
       " {'alpha': 893.9100000000001},\n",
       " {'alpha': 842.51},\n",
       " {'alpha': 408.61},\n",
       " {'alpha': 815.01},\n",
       " {'alpha': 248.51},\n",
       " {'alpha': 232.51},\n",
       " {'alpha': 941.61},\n",
       " {'alpha': 226.11},\n",
       " {'alpha': 467.11},\n",
       " {'alpha': 539.41},\n",
       " {'alpha': 919.9100000000001},\n",
       " {'alpha': 844.61},\n",
       " {'alpha': 987.11},\n",
       " {'alpha': 158.11},\n",
       " {'alpha': 129.51},\n",
       " {'alpha': 662.4100000000001},\n",
       " {'alpha': 508.31},\n",
       " {'alpha': 294.51},\n",
       " {'alpha': 322.51},\n",
       " {'alpha': 822.3100000000001},\n",
       " {'alpha': 607.91},\n",
       " {'alpha': 413.71000000000004},\n",
       " {'alpha': 356.71000000000004},\n",
       " {'alpha': 642.61},\n",
       " {'alpha': 140.71},\n",
       " {'alpha': 177.31},\n",
       " {'alpha': 965.9100000000001},\n",
       " {'alpha': 44.81},\n",
       " {'alpha': 32.61},\n",
       " {'alpha': 2.01},\n",
       " {'alpha': 534.91},\n",
       " {'alpha': 185.91},\n",
       " {'alpha': 766.9100000000001},\n",
       " {'alpha': 53.11},\n",
       " {'alpha': 877.01},\n",
       " {'alpha': 386.71000000000004},\n",
       " {'alpha': 145.21},\n",
       " {'alpha': 730.51},\n",
       " {'alpha': 358.41},\n",
       " {'alpha': 967.21},\n",
       " {'alpha': 215.91},\n",
       " {'alpha': 184.01},\n",
       " {'alpha': 61.51},\n",
       " {'alpha': 699.01},\n",
       " {'alpha': 912.61},\n",
       " {'alpha': 549.61},\n",
       " {'alpha': 685.61},\n",
       " {'alpha': 605.51},\n",
       " {'alpha': 641.71},\n",
       " {'alpha': 882.61},\n",
       " {'alpha': 584.8100000000001},\n",
       " {'alpha': 299.51},\n",
       " {'alpha': 413.31},\n",
       " {'alpha': 559.3100000000001},\n",
       " {'alpha': 250.91},\n",
       " {'alpha': 638.8100000000001},\n",
       " {'alpha': 826.21},\n",
       " {'alpha': 145.60999999999999},\n",
       " {'alpha': 297.41},\n",
       " {'alpha': 782.11},\n",
       " {'alpha': 346.31},\n",
       " {'alpha': 935.3100000000001},\n",
       " {'alpha': 518.71},\n",
       " {'alpha': 801.71},\n",
       " {'alpha': 518.01},\n",
       " {'alpha': 138.41},\n",
       " {'alpha': 398.71000000000004},\n",
       " {'alpha': 506.11},\n",
       " {'alpha': 48.61},\n",
       " {'alpha': 81.91000000000001},\n",
       " {'alpha': 104.81000000000002},\n",
       " {'alpha': 11.51},\n",
       " {'alpha': 812.51},\n",
       " {'alpha': 566.3100000000001},\n",
       " {'alpha': 237.91},\n",
       " {'alpha': 994.61},\n",
       " {'alpha': 401.21000000000004},\n",
       " {'alpha': 909.11},\n",
       " {'alpha': 640.11},\n",
       " {'alpha': 912.9100000000001},\n",
       " {'alpha': 338.11},\n",
       " {'alpha': 347.31},\n",
       " {'alpha': 982.9100000000001},\n",
       " {'alpha': 703.3100000000001},\n",
       " {'alpha': 90.51},\n",
       " {'alpha': 245.61},\n",
       " {'alpha': 138.81},\n",
       " {'alpha': 698.61},\n",
       " {'alpha': 971.21},\n",
       " {'alpha': 896.01},\n",
       " {'alpha': 429.91},\n",
       " {'alpha': 932.11},\n",
       " {'alpha': 293.11},\n",
       " {'alpha': 198.31},\n",
       " {'alpha': 113.51},\n",
       " {'alpha': 573.3100000000001},\n",
       " {'alpha': 547.71},\n",
       " {'alpha': 990.21},\n",
       " {'alpha': 710.11},\n",
       " {'alpha': 242.81},\n",
       " {'alpha': 473.41},\n",
       " {'alpha': 8.91},\n",
       " {'alpha': 102.91000000000001},\n",
       " {'alpha': 113.91000000000001},\n",
       " {'alpha': 871.4100000000001},\n",
       " {'alpha': 229.81},\n",
       " {'alpha': 711.21},\n",
       " {'alpha': 106.11000000000001},\n",
       " {'alpha': 300.41},\n",
       " {'alpha': 574.71},\n",
       " {'alpha': 40.51},\n",
       " {'alpha': 805.21},\n",
       " {'alpha': 150.91},\n",
       " {'alpha': 50.01},\n",
       " {'alpha': 793.11},\n",
       " {'alpha': 958.11},\n",
       " {'alpha': 525.21},\n",
       " {'alpha': 891.51},\n",
       " {'alpha': 114.21000000000001},\n",
       " {'alpha': 569.51},\n",
       " {'alpha': 474.61},\n",
       " {'alpha': 325.81},\n",
       " {'alpha': 902.21},\n",
       " {'alpha': 610.41},\n",
       " {'alpha': 15.31},\n",
       " {'alpha': 597.11},\n",
       " {'alpha': 81.01},\n",
       " {'alpha': 656.71},\n",
       " {'alpha': 322.01},\n",
       " {'alpha': 946.21},\n",
       " {'alpha': 650.4100000000001},\n",
       " {'alpha': 163.31},\n",
       " {'alpha': 615.11},\n",
       " {'alpha': 859.11},\n",
       " {'alpha': 426.01},\n",
       " {'alpha': 343.41},\n",
       " {'alpha': 844.4100000000001},\n",
       " {'alpha': 393.21000000000004},\n",
       " {'alpha': 367.81},\n",
       " {'alpha': 627.01},\n",
       " {'alpha': 64.11000000000001},\n",
       " {'alpha': 701.71},\n",
       " {'alpha': 17.51},\n",
       " {'alpha': 174.51},\n",
       " {'alpha': 535.91},\n",
       " {'alpha': 448.91},\n",
       " {'alpha': 529.21},\n",
       " {'alpha': 210.51},\n",
       " {'alpha': 721.3100000000001},\n",
       " {'alpha': 819.51},\n",
       " {'alpha': 954.01},\n",
       " {'alpha': 952.21},\n",
       " {'alpha': 694.01},\n",
       " {'alpha': 183.41},\n",
       " {'alpha': 268.11},\n",
       " {'alpha': 726.61},\n",
       " {'alpha': 79.61000000000001},\n",
       " {'alpha': 487.81},\n",
       " {'alpha': 981.3100000000001},\n",
       " {'alpha': 96.71000000000001},\n",
       " {'alpha': 653.4100000000001},\n",
       " {'alpha': 527.11},\n",
       " {'alpha': 121.21000000000001},\n",
       " {'alpha': 23.610000000000003},\n",
       " {'alpha': 949.3100000000001},\n",
       " {'alpha': 457.91},\n",
       " {'alpha': 158.31},\n",
       " {'alpha': 45.11},\n",
       " {'alpha': 49.81},\n",
       " {'alpha': 287.81},\n",
       " {'alpha': 313.91},\n",
       " {'alpha': 214.31},\n",
       " {'alpha': 292.11},\n",
       " {'alpha': 32.21},\n",
       " {'alpha': 808.01},\n",
       " {'alpha': 835.61},\n",
       " {'alpha': 680.71},\n",
       " {'alpha': 782.71},\n",
       " {'alpha': 43.31},\n",
       " {'alpha': 595.21},\n",
       " {'alpha': 982.8100000000001},\n",
       " {'alpha': 161.91},\n",
       " {'alpha': 104.11000000000001},\n",
       " {'alpha': 824.4100000000001},\n",
       " {'alpha': 450.11},\n",
       " {'alpha': 837.01},\n",
       " {'alpha': 779.61},\n",
       " {'alpha': 826.51},\n",
       " {'alpha': 340.01},\n",
       " {'alpha': 953.21},\n",
       " {'alpha': 852.11},\n",
       " {'alpha': 784.4100000000001},\n",
       " {'alpha': 116.51},\n",
       " {'alpha': 997.11},\n",
       " {'alpha': 287.71},\n",
       " {'alpha': 442.31},\n",
       " {'alpha': 597.3100000000001},\n",
       " {'alpha': 537.51},\n",
       " {'alpha': 191.81},\n",
       " {'alpha': 847.01},\n",
       " {'alpha': 868.71},\n",
       " {'alpha': 923.61},\n",
       " {'alpha': 918.11},\n",
       " {'alpha': 728.61},\n",
       " {'alpha': 618.51},\n",
       " {'alpha': 558.8100000000001},\n",
       " {'alpha': 479.11},\n",
       " {'alpha': 407.01},\n",
       " {'alpha': 21.710000000000004},\n",
       " {'alpha': 630.4100000000001},\n",
       " {'alpha': 0.01},\n",
       " {'alpha': 326.51},\n",
       " {'alpha': 791.8100000000001},\n",
       " {'alpha': 16.410000000000004},\n",
       " {'alpha': 779.51},\n",
       " {'alpha': 634.11},\n",
       " {'alpha': 407.81},\n",
       " {'alpha': 551.8100000000001},\n",
       " {'alpha': 767.01},\n",
       " {'alpha': 239.71},\n",
       " {'alpha': 983.51},\n",
       " {'alpha': 64.01},\n",
       " {'alpha': 580.91},\n",
       " {'alpha': 946.51},\n",
       " {'alpha': 578.71},\n",
       " {'alpha': 228.51},\n",
       " {'alpha': 290.11},\n",
       " {'alpha': 904.3100000000001},\n",
       " {'alpha': 262.01},\n",
       " {'alpha': 591.61},\n",
       " {'alpha': 762.11},\n",
       " {'alpha': 922.01},\n",
       " {'alpha': 302.51},\n",
       " {'alpha': 365.01},\n",
       " {'alpha': 346.91},\n",
       " {'alpha': 203.41},\n",
       " {'alpha': 466.91},\n",
       " {'alpha': 896.61},\n",
       " {'alpha': 289.51},\n",
       " {'alpha': 144.60999999999999},\n",
       " {'alpha': 983.11},\n",
       " {'alpha': 673.61},\n",
       " {'alpha': 420.11},\n",
       " {'alpha': 698.01},\n",
       " {'alpha': 6.71},\n",
       " {'alpha': 579.01},\n",
       " {'alpha': 831.01},\n",
       " {'alpha': 629.21},\n",
       " {'alpha': 606.11},\n",
       " {'alpha': 740.21},\n",
       " {'alpha': 173.51},\n",
       " {'alpha': 927.21},\n",
       " {'alpha': 985.11},\n",
       " {'alpha': 607.41},\n",
       " {'alpha': 696.3100000000001},\n",
       " {'alpha': 635.4100000000001},\n",
       " {'alpha': 625.9100000000001},\n",
       " {'alpha': 885.9100000000001},\n",
       " {'alpha': 116.01},\n",
       " {'alpha': 219.91},\n",
       " {'alpha': 54.410000000000004},\n",
       " {'alpha': 64.21000000000001},\n",
       " {'alpha': 369.11},\n",
       " {'alpha': 763.11},\n",
       " {'alpha': 444.61},\n",
       " {'alpha': 856.3100000000001},\n",
       " {'alpha': 167.21},\n",
       " {'alpha': 669.51},\n",
       " {'alpha': 104.41000000000001},\n",
       " {'alpha': 959.61},\n",
       " {'alpha': 408.41},\n",
       " {'alpha': 383.21000000000004},\n",
       " {'alpha': 402.61},\n",
       " {'alpha': 73.71000000000001},\n",
       " {'alpha': 461.51},\n",
       " {'alpha': 200.21},\n",
       " {'alpha': 280.71},\n",
       " {'alpha': 801.9100000000001},\n",
       " {'alpha': 254.51},\n",
       " {'alpha': 958.4100000000001},\n",
       " {'alpha': 772.01},\n",
       " {'alpha': 199.21},\n",
       " {'alpha': 909.8100000000001},\n",
       " {'alpha': 835.4100000000001},\n",
       " {'alpha': 595.01},\n",
       " {'alpha': 450.21000000000004},\n",
       " {'alpha': 795.71},\n",
       " {'alpha': 653.11},\n",
       " {'alpha': 562.51},\n",
       " {'alpha': 515.3100000000001},\n",
       " {'alpha': 743.3100000000001},\n",
       " {'alpha': 875.51},\n",
       " {'alpha': 924.21},\n",
       " {'alpha': 282.31},\n",
       " {'alpha': 62.61},\n",
       " {'alpha': 799.4100000000001},\n",
       " {'alpha': 549.21},\n",
       " {'alpha': 655.8100000000001},\n",
       " {'alpha': 146.21},\n",
       " {'alpha': 286.61},\n",
       " {'alpha': 906.71},\n",
       " {'alpha': 460.31},\n",
       " {'alpha': 94.81000000000002},\n",
       " {'alpha': 627.61},\n",
       " {'alpha': 370.91},\n",
       " {'alpha': 76.01},\n",
       " {'alpha': 286.41},\n",
       " {'alpha': 670.4100000000001},\n",
       " {'alpha': 741.61},\n",
       " {'alpha': 79.81000000000002},\n",
       " {'alpha': 880.11},\n",
       " {'alpha': 316.71000000000004},\n",
       " {'alpha': 82.11000000000001},\n",
       " {'alpha': 191.41},\n",
       " {'alpha': 478.41},\n",
       " {'alpha': 899.71},\n",
       " {'alpha': 608.01},\n",
       " {'alpha': 966.4100000000001},\n",
       " {'alpha': 938.4100000000001},\n",
       " {'alpha': 865.8100000000001},\n",
       " {'alpha': 929.4100000000001},\n",
       " {'alpha': 77.31000000000002},\n",
       " {'alpha': 194.51},\n",
       " {'alpha': 353.71000000000004},\n",
       " {'alpha': 537.21},\n",
       " {'alpha': 52.01},\n",
       " {'alpha': 817.11},\n",
       " {'alpha': 127.21000000000001},\n",
       " {'alpha': 890.4100000000001},\n",
       " {'alpha': 973.21},\n",
       " {'alpha': 364.51},\n",
       " {'alpha': 438.01},\n",
       " {'alpha': 84.31000000000002},\n",
       " {'alpha': 27.410000000000004},\n",
       " {'alpha': 893.71},\n",
       " {'alpha': 235.71},\n",
       " {'alpha': 145.31},\n",
       " {'alpha': 93.81000000000002},\n",
       " {'alpha': 118.41000000000001},\n",
       " {'alpha': 138.60999999999999},\n",
       " {'alpha': 171.01},\n",
       " {'alpha': 322.61},\n",
       " {'alpha': 515.41},\n",
       " {'alpha': 629.01},\n",
       " {'alpha': 924.71},\n",
       " {'alpha': 117.61000000000001},\n",
       " {'alpha': 261.11},\n",
       " {'alpha': 164.01},\n",
       " {'alpha': 648.9100000000001},\n",
       " {'alpha': 621.01},\n",
       " {'alpha': 785.01},\n",
       " {'alpha': 180.21},\n",
       " {'alpha': 773.11},\n",
       " {'alpha': 828.61},\n",
       " {'alpha': 368.91},\n",
       " {'alpha': 52.81},\n",
       " {'alpha': 430.31},\n",
       " {'alpha': 811.71},\n",
       " {'alpha': 80.71000000000001},\n",
       " {'alpha': 886.71},\n",
       " {'alpha': 965.4100000000001},\n",
       " {'alpha': 576.41},\n",
       " {'alpha': 762.8100000000001},\n",
       " {'alpha': 785.51},\n",
       " {'alpha': 242.41},\n",
       " {'alpha': 329.21000000000004},\n",
       " {'alpha': 506.81},\n",
       " {'alpha': 747.51},\n",
       " {'alpha': 904.9100000000001},\n",
       " {'alpha': 315.31},\n",
       " {'alpha': 974.61},\n",
       " {'alpha': 167.41},\n",
       " {'alpha': 413.51},\n",
       " {'alpha': 775.9100000000001},\n",
       " {'alpha': 791.11},\n",
       " {'alpha': 750.01},\n",
       " {'alpha': 624.4100000000001},\n",
       " {'alpha': 465.71000000000004},\n",
       " {'alpha': 73.61000000000001},\n",
       " {'alpha': 53.51},\n",
       " {'alpha': 704.21},\n",
       " {'alpha': 305.21},\n",
       " {'alpha': 957.3100000000001},\n",
       " {'alpha': 967.71},\n",
       " {'alpha': 616.11},\n",
       " {'alpha': 132.81},\n",
       " {'alpha': 612.21},\n",
       " {'alpha': 956.4100000000001},\n",
       " {'alpha': 456.31},\n",
       " {'alpha': 244.71},\n",
       " {'alpha': 920.01},\n",
       " {'alpha': 118.31000000000002},\n",
       " {'alpha': 154.21},\n",
       " {'alpha': 303.71},\n",
       " {'alpha': 799.21},\n",
       " {'alpha': 481.71000000000004},\n",
       " {'alpha': 266.01},\n",
       " {'alpha': 948.61},\n",
       " {'alpha': 742.01},\n",
       " {'alpha': 680.21},\n",
       " {'alpha': 492.31},\n",
       " {'alpha': 563.61},\n",
       " {'alpha': 642.21},\n",
       " {'alpha': 884.4100000000001},\n",
       " {'alpha': 852.3100000000001},\n",
       " {'alpha': 606.51},\n",
       " {'alpha': 867.3100000000001},\n",
       " {'alpha': 90.21000000000001},\n",
       " {'alpha': 258.71},\n",
       " {'alpha': 748.51},\n",
       " {'alpha': 187.81},\n",
       " {'alpha': 733.11},\n",
       " {'alpha': 279.01},\n",
       " {'alpha': 468.71000000000004},\n",
       " {'alpha': 485.41},\n",
       " {'alpha': 182.61},\n",
       " {'alpha': 216.51},\n",
       " {'alpha': 803.8100000000001},\n",
       " {'alpha': 507.31},\n",
       " {'alpha': 14.41},\n",
       " {'alpha': 504.31},\n",
       " {'alpha': 784.51},\n",
       " {'alpha': 367.91},\n",
       " {'alpha': 919.4100000000001},\n",
       " {'alpha': 94.01},\n",
       " {'alpha': 966.8100000000001},\n",
       " {'alpha': 851.4100000000001},\n",
       " {'alpha': 233.21},\n",
       " {'alpha': 392.11},\n",
       " {'alpha': 747.9100000000001},\n",
       " {'alpha': 620.9100000000001},\n",
       " {'alpha': 740.3100000000001},\n",
       " {'alpha': 736.61},\n",
       " {'alpha': 448.31},\n",
       " {'alpha': 655.61},\n",
       " {'alpha': 806.21},\n",
       " {'alpha': 750.4100000000001},\n",
       " {'alpha': 940.51},\n",
       " {'alpha': 743.71},\n",
       " {'alpha': 251.91},\n",
       " {'alpha': 870.01},\n",
       " {'alpha': 839.51},\n",
       " {'alpha': 286.31},\n",
       " {'alpha': 356.01},\n",
       " {'alpha': 730.8100000000001},\n",
       " {'alpha': 342.21000000000004},\n",
       " {'alpha': 260.71},\n",
       " {'alpha': 770.8100000000001},\n",
       " {'alpha': 554.41},\n",
       " {'alpha': 349.81},\n",
       " {'alpha': 473.21000000000004},\n",
       " {'alpha': 132.10999999999999},\n",
       " {'alpha': 897.21},\n",
       " {'alpha': 491.21000000000004},\n",
       " {'alpha': 955.11},\n",
       " {'alpha': 882.8100000000001},\n",
       " {'alpha': 707.71},\n",
       " {'alpha': 226.21},\n",
       " {'alpha': 440.81},\n",
       " {'alpha': 278.11},\n",
       " {'alpha': 683.4100000000001},\n",
       " {'alpha': 221.81},\n",
       " {'alpha': 568.3100000000001},\n",
       " {'alpha': 715.8100000000001},\n",
       " {'alpha': 306.51},\n",
       " {'alpha': 168.51},\n",
       " {'alpha': 110.01},\n",
       " {'alpha': 554.91},\n",
       " {'alpha': 706.51},\n",
       " {'alpha': 756.71},\n",
       " {'alpha': 502.51},\n",
       " {'alpha': 625.51},\n",
       " {'alpha': 734.4100000000001},\n",
       " {'alpha': 9.21},\n",
       " {'alpha': 350.31},\n",
       " {'alpha': 0.11},\n",
       " {'alpha': 67.51},\n",
       " {'alpha': 607.71},\n",
       " {'alpha': 180.81},\n",
       " {'alpha': 11.31},\n",
       " {'alpha': 553.41},\n",
       " {'alpha': 435.11},\n",
       " {'alpha': 358.21000000000004},\n",
       " {'alpha': 939.9100000000001},\n",
       " {'alpha': 955.3100000000001},\n",
       " {'alpha': 989.71},\n",
       " {'alpha': 644.9100000000001},\n",
       " {'alpha': 710.4100000000001},\n",
       " {'alpha': 911.9100000000001},\n",
       " {'alpha': 553.61},\n",
       " {'alpha': 593.21},\n",
       " {'alpha': 649.71},\n",
       " {'alpha': 454.61},\n",
       " {'alpha': 282.41},\n",
       " {'alpha': 200.51},\n",
       " {'alpha': 480.81},\n",
       " {'alpha': 323.31},\n",
       " {'alpha': 749.9100000000001},\n",
       " {'alpha': 682.11},\n",
       " {'alpha': 620.21},\n",
       " {'alpha': 24.110000000000003},\n",
       " {'alpha': 150.60999999999999},\n",
       " {'alpha': 954.71},\n",
       " {'alpha': 561.41},\n",
       " {'alpha': 391.31},\n",
       " {'alpha': 108.11000000000001},\n",
       " {'alpha': 538.11},\n",
       " {'alpha': 776.51},\n",
       " {'alpha': 217.41},\n",
       " {'alpha': 934.3100000000001},\n",
       " {'alpha': 982.51},\n",
       " {'alpha': 301.01},\n",
       " {'alpha': 566.11},\n",
       " {'alpha': 379.81},\n",
       " {'alpha': 346.21000000000004},\n",
       " {'alpha': 125.31000000000002},\n",
       " {'alpha': 784.8100000000001},\n",
       " {'alpha': 299.81},\n",
       " {'alpha': 806.4100000000001},\n",
       " {'alpha': 774.61},\n",
       " {'alpha': 583.51},\n",
       " {'alpha': 107.91000000000001},\n",
       " {'alpha': 377.81},\n",
       " {'alpha': 451.71000000000004},\n",
       " {'alpha': 456.41},\n",
       " {'alpha': 925.8100000000001}]"
      ]
     },
     "execution_count": 139,
     "metadata": {},
     "output_type": "execute_result"
    }
   ],
   "source": [
    "cv_ridge_res.cv_results_['params'] ##see what got tested"
   ]
  },
  {
   "cell_type": "code",
   "execution_count": 141,
   "metadata": {},
   "outputs": [
    {
     "data": {
      "text/plain": [
       "465.71000000000004"
      ]
     },
     "execution_count": 141,
     "metadata": {},
     "output_type": "execute_result"
    }
   ],
   "source": [
    "alpha_ridge= cv_ridge_res.best_params_['alpha']\n",
    "alpha_ridge "
   ]
  },
  {
   "cell_type": "code",
   "execution_count": 142,
   "metadata": {},
   "outputs": [
    {
     "data": {
      "text/plain": [
       "array([-3.40700233, -4.79275206,  0.75623068,  8.62698193, -7.00196561,\n",
       "        7.51316516, -0.51119955,  0.98383624, -0.54077623, -0.12942917,\n",
       "       -0.82353288,  3.88822715, -0.70660376,  1.03621853,  0.85480895,\n",
       "       -0.46648646,  0.90272341,  1.38744314,  1.94915162, -0.85326001,\n",
       "       -1.25484312, -1.24676623, -0.53956671, -0.66210034, -0.89443642,\n",
       "        1.16230636, -1.32341069,  0.65219523, -0.48859753, -0.95860585,\n",
       "       -1.42290564, -0.33524043, -0.17376147, -0.02781424,  0.3537971 ,\n",
       "        0.17535706,  0.6169585 , -0.81128601,  0.51218274, -0.51526387,\n",
       "        1.17613734,  2.43021847, -2.90095212, -0.72532966,  0.54267591,\n",
       "       -1.1928568 ,  0.06407969, -0.47999797,  0.13034298,  0.5502042 ,\n",
       "        1.5731936 , -0.00919291, -0.51853795,  0.80981079,  0.20564954,\n",
       "       -0.67680219, -0.89789628, -0.38126559])"
      ]
     },
     "execution_count": 142,
     "metadata": {},
     "output_type": "execute_result"
    }
   ],
   "source": [
    "ridge_reg = Ridge(fit_intercept = True, alpha = alpha_ridge ).fit(X_train, y_train)\n",
    "ridge_reg.coef_"
   ]
  },
  {
   "cell_type": "code",
   "execution_count": 143,
   "metadata": {
    "scrolled": true
   },
   "outputs": [
    {
     "name": "stdout",
     "output_type": "stream",
     "text": [
      "training error\n",
      "2235.5933602706477\n",
      "testing error\n",
      "2073.1761069318263\n"
     ]
    }
   ],
   "source": [
    "print(\"training error\")\n",
    "print(sklearn.metrics.mean_squared_error(y_train, ridge_reg.predict(X_train)))\n",
    "print(\"testing error\")\n",
    "print(sklearn.metrics.mean_squared_error(y_test, ridge_reg.predict(X_test)))"
   ]
  },
  {
   "cell_type": "code",
   "execution_count": 197,
   "metadata": {},
   "outputs": [
    {
     "data": {
      "text/plain": [
       "0.2556004920913575"
      ]
     },
     "execution_count": 197,
     "metadata": {},
     "output_type": "execute_result"
    }
   ],
   "source": [
    "sklearn.metrics.r2_score(y_train, ridge_reg.predict(X_train))"
   ]
  },
  {
   "cell_type": "markdown",
   "metadata": {
    "colab": {
     "base_uri": "https://localhost:8080/"
    },
    "id": "78qM8lf46ziO",
    "outputId": "defd0840-fe88-4e60-ccba-c88b79654015"
   },
   "source": []
  },
  {
   "cell_type": "markdown",
   "metadata": {},
   "source": [
    "## lasso regression"
   ]
  },
  {
   "cell_type": "code",
   "execution_count": 180,
   "metadata": {},
   "outputs": [],
   "source": [
    "cv_lasso = sklearn.model_selection.RandomizedSearchCV(Lasso(), {'alpha' : np.arange(0.001, 1, 0.1)}, \n",
    "                                                      scoring = 'neg_mean_squared_error',\n",
    "                                                     n_iter = 1000, random_state = 0)"
   ]
  },
  {
   "cell_type": "code",
   "execution_count": 186,
   "metadata": {},
   "outputs": [
    {
     "name": "stderr",
     "output_type": "stream",
     "text": [
      "/opt/anaconda3/lib/python3.8/site-packages/sklearn/model_selection/_search.py:285: UserWarning: The total space of parameters 10 is smaller than n_iter=1000. Running 10 iterations. For exhaustive searches, use GridSearchCV.\n",
      "  warnings.warn(\n",
      "/opt/anaconda3/lib/python3.8/site-packages/sklearn/linear_model/_coordinate_descent.py:530: ConvergenceWarning: Objective did not converge. You might want to increase the number of iterations. Duality gap: 5784.273769747466, tolerance: 3729.7450584281946\n",
      "  model = cd_fast.enet_coordinate_descent(\n"
     ]
    }
   ],
   "source": [
    "cv_lasso_res = cv_lasso.fit(X_train, y_train)"
   ]
  },
  {
   "cell_type": "code",
   "execution_count": 187,
   "metadata": {},
   "outputs": [
    {
     "data": {
      "text/plain": [
       "0.101"
      ]
     },
     "execution_count": 187,
     "metadata": {},
     "output_type": "execute_result"
    }
   ],
   "source": [
    "cv_lasso_res.cv_results_['params'] ##see what got tested\n",
    "alpha_lasso= cv_lasso_res.best_params_['alpha']\n",
    "alpha_lasso"
   ]
  },
  {
   "cell_type": "code",
   "execution_count": 194,
   "metadata": {},
   "outputs": [
    {
     "data": {
      "text/plain": [
       "array([-3.39625351, -4.82915924,  0.73515195,  8.64192976, -3.62226777,\n",
       "       11.44632628, -0.        ,  0.        , -0.        , -0.        ,\n",
       "       -0.        ,  3.99423501, -0.        ,  0.        ,  0.        ,\n",
       "       -0.        ,  0.        ,  0.        ,  0.        , -0.        ,\n",
       "       -0.        , -0.        , -0.        , -0.        , -0.        ,\n",
       "        0.        , -0.        ,  0.        , -0.        , -0.        ,\n",
       "       -0.        , -0.        , -0.        , -0.        ,  0.        ,\n",
       "        0.        ,  0.        , -0.        ,  0.        , -0.        ,\n",
       "        0.        ,  2.07891614, -2.5355234 , -0.        ,  0.        ,\n",
       "       -0.        ,  0.        , -0.        ,  0.        ,  0.        ,\n",
       "        0.95794911, -0.        , -0.        ,  0.        ,  0.        ,\n",
       "       -0.        , -0.        , -0.        ])"
      ]
     },
     "execution_count": 194,
     "metadata": {},
     "output_type": "execute_result"
    }
   ],
   "source": [
    "lasso_reg = Lasso(fit_intercept = True, alpha = alpha_lasso).fit(X_train, y_train)\n",
    "lasso_reg.coef_"
   ]
  },
  {
   "cell_type": "code",
   "execution_count": 195,
   "metadata": {},
   "outputs": [
    {
     "name": "stdout",
     "output_type": "stream",
     "text": [
      "training error\n",
      "2237.990907803315\n",
      "testing error\n",
      "2074.0493798330212\n"
     ]
    }
   ],
   "source": [
    "print(\"training error\")\n",
    "print(sklearn.metrics.mean_squared_error(y_train, lasso_reg.predict(X_train)))\n",
    "print(\"testing error\")\n",
    "print(sklearn.metrics.mean_squared_error(y_test, lasso_reg.predict(X_test)))"
   ]
  },
  {
   "cell_type": "code",
   "execution_count": 198,
   "metadata": {},
   "outputs": [
    {
     "data": {
      "text/plain": [
       "0.2548021656894178"
      ]
     },
     "execution_count": 198,
     "metadata": {},
     "output_type": "execute_result"
    }
   ],
   "source": [
    "sklearn.metrics.r2_score(y_train, lasso_reg.predict(X_train))"
   ]
  },
  {
   "cell_type": "markdown",
   "metadata": {},
   "source": [
    "## random forest"
   ]
  },
  {
   "cell_type": "code",
   "execution_count": 358,
   "metadata": {},
   "outputs": [],
   "source": [
    "cv_rf = sklearn.model_selection.RandomizedSearchCV(RandomForestRegressor(random_state = 0), \n",
    "                                                      {'n_estimators' : range(1,15), 'max_depth' : range(1,10)}, \n",
    "                                                      scoring = 'neg_mean_squared_error',\n",
    "                                                n_iter = 10)"
   ]
  },
  {
   "cell_type": "code",
   "execution_count": 359,
   "metadata": {},
   "outputs": [
    {
     "data": {
      "text/plain": [
       "RandomizedSearchCV(estimator=RandomForestRegressor(random_state=0),\n",
       "                   param_distributions={'max_depth': range(1, 10),\n",
       "                                        'n_estimators': range(1, 15)},\n",
       "                   scoring='neg_mean_squared_error')"
      ]
     },
     "execution_count": 359,
     "metadata": {},
     "output_type": "execute_result"
    }
   ],
   "source": [
    "cv_rf.fit(X_train, y_train)"
   ]
  },
  {
   "cell_type": "code",
   "execution_count": 360,
   "metadata": {},
   "outputs": [
    {
     "data": {
      "text/plain": [
       "(14, 6)"
      ]
     },
     "execution_count": 360,
     "metadata": {},
     "output_type": "execute_result"
    }
   ],
   "source": [
    "cv_rf.cv_results_['params'] ##see what got tested\n",
    "n_est = cv_rf.best_params_['n_estimators']\n",
    "max_depth = cv_rf.best_params_['max_depth']\n",
    "n_est, max_depth"
   ]
  },
  {
   "cell_type": "code",
   "execution_count": null,
   "metadata": {},
   "outputs": [],
   "source": []
  },
  {
   "cell_type": "code",
   "execution_count": 361,
   "metadata": {},
   "outputs": [
    {
     "data": {
      "text/plain": [
       "array([0.11852686, 0.16008787, 0.06313796, 0.55212289, 0.03261074,\n",
       "       0.02751098, 0.00040493, 0.        , 0.00085197, 0.        ,\n",
       "       0.00036171, 0.00122896, 0.00013116, 0.00049534, 0.        ,\n",
       "       0.00001174, 0.00018477, 0.00017269, 0.0008178 , 0.        ,\n",
       "       0.        , 0.00105753, 0.00023927, 0.00123126, 0.00041346,\n",
       "       0.00057166, 0.00200255, 0.00831888, 0.        , 0.00079226,\n",
       "       0.        , 0.        , 0.00046307, 0.        , 0.00018916,\n",
       "       0.00004449, 0.00327918, 0.        , 0.00036549, 0.00068115,\n",
       "       0.00198544, 0.00253079, 0.00039652, 0.00032044, 0.0011102 ,\n",
       "       0.00054533, 0.00007083, 0.        , 0.        , 0.01119676,\n",
       "       0.00022343, 0.0005654 , 0.00029573, 0.00061839, 0.00041764,\n",
       "       0.00141531, 0.        , 0.        ])"
      ]
     },
     "execution_count": 361,
     "metadata": {},
     "output_type": "execute_result"
    }
   ],
   "source": [
    "rf = RandomForestRegressor(n_estimators = n_est, max_depth = max_depth).fit(X_train, y_train)\n",
    "rf.feature_importances_"
   ]
  },
  {
   "cell_type": "code",
   "execution_count": 362,
   "metadata": {
    "scrolled": true
   },
   "outputs": [
    {
     "name": "stdout",
     "output_type": "stream",
     "text": [
      "training error\n",
      "1988.7013784668663\n",
      "testing error\n",
      "1978.803813527458\n"
     ]
    }
   ],
   "source": [
    "print(\"training error\")\n",
    "print(sklearn.metrics.mean_squared_error(y_train, rf.predict(X_train)))\n",
    "print(\"testing error\")\n",
    "print(sklearn.metrics.mean_squared_error(y_test, rf.predict(X_test)))"
   ]
  },
  {
   "cell_type": "code",
   "execution_count": 363,
   "metadata": {},
   "outputs": [
    {
     "data": {
      "text/plain": [
       "0.3378096599245787"
      ]
     },
     "execution_count": 363,
     "metadata": {},
     "output_type": "execute_result"
    }
   ],
   "source": [
    "sklearn.metrics.r2_score(y_train, rf.predict(X_train))"
   ]
  },
  {
   "cell_type": "markdown",
   "metadata": {},
   "source": [
    "## gradient boosting"
   ]
  },
  {
   "cell_type": "code",
   "execution_count": 293,
   "metadata": {},
   "outputs": [],
   "source": [
    "cv_gb = sklearn.model_selection.RandomizedSearchCV(GradientBoostingRegressor(random_state = 0), \n",
    "                                                      {'n_estimators' : range(1,15), 'max_depth' : range(1,10), \n",
    "                                                      'learning_rate' : [0.01, 0.1, 0.5, 1, 2, 3, 5, 10]}, \n",
    "                                                      scoring = 'neg_mean_squared_error',\n",
    "                                                     n_iter = 10, random_state = 0)"
   ]
  },
  {
   "cell_type": "code",
   "execution_count": 294,
   "metadata": {},
   "outputs": [
    {
     "data": {
      "text/plain": [
       "RandomizedSearchCV(estimator=GradientBoostingRegressor(random_state=0),\n",
       "                   param_distributions={'learning_rate': [0.01, 0.1, 0.5, 1, 2,\n",
       "                                                          3, 5, 10],\n",
       "                                        'max_depth': range(1, 10),\n",
       "                                        'n_estimators': range(1, 15)},\n",
       "                   random_state=0, scoring='neg_mean_squared_error')"
      ]
     },
     "execution_count": 294,
     "metadata": {},
     "output_type": "execute_result"
    }
   ],
   "source": [
    "cv_gb.fit(X_train, y_train)"
   ]
  },
  {
   "cell_type": "code",
   "execution_count": 295,
   "metadata": {},
   "outputs": [
    {
     "data": {
      "text/plain": [
       "(11, 5, 0.1)"
      ]
     },
     "execution_count": 295,
     "metadata": {},
     "output_type": "execute_result"
    }
   ],
   "source": [
    "cv_gb.cv_results_['params'] ##see what got tested\n",
    "n_est = cv_gb.best_params_['n_estimators']\n",
    "max_depth = cv_gb.best_params_['max_depth']\n",
    "learning_rate = cv_gb.best_params_['learning_rate']\n",
    "n_est, max_depth, learning_rate"
   ]
  },
  {
   "cell_type": "code",
   "execution_count": 296,
   "metadata": {},
   "outputs": [
    {
     "data": {
      "text/plain": [
       "array([0.09600979, 0.14142019, 0.06841878, 0.62012131, 0.01588496,\n",
       "       0.0450018 , 0.        , 0.00024919, 0.        , 0.        ,\n",
       "       0.        , 0.00127752, 0.        , 0.        , 0.        ,\n",
       "       0.        , 0.        , 0.        , 0.        , 0.        ,\n",
       "       0.        , 0.        , 0.        , 0.00246975, 0.        ,\n",
       "       0.        , 0.        , 0.00136649, 0.        , 0.        ,\n",
       "       0.        , 0.        , 0.        , 0.        , 0.        ,\n",
       "       0.        , 0.00104096, 0.        , 0.        , 0.00129384,\n",
       "       0.        , 0.00222566, 0.        , 0.        , 0.        ,\n",
       "       0.00021358, 0.00013377, 0.00003494, 0.        , 0.00283748,\n",
       "       0.        , 0.        , 0.        , 0.        , 0.        ,\n",
       "       0.        , 0.        , 0.        ])"
      ]
     },
     "execution_count": 296,
     "metadata": {},
     "output_type": "execute_result"
    }
   ],
   "source": [
    "gb = GradientBoostingRegressor(n_estimators = n_est, max_depth = max_depth, \n",
    "                               learning_rate = learning_rate).fit(X_train, y_train)\n",
    "gb.feature_importances_"
   ]
  },
  {
   "cell_type": "code",
   "execution_count": 297,
   "metadata": {
    "scrolled": true
   },
   "outputs": [
    {
     "name": "stdout",
     "output_type": "stream",
     "text": [
      "training error\n",
      "2165.7681706191606\n",
      "testing error\n",
      "2048.566358048403\n"
     ]
    }
   ],
   "source": [
    "print(\"training error\")\n",
    "print(sklearn.metrics.mean_squared_error(y_train, gb.predict(X_train)))\n",
    "print(\"testing error\")\n",
    "print(sklearn.metrics.mean_squared_error(y_test, gb.predict(X_test)))"
   ]
  },
  {
   "cell_type": "code",
   "execution_count": 299,
   "metadata": {},
   "outputs": [
    {
     "data": {
      "text/plain": [
       "0.2788506223430872"
      ]
     },
     "execution_count": 299,
     "metadata": {},
     "output_type": "execute_result"
    }
   ],
   "source": [
    "sklearn.metrics.r2_score(y_train, gb.predict(X_train))"
   ]
  },
  {
   "cell_type": "code",
   "execution_count": null,
   "metadata": {},
   "outputs": [],
   "source": []
  }
 ],
 "metadata": {
  "colab": {
   "collapsed_sections": [],
   "name": "Anime Regression Playground.ipynb",
   "provenance": []
  },
  "kernelspec": {
   "display_name": "Python 3",
   "language": "python",
   "name": "python3"
  },
  "language_info": {
   "codemirror_mode": {
    "name": "ipython",
    "version": 3
   },
   "file_extension": ".py",
   "mimetype": "text/x-python",
   "name": "python",
   "nbconvert_exporter": "python",
   "pygments_lexer": "ipython3",
   "version": "3.8.8"
  }
 },
 "nbformat": 4,
 "nbformat_minor": 1
}
