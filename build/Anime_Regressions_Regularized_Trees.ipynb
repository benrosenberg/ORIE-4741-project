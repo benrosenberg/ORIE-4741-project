{
 "cells": [
  {
   "cell_type": "code",
   "execution_count": 1,
   "metadata": {
    "id": "Un9gfcdN24W7"
   },
   "outputs": [],
   "source": [
    "import pandas as pd\n",
    "import numpy as np\n",
    "import matplotlib.pyplot as plt\n",
    "import statsmodels.api as sm\n",
    "from sklearn.linear_model import LinearRegression, Lasso, Ridge\n",
    "from sklearn.ensemble import RandomForestRegressor, GradientBoostingRegressor\n",
    "import sklearn\n",
    "np.set_printoptions(suppress= True) #decimal formatting"
   ]
  },
  {
   "cell_type": "code",
   "execution_count": 2,
   "metadata": {
    "id": "OJ6nw8uq2zPU"
   },
   "outputs": [],
   "source": [
    "users_train = pd.read_csv(\"training_users_list.csv\")\n",
    "users_test = pd.read_csv(\"testing_users_list.csv\")"
   ]
  },
  {
   "cell_type": "markdown",
   "metadata": {
    "id": "mVQT0OllD7xQ"
   },
   "source": [
    "Try without dummy variables to get a more simplified model"
   ]
  },
  {
   "cell_type": "code",
   "execution_count": 62,
   "metadata": {
    "id": "PQCxffMw6zuN"
   },
   "outputs": [],
   "source": [
    "# feature engineering\n",
    "users_train[\"year_last_online\"] = pd.to_datetime(users_train.last_online).apply(lambda date: date.year)\n",
    "# drop columns that have no value or are completely null\n",
    "X_train_no_dummies = users_train.drop(['Unnamed: 0', 'username', 'birth_date', 'user_id', 'join_date', 'last_online', 'access_rank',\n",
    "                                      'user_watching', 'user_completed', 'user_onhold', 'user_dropped', 'user_plantowatch', 'stats_rewatched'], axis=1)\n",
    "# drop columns we expect to be overcorrelated\n",
    "X_train_no_dummies = X_train_no_dummies.drop(['stats_episodes'], axis=1)\n",
    "# drop feature column\n",
    "X_train_no_dummies = X_train_no_dummies.drop(['user_days_spent_watching'], axis=1)\n",
    "# drop categorical \n",
    "X_train_no_dummies = X_train_no_dummies.drop(['gender', 'location'], axis=1)\n",
    "# fill na values with their average value in the column\n",
    "X_train_no_dummies = X_train_no_dummies.fillna(X_train_no_dummies.mean())\n",
    "\n",
    "\n",
    "y_train_no_dummies = users_train.user_days_spent_watching"
   ]
  },
  {
   "cell_type": "code",
   "execution_count": 63,
   "metadata": {
    "colab": {
     "base_uri": "https://localhost:8080/"
    },
    "id": "Xbrzixgr6zya",
    "outputId": "397a3c03-5363-49da-bc3c-138e30e5101f"
   },
   "outputs": [
    {
     "name": "stdout",
     "output_type": "stream",
     "text": [
      "stats_mean_score   -4.293553\n",
      "join_year          -7.770052\n",
      "age                -0.189627\n",
      "year_last_online    7.799645\n",
      "dtype: float64\n"
     ]
    }
   ],
   "source": [
    "no_dummies_model = sm.OLS(y_train_no_dummies, X_train_no_dummies).fit()\n",
    "w_no_dummies = no_dummies_model.params\n",
    "print(w_no_dummies)"
   ]
  },
  {
   "cell_type": "code",
   "execution_count": 64,
   "metadata": {
    "colab": {
     "base_uri": "https://localhost:8080/"
    },
    "id": "biTFZim86z2U",
    "outputId": "9dd71c40-df7f-416d-a949-09e92c6c2df4"
   },
   "outputs": [
    {
     "name": "stdout",
     "output_type": "stream",
     "text": [
      "                                    OLS Regression Results                                   \n",
      "=============================================================================================\n",
      "Dep. Variable:     user_days_spent_watching   R-squared (uncentered):                   0.598\n",
      "Model:                                  OLS   Adj. R-squared (uncentered):              0.598\n",
      "Method:                       Least Squares   F-statistic:                              5644.\n",
      "Date:                      Sun, 31 Oct 2021   Prob (F-statistic):                        0.00\n",
      "Time:                              13:53:39   Log-Likelihood:                         -80660.\n",
      "No. Observations:                     15204   AIC:                                  1.613e+05\n",
      "Df Residuals:                         15200   BIC:                                  1.614e+05\n",
      "Df Model:                                 4                                                  \n",
      "Covariance Type:                  nonrobust                                                  \n",
      "====================================================================================\n",
      "                       coef    std err          t      P>|t|      [0.025      0.975]\n",
      "------------------------------------------------------------------------------------\n",
      "stats_mean_score    -4.2936      0.271    -15.834      0.000      -4.825      -3.762\n",
      "join_year           -7.7701      0.135    -57.465      0.000      -8.035      -7.505\n",
      "age                 -0.1896      0.084     -2.265      0.024      -0.354      -0.025\n",
      "year_last_online     7.7996      0.135     57.717      0.000       7.535       8.065\n",
      "==============================================================================\n",
      "Omnibus:                     8770.102   Durbin-Watson:                   1.968\n",
      "Prob(Omnibus):                  0.000   Jarque-Bera (JB):           128084.565\n",
      "Skew:                           2.488   Prob(JB):                         0.00\n",
      "Kurtosis:                      16.320   Cond. No.                     1.96e+03\n",
      "==============================================================================\n",
      "\n",
      "Notes:\n",
      "[1] R² is computed without centering (uncentered) since the model does not contain a constant.\n",
      "[2] Standard Errors assume that the covariance matrix of the errors is correctly specified.\n",
      "[3] The condition number is large, 1.96e+03. This might indicate that there are\n",
      "strong multicollinearity or other numerical problems.\n"
     ]
    }
   ],
   "source": [
    "print(no_dummies_model.summary())"
   ]
  },
  {
   "cell_type": "code",
   "execution_count": 65,
   "metadata": {
    "id": "cfzqJXcG6z6L"
   },
   "outputs": [],
   "source": [
    "# feature engineering\n",
    "users_test[\"year_last_online\"] = pd.to_datetime(users_test.last_online).apply(lambda date: date.year)\n",
    "# drop columns that have no value or \n",
    "X_test_no_dummies = users_test.drop(['Unnamed: 0', 'username', 'birth_date', 'user_id', 'join_date', 'last_online', 'access_rank', \n",
    "                                    'user_watching', 'user_completed', 'user_onhold', 'user_dropped', 'user_plantowatch', 'stats_rewatched'], axis=1)\n",
    "# drop columns we expect to be overcorrelated\n",
    "X_test_no_dummies = X_test_no_dummies.drop(['stats_episodes'], axis=1)\n",
    "# drop feature column\n",
    "X_test_no_dummies = X_test_no_dummies.drop(['user_days_spent_watching'], axis=1)\n",
    "# drop categorical \n",
    "X_test_no_dummies = X_test_no_dummies.drop(['gender', 'location'], axis=1)\n",
    "# fill na values with their average value in the column \n",
    "X_test_no_dummies = X_test_no_dummies.fillna(X_test_no_dummies.mean())\n",
    "\n",
    "y_test_no_dummies = users_test.user_days_spent_watching"
   ]
  },
  {
   "cell_type": "code",
   "execution_count": 66,
   "metadata": {
    "colab": {
     "base_uri": "https://localhost:8080/"
    },
    "id": "CXQ-BZDT3Boo",
    "outputId": "c3ab708b-2e8e-4abf-9e0d-29541384e11d"
   },
   "outputs": [
    {
     "name": "stdout",
     "output_type": "stream",
     "text": [
      "The MSE of our simplified model is 2217.039650478528\n"
     ]
    }
   ],
   "source": [
    "y_pred_no_dummies = no_dummies_model.predict(X_test_no_dummies)\n",
    "print('The MSE of our simplified model is', sklearn.metrics.mean_squared_error(y_test_no_dummies, y_pred_no_dummies))"
   ]
  },
  {
   "cell_type": "markdown",
   "metadata": {
    "id": "cjlexrehD2H6"
   },
   "source": [
    "Now try creating dummy variables so we don't lose the power of our categorical variables. "
   ]
  },
  {
   "cell_type": "code",
   "execution_count": 67,
   "metadata": {
    "id": "uTuDR_y-4Dry"
   },
   "outputs": [],
   "source": [
    "# feature engineering\n",
    "users_train[\"year_last_online\"] = pd.to_datetime(users_train.last_online).apply(lambda date: date.year)\n",
    "# drop columns that have no value or are completely null\n",
    "X_train = users_train.drop(['Unnamed: 0', 'username', 'birth_date', 'user_id', 'join_date', 'last_online', 'access_rank',\n",
    "                           'user_watching', 'user_completed', 'user_onhold', 'user_dropped', 'user_plantowatch', 'stats_rewatched'], axis=1)\n",
    "# drop columns we expect to be overcorrelated\n",
    "X_train = X_train.drop(['stats_episodes'], axis=1)\n",
    "# drop feature column\n",
    "X_train = X_train.drop(['user_days_spent_watching'], axis=1)\n",
    "# create dummies\n",
    "X_train = pd.get_dummies(X_train)\n",
    "# fill na values with their average value in the column\n",
    "X_train = X_train.fillna(X_train.mean())\n",
    "\n",
    "\n",
    "y_train = users_train.user_days_spent_watching"
   ]
  },
  {
   "cell_type": "code",
   "execution_count": 68,
   "metadata": {
    "colab": {
     "base_uri": "https://localhost:8080/"
    },
    "id": "zuPnekL18Ry7",
    "outputId": "dfe06afe-6fb1-46f4-a3b0-7b4ab39e208b"
   },
   "outputs": [
    {
     "name": "stdout",
     "output_type": "stream",
     "text": [
      "stats_mean_score       -3.443107\n",
      "join_year              -4.849010\n",
      "age                     0.748037\n",
      "year_last_online        8.644234\n",
      "gender_Female       -7198.857877\n",
      "gender_Male         -7183.345909\n",
      "gender_Non-Binary   -7194.897599\n",
      "location_AK          -411.190912\n",
      "location_AL          -425.077086\n",
      "location_AR          -423.735234\n",
      "location_AZ          -424.760112\n",
      "location_CA          -418.324449\n",
      "location_CO          -424.874551\n",
      "location_CT          -418.441841\n",
      "location_DC          -409.968635\n",
      "location_DE          -427.835231\n",
      "location_FL          -421.549107\n",
      "location_GA          -419.981071\n",
      "location_HI          -413.791436\n",
      "location_IA          -427.656143\n",
      "location_ID          -433.212729\n",
      "location_IL          -425.261435\n",
      "location_IN          -424.527632\n",
      "location_KS          -425.949584\n",
      "location_KY          -426.030963\n",
      "location_LA          -418.570349\n",
      "location_MA          -426.118872\n",
      "location_MD          -421.154210\n",
      "location_ME          -427.071075\n",
      "location_MI          -424.815248\n",
      "location_MN          -427.065022\n",
      "location_MO          -423.977546\n",
      "location_MS          -424.184340\n",
      "location_MT          -423.502459\n",
      "location_NC          -422.046351\n",
      "location_ND          -419.985192\n",
      "location_NE          -418.484860\n",
      "location_NH          -430.573383\n",
      "location_NJ          -421.866039\n",
      "location_NM          -427.293029\n",
      "location_NV          -418.638189\n",
      "location_NY          -419.379314\n",
      "location_OH          -428.083977\n",
      "location_OK          -425.890601\n",
      "location_OR          -421.202507\n",
      "location_PA          -425.048759\n",
      "location_RI          -422.307371\n",
      "location_SC          -424.981483\n",
      "location_SD          -419.877246\n",
      "location_TN          -421.101500\n",
      "location_TX          -420.649831\n",
      "location_UT          -422.990038\n",
      "location_VA          -424.026902\n",
      "location_VT          -405.806585\n",
      "location_WA          -422.468067\n",
      "location_WI          -424.958987\n",
      "location_WV          -432.463837\n",
      "location_WY          -438.350067\n",
      "dtype: float64\n"
     ]
    }
   ],
   "source": [
    "model = sm.OLS(y_train, X_train).fit()\n",
    "w = model.params\n",
    "print(w)"
   ]
  },
  {
   "cell_type": "code",
   "execution_count": 69,
   "metadata": {
    "colab": {
     "base_uri": "https://localhost:8080/"
    },
    "id": "rnixbA0N9brv",
    "outputId": "a5b5794a-0e8a-40f6-e4fa-2ab656cc56ec"
   },
   "outputs": [
    {
     "name": "stdout",
     "output_type": "stream",
     "text": [
      "                               OLS Regression Results                               \n",
      "====================================================================================\n",
      "Dep. Variable:     user_days_spent_watching   R-squared:                       0.257\n",
      "Model:                                  OLS   Adj. R-squared:                  0.254\n",
      "Method:                       Least Squares   F-statistic:                     93.62\n",
      "Date:                      Sun, 31 Oct 2021   Prob (F-statistic):               0.00\n",
      "Time:                              13:54:13   Log-Likelihood:                -80187.\n",
      "No. Observations:                     15204   AIC:                         1.605e+05\n",
      "Df Residuals:                         15147   BIC:                         1.609e+05\n",
      "Df Model:                                56                                         \n",
      "Covariance Type:                  nonrobust                                         \n",
      "=====================================================================================\n",
      "                        coef    std err          t      P>|t|      [0.025      0.975]\n",
      "-------------------------------------------------------------------------------------\n",
      "stats_mean_score     -3.4431      0.266    -12.944      0.000      -3.964      -2.922\n",
      "join_year            -4.8490      0.190    -25.580      0.000      -5.221      -4.477\n",
      "age                   0.7480      0.096      7.815      0.000       0.560       0.936\n",
      "year_last_online      8.6442      0.143     60.536      0.000       8.364       8.924\n",
      "gender_Female     -7198.8579    364.246    -19.764      0.000   -7912.825   -6484.891\n",
      "gender_Male       -7183.3459    364.405    -19.713      0.000   -7897.624   -6469.068\n",
      "gender_Non-Binary -7194.8976    364.740    -19.726      0.000   -7909.833   -6479.962\n",
      "location_AK        -411.1909     22.610    -18.187      0.000    -455.508    -366.874\n",
      "location_AL        -425.0771     21.731    -19.561      0.000    -467.673    -382.482\n",
      "location_AR        -423.7352     22.146    -19.134      0.000    -467.144    -380.327\n",
      "location_AZ        -424.7601     21.553    -19.708      0.000    -467.006    -382.514\n",
      "location_CA        -418.3244     21.447    -19.505      0.000    -460.363    -376.286\n",
      "location_CO        -424.8746     21.701    -19.579      0.000    -467.410    -382.339\n",
      "location_CT        -418.4418     21.768    -19.223      0.000    -461.109    -375.775\n",
      "location_DC        -409.9686     22.894    -17.907      0.000    -454.844    -365.094\n",
      "location_DE        -427.8352     22.445    -19.061      0.000    -471.830    -383.840\n",
      "location_FL        -421.5491     21.474    -19.631      0.000    -463.641    -379.458\n",
      "location_GA        -419.9811     21.534    -19.504      0.000    -462.189    -377.773\n",
      "location_HI        -413.7914     21.880    -18.912      0.000    -456.679    -370.904\n",
      "location_IA        -427.6561     21.911    -19.518      0.000    -470.603    -384.709\n",
      "location_ID        -433.2127     22.227    -19.490      0.000    -476.781    -389.645\n",
      "location_IL        -425.2614     21.518    -19.763      0.000    -467.440    -383.083\n",
      "location_IN        -424.5276     21.636    -19.621      0.000    -466.937    -382.118\n",
      "location_KS        -425.9496     21.903    -19.447      0.000    -468.883    -383.017\n",
      "location_KY        -426.0310     21.780    -19.560      0.000    -468.723    -383.339\n",
      "location_LA        -418.5703     21.717    -19.274      0.000    -461.138    -376.003\n",
      "location_MA        -426.1189     21.541    -19.782      0.000    -468.342    -383.896\n",
      "location_MD        -421.1542     21.579    -19.517      0.000    -463.452    -378.856\n",
      "location_ME        -427.0711     22.277    -19.171      0.000    -470.737    -383.406\n",
      "location_MI        -424.8152     21.565    -19.699      0.000    -467.085    -382.546\n",
      "location_MN        -427.0650     21.629    -19.745      0.000    -469.461    -384.669\n",
      "location_MO        -423.9775     21.759    -19.485      0.000    -466.628    -381.328\n",
      "location_MS        -424.1843     22.014    -19.269      0.000    -467.334    -381.035\n",
      "location_MT        -423.5025     23.680    -17.884      0.000    -469.918    -377.087\n",
      "location_NC        -422.0464     21.566    -19.570      0.000    -464.317    -379.775\n",
      "location_ND        -419.9852     23.096    -18.184      0.000    -465.257    -374.714\n",
      "location_NE        -418.4849     22.179    -18.869      0.000    -461.958    -375.012\n",
      "location_NH        -430.5734     22.348    -19.266      0.000    -474.379    -386.768\n",
      "location_NJ        -421.8660     21.524    -19.600      0.000    -464.056    -379.676\n",
      "location_NM        -427.2930     22.311    -19.152      0.000    -471.026    -383.560\n",
      "location_NV        -418.6382     21.677    -19.313      0.000    -461.127    -376.149\n",
      "location_NY        -419.3793     21.446    -19.555      0.000    -461.416    -377.342\n",
      "location_OH        -428.0840     21.534    -19.879      0.000    -470.294    -385.874\n",
      "location_OK        -425.8906     21.845    -19.496      0.000    -468.709    -383.073\n",
      "location_OR        -421.2025     21.678    -19.430      0.000    -463.694    -378.711\n",
      "location_PA        -425.0488     21.538    -19.735      0.000    -467.266    -382.832\n",
      "location_RI        -422.3074     22.365    -18.883      0.000    -466.145    -378.470\n",
      "location_SC        -424.9815     21.861    -19.440      0.000    -467.832    -382.131\n",
      "location_SD        -419.8772     23.790    -17.649      0.000    -466.509    -373.246\n",
      "location_TN        -421.1015     21.697    -19.408      0.000    -463.630    -378.573\n",
      "location_TX        -420.6498     21.505    -19.561      0.000    -462.802    -378.498\n",
      "location_UT        -422.9900     21.882    -19.331      0.000    -465.881    -380.099\n",
      "location_VA        -424.0269     21.575    -19.654      0.000    -466.317    -381.737\n",
      "location_VT        -405.8066     23.591    -17.202      0.000    -452.047    -359.566\n",
      "location_WA        -422.4681     21.537    -19.616      0.000    -464.683    -380.253\n",
      "location_WI        -424.9590     21.641    -19.637      0.000    -467.378    -382.540\n",
      "location_WV        -432.4638     22.542    -19.184      0.000    -476.650    -388.278\n",
      "location_WY        -438.3501     25.199    -17.395      0.000    -487.744    -388.957\n",
      "==============================================================================\n",
      "Omnibus:                     9038.589   Durbin-Watson:                   1.968\n",
      "Prob(Omnibus):                  0.000   Jarque-Bera (JB):           147286.339\n",
      "Skew:                           2.552   Prob(JB):                         0.00\n",
      "Kurtosis:                      17.368   Cond. No.                     1.02e+16\n",
      "==============================================================================\n",
      "\n",
      "Notes:\n",
      "[1] Standard Errors assume that the covariance matrix of the errors is correctly specified.\n",
      "[2] The smallest eigenvalue is 1.19e-21. This might indicate that there are\n",
      "strong multicollinearity problems or that the design matrix is singular.\n"
     ]
    }
   ],
   "source": [
    "print(model.summary())"
   ]
  },
  {
   "cell_type": "code",
   "execution_count": 70,
   "metadata": {
    "id": "ah6_M95D5XQF"
   },
   "outputs": [],
   "source": [
    "# feature engineering\n",
    "users_test[\"year_last_online\"] = pd.to_datetime(users_test.last_online).apply(lambda date: date.year)\n",
    "# drop columns that have no value or \n",
    "X_test = users_test.drop(['Unnamed: 0', 'username', 'birth_date', 'user_id', 'join_date', 'last_online', 'access_rank',\n",
    "                         'user_watching', 'user_completed', 'user_onhold', 'user_dropped', 'user_plantowatch', 'stats_rewatched'], axis=1)\n",
    "# drop columns we expect to be overcorrelated\n",
    "X_test = X_test.drop(['stats_episodes'], axis=1)\n",
    "# drop feature column\n",
    "X_test = X_test.drop(['user_days_spent_watching'], axis=1)\n",
    "# create dummies\n",
    "X_test = pd.get_dummies(X_test)\n",
    "# fill na values with their average value in the column\n",
    "X_test = X_test.fillna(X_test.mean())\n",
    "\n",
    "y_test = users_test.user_days_spent_watching"
   ]
  },
  {
   "cell_type": "markdown",
   "metadata": {},
   "source": [
    "## normalized label datasets"
   ]
  },
  {
   "cell_type": "code",
   "execution_count": 71,
   "metadata": {},
   "outputs": [],
   "source": [
    "mean = y_train.mean()\n",
    "sigma = y_train.std()\n",
    "y_train_norm = y_train.map(lambda x : (x-mean)/sigma)\n",
    "\n",
    "y_test_norm = y_test.map(lambda x : (x-mean)/sigma)"
   ]
  },
  {
   "cell_type": "markdown",
   "metadata": {},
   "source": [
    "## outliers-purged dataset"
   ]
  },
  {
   "cell_type": "code",
   "execution_count": 72,
   "metadata": {},
   "outputs": [],
   "source": [
    "y_train_no_outs = y_train[y_train<y_train.quantile(0.99)]\n",
    "y_train_no_outs_idx = y_train_no_outs.index\n",
    "X_train_no_outs = X_train.loc[y_train_no_outs.index]"
   ]
  },
  {
   "cell_type": "markdown",
   "metadata": {},
   "source": [
    "(After testing, normalizing labels and removing outlier labels didn't really improve the accuracy much, adjusted for the magnitude of the labels)"
   ]
  },
  {
   "cell_type": "markdown",
   "metadata": {},
   "source": [
    "## SKLEARN LIN REG "
   ]
  },
  {
   "cell_type": "code",
   "execution_count": 14,
   "metadata": {},
   "outputs": [
    {
     "data": {
      "text/plain": [
       "array([-3.44311740e+00, -4.84886060e+00,  7.48047866e-01,  8.64420453e+00,\n",
       "        3.60631531e+11,  3.60631531e+11,  3.60631531e+11,  1.73966475e+09,\n",
       "        1.73966473e+09,  1.73966473e+09,  1.73966473e+09,  1.73966474e+09,\n",
       "        1.73966473e+09,  1.73966474e+09,  1.73966475e+09,  1.73966473e+09,\n",
       "        1.73966474e+09,  1.73966474e+09,  1.73966474e+09,  1.73966473e+09,\n",
       "        1.73966472e+09,  1.73966473e+09,  1.73966473e+09,  1.73966473e+09,\n",
       "        1.73966473e+09,  1.73966474e+09,  1.73966473e+09,  1.73966474e+09,\n",
       "        1.73966473e+09,  1.73966473e+09,  1.73966473e+09,  1.73966473e+09,\n",
       "        1.73966473e+09,  1.73966473e+09,  1.73966474e+09,  1.73966474e+09,\n",
       "        1.73966474e+09,  1.73966473e+09,  1.73966474e+09,  1.73966473e+09,\n",
       "        1.73966474e+09,  1.73966474e+09,  1.73966473e+09,  1.73966473e+09,\n",
       "        1.73966474e+09,  1.73966473e+09,  1.73966474e+09,  1.73966473e+09,\n",
       "        1.73966474e+09,  1.73966474e+09,  1.73966474e+09,  1.73966473e+09,\n",
       "        1.73966473e+09,  1.73966475e+09,  1.73966474e+09,  1.73966473e+09,\n",
       "        1.73966473e+09,  1.73966472e+09])"
      ]
     },
     "execution_count": 14,
     "metadata": {},
     "output_type": "execute_result"
    }
   ],
   "source": [
    "lin_reg = LinearRegression(fit_intercept = True).fit(X_train, y_train)\n",
    "lin_reg.coef_"
   ]
  },
  {
   "cell_type": "code",
   "execution_count": 15,
   "metadata": {},
   "outputs": [
    {
     "name": "stdout",
     "output_type": "stream",
     "text": [
      "training error\n",
      "2230.997941111128\n",
      "testing error\n",
      "2079.580423524932\n"
     ]
    }
   ],
   "source": [
    "print(\"training error\")\n",
    "print(sklearn.metrics.mean_squared_error(y_train, lin_reg.predict(X_train)))\n",
    "print(\"testing error\")\n",
    "print(sklearn.metrics.mean_squared_error(y_test, lin_reg.predict(X_test)))\n"
   ]
  },
  {
   "cell_type": "code",
   "execution_count": 16,
   "metadata": {},
   "outputs": [
    {
     "data": {
      "text/plain": [
       "<matplotlib.collections.PathCollection at 0x2177b497340>"
      ]
     },
     "execution_count": 16,
     "metadata": {},
     "output_type": "execute_result"
    },
    {
     "data": {
      "image/png": "[encoded data removed]",
      "text/plain": [
       "<Figure size 432x288 with 1 Axes>"
      ]
     },
     "metadata": {
      "needs_background": "light"
     },
     "output_type": "display_data"
    }
   ],
   "source": [
    "plt.scatter(lin_reg.predict(X_test), y_test, s = 1)"
   ]
  },
  {
   "cell_type": "markdown",
   "metadata": {},
   "source": [
    "## First attempt at correction: ridge regression"
   ]
  },
  {
   "cell_type": "code",
   "execution_count": 84,
   "metadata": {},
   "outputs": [],
   "source": [
    "cv_ridge = sklearn.model_selection.RandomizedSearchCV(Ridge(), {'alpha' : list(np.arange(0.01, 1000, 0.1))}, \n",
    "                                                      scoring = 'neg_mean_squared_error',\n",
    "                                                     n_iter = 1000, random_state = 0)"
   ]
  },
  {
   "cell_type": "code",
   "execution_count": 85,
   "metadata": {},
   "outputs": [],
   "source": [
    "cv_ridge_res = cv_ridge.fit(X_train, y_train)"
   ]
  },
  {
   "cell_type": "code",
   "execution_count": 86,
   "metadata": {},
   "outputs": [
    {
     "data": {
      "text/plain": [
       "[{'alpha': 939.4100000000001},\n",
       " {'alpha': 89.81000000000002},\n",
       " {'alpha': 239.81},\n",
       " {'alpha': 590.61},\n",
       " {'alpha': 234.31},\n",
       " {'alpha': 822.51},\n",
       " {'alpha': 550.61},\n",
       " {'alpha': 645.11},\n",
       " {'alpha': 267.01},\n",
       " {'alpha': 349.71000000000004},\n",
       " {'alpha': 108.71000000000001},\n",
       " {'alpha': 181.91},\n",
       " {'alpha': 230.81},\n",
       " {'alpha': 608.41},\n",
       " {'alpha': 372.41},\n",
       " {'alpha': 318.41},\n",
       " {'alpha': 638.71},\n",
       " {'alpha': 372.81},\n",
       " {'alpha': 270.21},\n",
       " {'alpha': 788.3100000000001},\n",
       " {'alpha': 293.01},\n",
       " {'alpha': 598.8100000000001},\n",
       " {'alpha': 489.01},\n",
       " {'alpha': 671.8100000000001},\n",
       " {'alpha': 542.3100000000001},\n",
       " {'alpha': 321.31},\n",
       " {'alpha': 301.71},\n",
       " {'alpha': 38.21},\n",
       " {'alpha': 423.71000000000004},\n",
       " {'alpha': 472.11},\n",
       " {'alpha': 954.71},\n",
       " {'alpha': 947.71},\n",
       " {'alpha': 479.51},\n",
       " {'alpha': 474.71000000000004},\n",
       " {'alpha': 936.61},\n",
       " {'alpha': 533.41},\n",
       " {'alpha': 665.21},\n",
       " {'alpha': 903.21},\n",
       " {'alpha': 58.01},\n",
       " {'alpha': 949.11},\n",
       " {'alpha': 652.61},\n",
       " {'alpha': 434.61},\n",
       " {'alpha': 497.41},\n",
       " {'alpha': 791.3100000000001},\n",
       " {'alpha': 561.11},\n",
       " {'alpha': 848.01},\n",
       " {'alpha': 662.51},\n",
       " {'alpha': 561.51},\n",
       " {'alpha': 560.21},\n",
       " {'alpha': 485.71000000000004},\n",
       " {'alpha': 673.4100000000001},\n",
       " {'alpha': 845.11},\n",
       " {'alpha': 633.21},\n",
       " {'alpha': 679.8100000000001},\n",
       " {'alpha': 531.3100000000001},\n",
       " {'alpha': 282.11},\n",
       " {'alpha': 930.01},\n",
       " {'alpha': 237.51},\n",
       " {'alpha': 147.81},\n",
       " {'alpha': 501.31},\n",
       " {'alpha': 155.91},\n",
       " {'alpha': 888.51},\n",
       " {'alpha': 398.61},\n",
       " {'alpha': 442.91},\n",
       " {'alpha': 395.11},\n",
       " {'alpha': 293.21},\n",
       " {'alpha': 641.9100000000001},\n",
       " {'alpha': 71.31},\n",
       " {'alpha': 808.9100000000001},\n",
       " {'alpha': 605.8100000000001},\n",
       " {'alpha': 871.11},\n",
       " {'alpha': 418.51},\n",
       " {'alpha': 437.91},\n",
       " {'alpha': 781.3100000000001},\n",
       " {'alpha': 84.31000000000002},\n",
       " {'alpha': 65.51},\n",
       " {'alpha': 721.9100000000001},\n",
       " {'alpha': 98.21000000000001},\n",
       " {'alpha': 743.9100000000001},\n",
       " {'alpha': 889.4100000000001},\n",
       " {'alpha': 59.81},\n",
       " {'alpha': 535.01},\n",
       " {'alpha': 422.11},\n",
       " {'alpha': 142.21},\n",
       " {'alpha': 364.61},\n",
       " {'alpha': 438.71000000000004},\n",
       " {'alpha': 260.61},\n",
       " {'alpha': 422.81},\n",
       " {'alpha': 109.61000000000001},\n",
       " {'alpha': 894.01},\n",
       " {'alpha': 581.41},\n",
       " {'alpha': 370.61},\n",
       " {'alpha': 284.61},\n",
       " {'alpha': 46.71},\n",
       " {'alpha': 831.4100000000001},\n",
       " {'alpha': 459.51},\n",
       " {'alpha': 372.51},\n",
       " {'alpha': 645.01},\n",
       " {'alpha': 684.61},\n",
       " {'alpha': 389.11},\n",
       " {'alpha': 740.71},\n",
       " {'alpha': 589.21},\n",
       " {'alpha': 530.11},\n",
       " {'alpha': 480.81},\n",
       " {'alpha': 814.8100000000001},\n",
       " {'alpha': 393.11},\n",
       " {'alpha': 967.21},\n",
       " {'alpha': 131.21},\n",
       " {'alpha': 194.21},\n",
       " {'alpha': 84.11000000000001},\n",
       " {'alpha': 579.21},\n",
       " {'alpha': 368.31},\n",
       " {'alpha': 887.61},\n",
       " {'alpha': 566.01},\n",
       " {'alpha': 444.71000000000004},\n",
       " {'alpha': 306.61},\n",
       " {'alpha': 813.51},\n",
       " {'alpha': 595.71},\n",
       " {'alpha': 467.81},\n",
       " {'alpha': 286.91},\n",
       " {'alpha': 253.51},\n",
       " {'alpha': 548.21},\n",
       " {'alpha': 430.21000000000004},\n",
       " {'alpha': 560.8100000000001},\n",
       " {'alpha': 752.71},\n",
       " {'alpha': 153.41},\n",
       " {'alpha': 811.01},\n",
       " {'alpha': 669.9100000000001},\n",
       " {'alpha': 469.61},\n",
       " {'alpha': 258.01},\n",
       " {'alpha': 717.8100000000001},\n",
       " {'alpha': 464.41},\n",
       " {'alpha': 485.81},\n",
       " {'alpha': 594.61},\n",
       " {'alpha': 982.21},\n",
       " {'alpha': 467.31},\n",
       " {'alpha': 334.11},\n",
       " {'alpha': 137.60999999999999},\n",
       " {'alpha': 932.01},\n",
       " {'alpha': 627.51},\n",
       " {'alpha': 130.81},\n",
       " {'alpha': 756.9100000000001},\n",
       " {'alpha': 735.8100000000001},\n",
       " {'alpha': 225.21},\n",
       " {'alpha': 989.21},\n",
       " {'alpha': 883.01},\n",
       " {'alpha': 798.01},\n",
       " {'alpha': 885.01},\n",
       " {'alpha': 934.51},\n",
       " {'alpha': 927.61},\n",
       " {'alpha': 52.11},\n",
       " {'alpha': 323.21000000000004},\n",
       " {'alpha': 22.610000000000003},\n",
       " {'alpha': 395.31},\n",
       " {'alpha': 142.71},\n",
       " {'alpha': 874.8100000000001},\n",
       " {'alpha': 806.01},\n",
       " {'alpha': 552.51},\n",
       " {'alpha': 16.71},\n",
       " {'alpha': 110.31000000000002},\n",
       " {'alpha': 908.9100000000001},\n",
       " {'alpha': 675.9100000000001},\n",
       " {'alpha': 764.8100000000001},\n",
       " {'alpha': 547.3100000000001},\n",
       " {'alpha': 237.61},\n",
       " {'alpha': 29.610000000000003},\n",
       " {'alpha': 178.51},\n",
       " {'alpha': 768.4100000000001},\n",
       " {'alpha': 717.4100000000001},\n",
       " {'alpha': 470.01},\n",
       " {'alpha': 565.71},\n",
       " {'alpha': 649.21},\n",
       " {'alpha': 797.8100000000001},\n",
       " {'alpha': 108.51},\n",
       " {'alpha': 588.8100000000001},\n",
       " {'alpha': 971.51},\n",
       " {'alpha': 805.71},\n",
       " {'alpha': 140.21},\n",
       " {'alpha': 982.71},\n",
       " {'alpha': 397.71000000000004},\n",
       " {'alpha': 365.21000000000004},\n",
       " {'alpha': 445.61},\n",
       " {'alpha': 491.21000000000004},\n",
       " {'alpha': 257.91},\n",
       " {'alpha': 228.81},\n",
       " {'alpha': 830.11},\n",
       " {'alpha': 209.01},\n",
       " {'alpha': 581.8100000000001},\n",
       " {'alpha': 292.91},\n",
       " {'alpha': 25.610000000000003},\n",
       " {'alpha': 383.81},\n",
       " {'alpha': 604.91},\n",
       " {'alpha': 986.21},\n",
       " {'alpha': 410.01},\n",
       " {'alpha': 797.71},\n",
       " {'alpha': 303.91},\n",
       " {'alpha': 33.41},\n",
       " {'alpha': 705.3100000000001},\n",
       " {'alpha': 961.71},\n",
       " {'alpha': 693.9100000000001},\n",
       " {'alpha': 676.8100000000001},\n",
       " {'alpha': 77.91000000000001},\n",
       " {'alpha': 427.71000000000004},\n",
       " {'alpha': 150.71},\n",
       " {'alpha': 377.61},\n",
       " {'alpha': 220.61},\n",
       " {'alpha': 683.61},\n",
       " {'alpha': 846.11},\n",
       " {'alpha': 443.01},\n",
       " {'alpha': 792.3100000000001},\n",
       " {'alpha': 824.9100000000001},\n",
       " {'alpha': 844.71},\n",
       " {'alpha': 606.11},\n",
       " {'alpha': 464.31},\n",
       " {'alpha': 354.61},\n",
       " {'alpha': 717.61},\n",
       " {'alpha': 514.11},\n",
       " {'alpha': 126.11000000000001},\n",
       " {'alpha': 212.81},\n",
       " {'alpha': 974.8100000000001},\n",
       " {'alpha': 284.91},\n",
       " {'alpha': 416.81},\n",
       " {'alpha': 535.51},\n",
       " {'alpha': 99.21000000000001},\n",
       " {'alpha': 549.8100000000001},\n",
       " {'alpha': 671.4100000000001},\n",
       " {'alpha': 205.41},\n",
       " {'alpha': 933.3100000000001},\n",
       " {'alpha': 153.61},\n",
       " {'alpha': 907.11},\n",
       " {'alpha': 48.71},\n",
       " {'alpha': 922.8100000000001},\n",
       " {'alpha': 732.51},\n",
       " {'alpha': 600.51},\n",
       " {'alpha': 723.01},\n",
       " {'alpha': 723.51},\n",
       " {'alpha': 289.01},\n",
       " {'alpha': 57.81},\n",
       " {'alpha': 65.11000000000001},\n",
       " {'alpha': 27.210000000000004},\n",
       " {'alpha': 808.3100000000001},\n",
       " {'alpha': 781.01},\n",
       " {'alpha': 199.71},\n",
       " {'alpha': 704.9100000000001},\n",
       " {'alpha': 243.61},\n",
       " {'alpha': 200.61},\n",
       " {'alpha': 687.71},\n",
       " {'alpha': 460.81},\n",
       " {'alpha': 748.11},\n",
       " {'alpha': 194.61},\n",
       " {'alpha': 741.51},\n",
       " {'alpha': 120.11000000000001},\n",
       " {'alpha': 381.31},\n",
       " {'alpha': 403.31},\n",
       " {'alpha': 747.3100000000001},\n",
       " {'alpha': 366.71000000000004},\n",
       " {'alpha': 173.01},\n",
       " {'alpha': 870.9100000000001},\n",
       " {'alpha': 556.71},\n",
       " {'alpha': 683.71},\n",
       " {'alpha': 381.21000000000004},\n",
       " {'alpha': 674.01},\n",
       " {'alpha': 467.61},\n",
       " {'alpha': 128.31},\n",
       " {'alpha': 145.51},\n",
       " {'alpha': 532.21},\n",
       " {'alpha': 979.21},\n",
       " {'alpha': 19.01},\n",
       " {'alpha': 464.51},\n",
       " {'alpha': 56.51},\n",
       " {'alpha': 250.11},\n",
       " {'alpha': 936.8100000000001},\n",
       " {'alpha': 4.8100000000000005},\n",
       " {'alpha': 161.11},\n",
       " {'alpha': 948.21},\n",
       " {'alpha': 682.11},\n",
       " {'alpha': 204.31},\n",
       " {'alpha': 37.71},\n",
       " {'alpha': 441.31},\n",
       " {'alpha': 560.71},\n",
       " {'alpha': 408.71000000000004},\n",
       " {'alpha': 675.51},\n",
       " {'alpha': 149.51},\n",
       " {'alpha': 208.11},\n",
       " {'alpha': 761.21},\n",
       " {'alpha': 220.11},\n",
       " {'alpha': 138.21},\n",
       " {'alpha': 896.01},\n",
       " {'alpha': 473.71000000000004},\n",
       " {'alpha': 694.8100000000001},\n",
       " {'alpha': 308.61},\n",
       " {'alpha': 433.91},\n",
       " {'alpha': 833.9100000000001},\n",
       " {'alpha': 615.21},\n",
       " {'alpha': 546.11},\n",
       " {'alpha': 780.51},\n",
       " {'alpha': 522.8100000000001},\n",
       " {'alpha': 268.51},\n",
       " {'alpha': 572.51},\n",
       " {'alpha': 805.11},\n",
       " {'alpha': 765.51},\n",
       " {'alpha': 854.4100000000001},\n",
       " {'alpha': 400.71000000000004},\n",
       " {'alpha': 819.51},\n",
       " {'alpha': 698.51},\n",
       " {'alpha': 969.8100000000001},\n",
       " {'alpha': 648.8100000000001},\n",
       " {'alpha': 258.71},\n",
       " {'alpha': 822.11},\n",
       " {'alpha': 453.41},\n",
       " {'alpha': 541.61},\n",
       " {'alpha': 228.41},\n",
       " {'alpha': 335.81},\n",
       " {'alpha': 83.41000000000001},\n",
       " {'alpha': 566.71},\n",
       " {'alpha': 804.61},\n",
       " {'alpha': 316.91},\n",
       " {'alpha': 801.8100000000001},\n",
       " {'alpha': 55.51},\n",
       " {'alpha': 26.51},\n",
       " {'alpha': 363.71000000000004},\n",
       " {'alpha': 110.91000000000001},\n",
       " {'alpha': 734.61},\n",
       " {'alpha': 745.71},\n",
       " {'alpha': 15.91},\n",
       " {'alpha': 110.61000000000001},\n",
       " {'alpha': 23.01},\n",
       " {'alpha': 746.71},\n",
       " {'alpha': 664.21},\n",
       " {'alpha': 980.21},\n",
       " {'alpha': 307.11},\n",
       " {'alpha': 954.3100000000001},\n",
       " {'alpha': 707.01},\n",
       " {'alpha': 952.01},\n",
       " {'alpha': 481.31},\n",
       " {'alpha': 785.4100000000001},\n",
       " {'alpha': 211.31},\n",
       " {'alpha': 258.51},\n",
       " {'alpha': 182.41},\n",
       " {'alpha': 181.31},\n",
       " {'alpha': 831.01},\n",
       " {'alpha': 452.01},\n",
       " {'alpha': 456.81},\n",
       " {'alpha': 703.71},\n",
       " {'alpha': 358.51},\n",
       " {'alpha': 200.71},\n",
       " {'alpha': 884.9100000000001},\n",
       " {'alpha': 12.51},\n",
       " {'alpha': 114.91000000000001},\n",
       " {'alpha': 909.8100000000001},\n",
       " {'alpha': 112.11000000000001},\n",
       " {'alpha': 24.710000000000004},\n",
       " {'alpha': 937.11},\n",
       " {'alpha': 209.21},\n",
       " {'alpha': 953.4100000000001},\n",
       " {'alpha': 523.51},\n",
       " {'alpha': 327.41},\n",
       " {'alpha': 655.21},\n",
       " {'alpha': 997.01},\n",
       " {'alpha': 69.31},\n",
       " {'alpha': 536.71},\n",
       " {'alpha': 505.31},\n",
       " {'alpha': 929.8100000000001},\n",
       " {'alpha': 49.910000000000004},\n",
       " {'alpha': 739.8100000000001},\n",
       " {'alpha': 657.51},\n",
       " {'alpha': 577.71},\n",
       " {'alpha': 872.61},\n",
       " {'alpha': 574.11},\n",
       " {'alpha': 218.31},\n",
       " {'alpha': 117.61000000000001},\n",
       " {'alpha': 552.91},\n",
       " {'alpha': 102.91000000000001},\n",
       " {'alpha': 494.51},\n",
       " {'alpha': 642.51},\n",
       " {'alpha': 393.21000000000004},\n",
       " {'alpha': 318.11},\n",
       " {'alpha': 52.81},\n",
       " {'alpha': 385.01},\n",
       " {'alpha': 666.51},\n",
       " {'alpha': 941.61},\n",
       " {'alpha': 322.21000000000004},\n",
       " {'alpha': 201.71},\n",
       " {'alpha': 915.11},\n",
       " {'alpha': 340.21000000000004},\n",
       " {'alpha': 750.9100000000001},\n",
       " {'alpha': 641.21},\n",
       " {'alpha': 475.21000000000004},\n",
       " {'alpha': 656.11},\n",
       " {'alpha': 174.81},\n",
       " {'alpha': 659.11},\n",
       " {'alpha': 314.71000000000004},\n",
       " {'alpha': 203.61},\n",
       " {'alpha': 0.91},\n",
       " {'alpha': 512.11},\n",
       " {'alpha': 337.41},\n",
       " {'alpha': 602.71},\n",
       " {'alpha': 552.3100000000001},\n",
       " {'alpha': 550.51},\n",
       " {'alpha': 836.21},\n",
       " {'alpha': 281.71},\n",
       " {'alpha': 311.41},\n",
       " {'alpha': 273.41},\n",
       " {'alpha': 789.21},\n",
       " {'alpha': 113.21000000000001},\n",
       " {'alpha': 226.81},\n",
       " {'alpha': 250.61},\n",
       " {'alpha': 20.110000000000003},\n",
       " {'alpha': 833.01},\n",
       " {'alpha': 818.51},\n",
       " {'alpha': 589.11},\n",
       " {'alpha': 794.51},\n",
       " {'alpha': 22.110000000000003},\n",
       " {'alpha': 45.410000000000004},\n",
       " {'alpha': 24.210000000000004},\n",
       " {'alpha': 289.21},\n",
       " {'alpha': 773.11},\n",
       " {'alpha': 425.41},\n",
       " {'alpha': 671.21},\n",
       " {'alpha': 382.81},\n",
       " {'alpha': 865.51},\n",
       " {'alpha': 109.51},\n",
       " {'alpha': 800.61},\n",
       " {'alpha': 4.21},\n",
       " {'alpha': 586.8100000000001},\n",
       " {'alpha': 15.41},\n",
       " {'alpha': 669.4100000000001},\n",
       " {'alpha': 813.21},\n",
       " {'alpha': 668.51},\n",
       " {'alpha': 137.91},\n",
       " {'alpha': 604.11},\n",
       " {'alpha': 475.71000000000004},\n",
       " {'alpha': 807.21},\n",
       " {'alpha': 454.61},\n",
       " {'alpha': 969.3100000000001},\n",
       " {'alpha': 159.31},\n",
       " {'alpha': 926.21},\n",
       " {'alpha': 769.9100000000001},\n",
       " {'alpha': 17.610000000000003},\n",
       " {'alpha': 933.4100000000001},\n",
       " {'alpha': 369.61},\n",
       " {'alpha': 314.01},\n",
       " {'alpha': 307.91},\n",
       " {'alpha': 398.11},\n",
       " {'alpha': 827.61},\n",
       " {'alpha': 884.51},\n",
       " {'alpha': 760.21},\n",
       " {'alpha': 696.8100000000001},\n",
       " {'alpha': 311.81},\n",
       " {'alpha': 261.31},\n",
       " {'alpha': 682.51},\n",
       " {'alpha': 674.8100000000001},\n",
       " {'alpha': 243.41},\n",
       " {'alpha': 745.01},\n",
       " {'alpha': 164.51},\n",
       " {'alpha': 18.910000000000004},\n",
       " {'alpha': 413.51},\n",
       " {'alpha': 351.01},\n",
       " {'alpha': 905.4100000000001},\n",
       " {'alpha': 998.3100000000001},\n",
       " {'alpha': 421.41},\n",
       " {'alpha': 878.9100000000001},\n",
       " {'alpha': 164.41},\n",
       " {'alpha': 803.4100000000001},\n",
       " {'alpha': 518.61},\n",
       " {'alpha': 400.11},\n",
       " {'alpha': 310.01},\n",
       " {'alpha': 568.61},\n",
       " {'alpha': 812.8100000000001},\n",
       " {'alpha': 825.9100000000001},\n",
       " {'alpha': 241.11},\n",
       " {'alpha': 706.21},\n",
       " {'alpha': 757.71},\n",
       " {'alpha': 866.21},\n",
       " {'alpha': 655.4100000000001},\n",
       " {'alpha': 336.81},\n",
       " {'alpha': 59.71},\n",
       " {'alpha': 247.61},\n",
       " {'alpha': 820.4100000000001},\n",
       " {'alpha': 379.01},\n",
       " {'alpha': 503.41},\n",
       " {'alpha': 450.11},\n",
       " {'alpha': 798.61},\n",
       " {'alpha': 604.61},\n",
       " {'alpha': 539.91},\n",
       " {'alpha': 873.4100000000001},\n",
       " {'alpha': 99.41000000000001},\n",
       " {'alpha': 556.21},\n",
       " {'alpha': 637.61},\n",
       " {'alpha': 278.41},\n",
       " {'alpha': 146.81},\n",
       " {'alpha': 523.21},\n",
       " {'alpha': 306.51},\n",
       " {'alpha': 449.01},\n",
       " {'alpha': 250.01},\n",
       " {'alpha': 893.8100000000001},\n",
       " {'alpha': 929.11},\n",
       " {'alpha': 49.11},\n",
       " {'alpha': 202.11},\n",
       " {'alpha': 429.91},\n",
       " {'alpha': 79.91000000000001},\n",
       " {'alpha': 106.91000000000001},\n",
       " {'alpha': 841.01},\n",
       " {'alpha': 943.61},\n",
       " {'alpha': 509.91},\n",
       " {'alpha': 222.71},\n",
       " {'alpha': 46.21},\n",
       " {'alpha': 579.41},\n",
       " {'alpha': 735.9100000000001},\n",
       " {'alpha': 921.3100000000001},\n",
       " {'alpha': 356.61},\n",
       " {'alpha': 453.91},\n",
       " {'alpha': 83.61000000000001},\n",
       " {'alpha': 856.21},\n",
       " {'alpha': 176.11},\n",
       " {'alpha': 294.81},\n",
       " {'alpha': 455.81},\n",
       " {'alpha': 635.3100000000001},\n",
       " {'alpha': 975.01},\n",
       " {'alpha': 947.4100000000001},\n",
       " {'alpha': 484.81},\n",
       " {'alpha': 303.01},\n",
       " {'alpha': 889.9100000000001},\n",
       " {'alpha': 384.21000000000004},\n",
       " {'alpha': 345.61},\n",
       " {'alpha': 183.51},\n",
       " {'alpha': 672.11},\n",
       " {'alpha': 875.4100000000001},\n",
       " {'alpha': 864.3100000000001},\n",
       " {'alpha': 219.31},\n",
       " {'alpha': 908.3100000000001},\n",
       " {'alpha': 263.91},\n",
       " {'alpha': 203.11},\n",
       " {'alpha': 718.8100000000001},\n",
       " {'alpha': 385.61},\n",
       " {'alpha': 11.91},\n",
       " {'alpha': 262.01},\n",
       " {'alpha': 485.51},\n",
       " {'alpha': 42.410000000000004},\n",
       " {'alpha': 951.71},\n",
       " {'alpha': 405.51},\n",
       " {'alpha': 772.21},\n",
       " {'alpha': 399.01},\n",
       " {'alpha': 32.01},\n",
       " {'alpha': 872.4100000000001},\n",
       " {'alpha': 920.4100000000001},\n",
       " {'alpha': 465.31},\n",
       " {'alpha': 275.41},\n",
       " {'alpha': 761.01},\n",
       " {'alpha': 675.61},\n",
       " {'alpha': 297.21},\n",
       " {'alpha': 439.21000000000004},\n",
       " {'alpha': 811.71},\n",
       " {'alpha': 923.01},\n",
       " {'alpha': 799.11},\n",
       " {'alpha': 933.51},\n",
       " {'alpha': 145.41},\n",
       " {'alpha': 116.71000000000001},\n",
       " {'alpha': 556.11},\n",
       " {'alpha': 302.31},\n",
       " {'alpha': 501.01},\n",
       " {'alpha': 359.41},\n",
       " {'alpha': 690.21},\n",
       " {'alpha': 809.8100000000001},\n",
       " {'alpha': 688.3100000000001},\n",
       " {'alpha': 463.91},\n",
       " {'alpha': 3.61},\n",
       " {'alpha': 969.11},\n",
       " {'alpha': 998.01},\n",
       " {'alpha': 961.61},\n",
       " {'alpha': 875.01},\n",
       " {'alpha': 92.01},\n",
       " {'alpha': 994.61},\n",
       " {'alpha': 416.61},\n",
       " {'alpha': 12.110000000000001},\n",
       " {'alpha': 974.21},\n",
       " {'alpha': 848.8100000000001},\n",
       " {'alpha': 542.51},\n",
       " {'alpha': 544.71},\n",
       " {'alpha': 212.41},\n",
       " {'alpha': 135.10999999999999},\n",
       " {'alpha': 878.01},\n",
       " {'alpha': 343.11},\n",
       " {'alpha': 714.9100000000001},\n",
       " {'alpha': 69.21000000000001},\n",
       " {'alpha': 203.21},\n",
       " {'alpha': 243.11},\n",
       " {'alpha': 129.71},\n",
       " {'alpha': 670.61},\n",
       " {'alpha': 979.61},\n",
       " {'alpha': 256.91},\n",
       " {'alpha': 253.01},\n",
       " {'alpha': 818.71},\n",
       " {'alpha': 165.41},\n",
       " {'alpha': 956.9100000000001},\n",
       " {'alpha': 449.21000000000004},\n",
       " {'alpha': 363.61},\n",
       " {'alpha': 522.11},\n",
       " {'alpha': 708.01},\n",
       " {'alpha': 151.41},\n",
       " {'alpha': 15.01},\n",
       " {'alpha': 277.41},\n",
       " {'alpha': 406.41},\n",
       " {'alpha': 512.21},\n",
       " {'alpha': 798.21},\n",
       " {'alpha': 913.3100000000001},\n",
       " {'alpha': 627.71},\n",
       " {'alpha': 88.81000000000002},\n",
       " {'alpha': 681.01},\n",
       " {'alpha': 755.61},\n",
       " {'alpha': 431.01},\n",
       " {'alpha': 279.71},\n",
       " {'alpha': 953.8100000000001},\n",
       " {'alpha': 768.8100000000001},\n",
       " {'alpha': 287.21},\n",
       " {'alpha': 463.41},\n",
       " {'alpha': 513.41},\n",
       " {'alpha': 255.01},\n",
       " {'alpha': 495.91},\n",
       " {'alpha': 841.21},\n",
       " {'alpha': 576.41},\n",
       " {'alpha': 176.61},\n",
       " {'alpha': 729.71},\n",
       " {'alpha': 743.21},\n",
       " {'alpha': 496.41},\n",
       " {'alpha': 955.71},\n",
       " {'alpha': 665.11},\n",
       " {'alpha': 4.41},\n",
       " {'alpha': 394.41},\n",
       " {'alpha': 18.110000000000003},\n",
       " {'alpha': 594.11},\n",
       " {'alpha': 749.9100000000001},\n",
       " {'alpha': 785.71},\n",
       " {'alpha': 672.71},\n",
       " {'alpha': 706.51},\n",
       " {'alpha': 305.11},\n",
       " {'alpha': 429.81},\n",
       " {'alpha': 652.01},\n",
       " {'alpha': 704.11},\n",
       " {'alpha': 137.31},\n",
       " {'alpha': 849.71},\n",
       " {'alpha': 821.4100000000001},\n",
       " {'alpha': 918.9100000000001},\n",
       " {'alpha': 993.4100000000001},\n",
       " {'alpha': 44.910000000000004},\n",
       " {'alpha': 115.61000000000001},\n",
       " {'alpha': 213.71},\n",
       " {'alpha': 666.71},\n",
       " {'alpha': 778.01},\n",
       " {'alpha': 706.11},\n",
       " {'alpha': 14.01},\n",
       " {'alpha': 244.81},\n",
       " {'alpha': 825.11},\n",
       " {'alpha': 496.01},\n",
       " {'alpha': 945.9100000000001},\n",
       " {'alpha': 830.21},\n",
       " {'alpha': 602.01},\n",
       " {'alpha': 568.01},\n",
       " {'alpha': 684.8100000000001},\n",
       " {'alpha': 122.01},\n",
       " {'alpha': 66.51},\n",
       " {'alpha': 325.31},\n",
       " {'alpha': 562.21},\n",
       " {'alpha': 558.71},\n",
       " {'alpha': 627.21},\n",
       " {'alpha': 784.11},\n",
       " {'alpha': 667.11},\n",
       " {'alpha': 612.51},\n",
       " {'alpha': 368.91},\n",
       " {'alpha': 917.21},\n",
       " {'alpha': 458.11},\n",
       " {'alpha': 812.3100000000001},\n",
       " {'alpha': 91.51},\n",
       " {'alpha': 747.9100000000001},\n",
       " {'alpha': 642.61},\n",
       " {'alpha': 184.51},\n",
       " {'alpha': 301.91},\n",
       " {'alpha': 860.71},\n",
       " {'alpha': 440.61},\n",
       " {'alpha': 679.4100000000001},\n",
       " {'alpha': 900.61},\n",
       " {'alpha': 132.81},\n",
       " {'alpha': 428.41},\n",
       " {'alpha': 55.11},\n",
       " {'alpha': 824.3100000000001},\n",
       " {'alpha': 747.11},\n",
       " {'alpha': 753.01},\n",
       " {'alpha': 235.91},\n",
       " {'alpha': 700.11},\n",
       " {'alpha': 784.8100000000001},\n",
       " {'alpha': 204.81},\n",
       " {'alpha': 146.60999999999999},\n",
       " {'alpha': 881.51},\n",
       " {'alpha': 643.4100000000001},\n",
       " {'alpha': 528.61},\n",
       " {'alpha': 293.61},\n",
       " {'alpha': 756.21},\n",
       " {'alpha': 591.61},\n",
       " {'alpha': 174.61},\n",
       " {'alpha': 388.31},\n",
       " {'alpha': 151.91},\n",
       " {'alpha': 593.8100000000001},\n",
       " {'alpha': 439.91},\n",
       " {'alpha': 547.41},\n",
       " {'alpha': 250.31},\n",
       " {'alpha': 588.61},\n",
       " {'alpha': 566.41},\n",
       " {'alpha': 395.41},\n",
       " {'alpha': 516.71},\n",
       " {'alpha': 773.51},\n",
       " {'alpha': 54.11},\n",
       " {'alpha': 135.91},\n",
       " {'alpha': 198.51},\n",
       " {'alpha': 821.3100000000001},\n",
       " {'alpha': 949.51},\n",
       " {'alpha': 903.61},\n",
       " {'alpha': 688.01},\n",
       " {'alpha': 964.11},\n",
       " {'alpha': 574.71},\n",
       " {'alpha': 25.310000000000002},\n",
       " {'alpha': 66.01},\n",
       " {'alpha': 682.8100000000001},\n",
       " {'alpha': 224.11},\n",
       " {'alpha': 869.11},\n",
       " {'alpha': 720.11},\n",
       " {'alpha': 797.61},\n",
       " {'alpha': 859.4100000000001},\n",
       " {'alpha': 97.41000000000001},\n",
       " {'alpha': 894.11},\n",
       " {'alpha': 696.3100000000001},\n",
       " {'alpha': 430.61},\n",
       " {'alpha': 820.51},\n",
       " {'alpha': 907.3100000000001},\n",
       " {'alpha': 592.21},\n",
       " {'alpha': 741.11},\n",
       " {'alpha': 926.8100000000001},\n",
       " {'alpha': 501.81},\n",
       " {'alpha': 577.11},\n",
       " {'alpha': 893.9100000000001},\n",
       " {'alpha': 692.4100000000001},\n",
       " {'alpha': 539.8100000000001},\n",
       " {'alpha': 412.71000000000004},\n",
       " {'alpha': 329.71000000000004},\n",
       " {'alpha': 151.60999999999999},\n",
       " {'alpha': 610.11},\n",
       " {'alpha': 103.51},\n",
       " {'alpha': 967.8100000000001},\n",
       " {'alpha': 3.31},\n",
       " {'alpha': 626.8100000000001},\n",
       " {'alpha': 293.31},\n",
       " {'alpha': 857.01},\n",
       " {'alpha': 68.31},\n",
       " {'alpha': 721.4100000000001},\n",
       " {'alpha': 370.51},\n",
       " {'alpha': 24.410000000000004},\n",
       " {'alpha': 939.11},\n",
       " {'alpha': 705.71},\n",
       " {'alpha': 453.21000000000004},\n",
       " {'alpha': 457.91},\n",
       " {'alpha': 123.51},\n",
       " {'alpha': 385.81},\n",
       " {'alpha': 123.81000000000002},\n",
       " {'alpha': 613.8100000000001},\n",
       " {'alpha': 843.4100000000001},\n",
       " {'alpha': 141.81},\n",
       " {'alpha': 697.01},\n",
       " {'alpha': 70.41000000000001},\n",
       " {'alpha': 344.31},\n",
       " {'alpha': 413.81},\n",
       " {'alpha': 612.91},\n",
       " {'alpha': 57.410000000000004},\n",
       " {'alpha': 813.01},\n",
       " {'alpha': 920.3100000000001},\n",
       " {'alpha': 465.91},\n",
       " {'alpha': 688.71},\n",
       " {'alpha': 406.31},\n",
       " {'alpha': 958.51},\n",
       " {'alpha': 950.61},\n",
       " {'alpha': 23.410000000000004},\n",
       " {'alpha': 698.4100000000001},\n",
       " {'alpha': 146.71},\n",
       " {'alpha': 535.21},\n",
       " {'alpha': 216.21},\n",
       " {'alpha': 537.11},\n",
       " {'alpha': 460.11},\n",
       " {'alpha': 49.51},\n",
       " {'alpha': 57.21},\n",
       " {'alpha': 672.61},\n",
       " {'alpha': 581.51},\n",
       " {'alpha': 645.51},\n",
       " {'alpha': 110.21000000000001},\n",
       " {'alpha': 114.51},\n",
       " {'alpha': 600.91},\n",
       " {'alpha': 415.61},\n",
       " {'alpha': 551.01},\n",
       " {'alpha': 434.31},\n",
       " {'alpha': 580.61},\n",
       " {'alpha': 441.21000000000004},\n",
       " {'alpha': 402.91},\n",
       " {'alpha': 109.11000000000001},\n",
       " {'alpha': 392.51},\n",
       " {'alpha': 352.41},\n",
       " {'alpha': 963.01},\n",
       " {'alpha': 385.71000000000004},\n",
       " {'alpha': 249.91},\n",
       " {'alpha': 225.01},\n",
       " {'alpha': 213.41},\n",
       " {'alpha': 557.91},\n",
       " {'alpha': 402.41},\n",
       " {'alpha': 587.3100000000001},\n",
       " {'alpha': 425.11},\n",
       " {'alpha': 874.61},\n",
       " {'alpha': 933.8100000000001},\n",
       " {'alpha': 645.21},\n",
       " {'alpha': 109.81000000000002},\n",
       " {'alpha': 745.51},\n",
       " {'alpha': 484.61},\n",
       " {'alpha': 39.01},\n",
       " {'alpha': 703.21},\n",
       " {'alpha': 807.8100000000001},\n",
       " {'alpha': 375.01},\n",
       " {'alpha': 200.91},\n",
       " {'alpha': 276.01},\n",
       " {'alpha': 166.21},\n",
       " {'alpha': 850.51},\n",
       " {'alpha': 439.81},\n",
       " {'alpha': 742.21},\n",
       " {'alpha': 536.61},\n",
       " {'alpha': 710.51},\n",
       " {'alpha': 475.31},\n",
       " {'alpha': 17.01},\n",
       " {'alpha': 521.8100000000001},\n",
       " {'alpha': 938.21},\n",
       " {'alpha': 355.31},\n",
       " {'alpha': 282.61},\n",
       " {'alpha': 216.71},\n",
       " {'alpha': 291.91},\n",
       " {'alpha': 458.01},\n",
       " {'alpha': 124.01},\n",
       " {'alpha': 348.21000000000004},\n",
       " {'alpha': 408.51},\n",
       " {'alpha': 772.11},\n",
       " {'alpha': 914.61},\n",
       " {'alpha': 123.71000000000001},\n",
       " {'alpha': 792.51},\n",
       " {'alpha': 331.51},\n",
       " {'alpha': 399.21000000000004},\n",
       " {'alpha': 805.21},\n",
       " {'alpha': 312.51},\n",
       " {'alpha': 22.410000000000004},\n",
       " {'alpha': 73.51},\n",
       " {'alpha': 897.3100000000001},\n",
       " {'alpha': 157.71},\n",
       " {'alpha': 979.8100000000001},\n",
       " {'alpha': 67.11000000000001},\n",
       " {'alpha': 136.31},\n",
       " {'alpha': 636.8100000000001},\n",
       " {'alpha': 621.4100000000001},\n",
       " {'alpha': 422.61},\n",
       " {'alpha': 989.61},\n",
       " {'alpha': 250.91},\n",
       " {'alpha': 902.61},\n",
       " {'alpha': 794.71},\n",
       " {'alpha': 817.8100000000001},\n",
       " {'alpha': 938.01},\n",
       " {'alpha': 3.91},\n",
       " {'alpha': 785.8100000000001},\n",
       " {'alpha': 419.11},\n",
       " {'alpha': 628.4100000000001},\n",
       " {'alpha': 930.51},\n",
       " {'alpha': 3.11},\n",
       " {'alpha': 72.21000000000001},\n",
       " {'alpha': 478.01},\n",
       " {'alpha': 795.3100000000001},\n",
       " {'alpha': 402.21000000000004},\n",
       " {'alpha': 548.51},\n",
       " {'alpha': 848.21},\n",
       " {'alpha': 880.51},\n",
       " {'alpha': 41.51},\n",
       " {'alpha': 12.610000000000001},\n",
       " {'alpha': 378.91},\n",
       " {'alpha': 719.51},\n",
       " {'alpha': 295.81},\n",
       " {'alpha': 146.10999999999999},\n",
       " {'alpha': 489.41},\n",
       " {'alpha': 518.8100000000001},\n",
       " {'alpha': 827.8100000000001},\n",
       " {'alpha': 129.41},\n",
       " {'alpha': 732.71},\n",
       " {'alpha': 863.3100000000001},\n",
       " {'alpha': 509.31},\n",
       " {'alpha': 895.51},\n",
       " {'alpha': 724.21},\n",
       " {'alpha': 574.21},\n",
       " {'alpha': 489.21000000000004},\n",
       " {'alpha': 644.3100000000001},\n",
       " {'alpha': 866.8100000000001},\n",
       " {'alpha': 826.51},\n",
       " {'alpha': 166.91},\n",
       " {'alpha': 692.01},\n",
       " {'alpha': 315.21000000000004},\n",
       " {'alpha': 928.3100000000001},\n",
       " {'alpha': 289.81},\n",
       " {'alpha': 592.51},\n",
       " {'alpha': 749.71},\n",
       " {'alpha': 667.8100000000001},\n",
       " {'alpha': 869.01},\n",
       " {'alpha': 664.8100000000001},\n",
       " {'alpha': 997.11},\n",
       " {'alpha': 663.21},\n",
       " {'alpha': 709.21},\n",
       " {'alpha': 730.9100000000001},\n",
       " {'alpha': 466.51},\n",
       " {'alpha': 592.61},\n",
       " {'alpha': 183.11},\n",
       " {'alpha': 41.01},\n",
       " {'alpha': 987.01},\n",
       " {'alpha': 996.4100000000001},\n",
       " {'alpha': 204.91},\n",
       " {'alpha': 725.61},\n",
       " {'alpha': 274.91},\n",
       " {'alpha': 327.31},\n",
       " {'alpha': 868.21},\n",
       " {'alpha': 384.11},\n",
       " {'alpha': 641.11},\n",
       " {'alpha': 47.61},\n",
       " {'alpha': 187.21},\n",
       " {'alpha': 107.01},\n",
       " {'alpha': 586.71},\n",
       " {'alpha': 127.01},\n",
       " {'alpha': 585.51},\n",
       " {'alpha': 429.01},\n",
       " {'alpha': 240.61},\n",
       " {'alpha': 554.01},\n",
       " {'alpha': 385.51},\n",
       " {'alpha': 839.8100000000001},\n",
       " {'alpha': 958.21},\n",
       " {'alpha': 83.91000000000001},\n",
       " {'alpha': 2.31},\n",
       " {'alpha': 860.51},\n",
       " {'alpha': 759.01},\n",
       " {'alpha': 953.61},\n",
       " {'alpha': 883.8100000000001},\n",
       " {'alpha': 607.8100000000001},\n",
       " {'alpha': 692.9100000000001},\n",
       " {'alpha': 159.71},\n",
       " {'alpha': 800.51},\n",
       " {'alpha': 354.51},\n",
       " {'alpha': 247.01},\n",
       " {'alpha': 766.21},\n",
       " {'alpha': 534.11},\n",
       " {'alpha': 688.21},\n",
       " {'alpha': 407.41},\n",
       " {'alpha': 897.21},\n",
       " {'alpha': 617.8100000000001},\n",
       " {'alpha': 785.9100000000001},\n",
       " {'alpha': 532.61},\n",
       " {'alpha': 583.8100000000001},\n",
       " {'alpha': 968.51},\n",
       " {'alpha': 967.4100000000001},\n",
       " {'alpha': 609.21},\n",
       " {'alpha': 586.11},\n",
       " {'alpha': 457.51},\n",
       " {'alpha': 36.91},\n",
       " {'alpha': 758.3100000000001},\n",
       " {'alpha': 186.11},\n",
       " {'alpha': 365.71000000000004},\n",
       " {'alpha': 128.60999999999999},\n",
       " {'alpha': 468.71000000000004},\n",
       " {'alpha': 555.91},\n",
       " {'alpha': 606.51},\n",
       " {'alpha': 218.91},\n",
       " {'alpha': 565.41},\n",
       " {'alpha': 975.9100000000001},\n",
       " {'alpha': 153.31},\n",
       " {'alpha': 797.11},\n",
       " {'alpha': 610.91},\n",
       " {'alpha': 622.4100000000001},\n",
       " {'alpha': 88.31000000000002},\n",
       " {'alpha': 800.11},\n",
       " {'alpha': 355.71000000000004},\n",
       " {'alpha': 206.01},\n",
       " {'alpha': 763.11},\n",
       " {'alpha': 395.51},\n",
       " {'alpha': 973.01},\n",
       " {'alpha': 145.31},\n",
       " {'alpha': 317.01},\n",
       " {'alpha': 865.9100000000001},\n",
       " {'alpha': 724.11},\n",
       " {'alpha': 886.51},\n",
       " {'alpha': 506.91},\n",
       " {'alpha': 898.61},\n",
       " {'alpha': 892.01},\n",
       " {'alpha': 27.710000000000004},\n",
       " {'alpha': 164.01},\n",
       " {'alpha': 931.9100000000001},\n",
       " {'alpha': 266.21},\n",
       " {'alpha': 692.51},\n",
       " {'alpha': 807.01},\n",
       " {'alpha': 365.11}]"
      ]
     },
     "execution_count": 86,
     "metadata": {},
     "output_type": "execute_result"
    }
   ],
   "source": [
    "cv_ridge_res.cv_results_['params'] ##see what got tested"
   ]
  },
  {
   "cell_type": "code",
   "execution_count": 87,
   "metadata": {},
   "outputs": [
    {
     "data": {
      "text/plain": [
       "465.91"
      ]
     },
     "execution_count": 87,
     "metadata": {},
     "output_type": "execute_result"
    }
   ],
   "source": [
    "alpha_ridge= cv_ridge_res.best_params_['alpha']\n",
    "alpha_ridge "
   ]
  },
  {
   "cell_type": "code",
   "execution_count": 88,
   "metadata": {},
   "outputs": [
    {
     "data": {
      "text/plain": [
       "array([ 0.        , -3.40698826, -4.79272568,  0.75623694,  8.6269745 ,\n",
       "       -7.00184133,  7.51287514, -0.51103381,  0.98344092, -0.54062229,\n",
       "       -0.12939547, -0.82336942,  3.88791751, -0.70643857,  1.03586178,\n",
       "        0.85446071, -0.46631085,  0.90254311,  1.38709078,  1.94848113,\n",
       "       -0.85297327, -1.25438205, -1.24655278, -0.5394346 , -0.66189659,\n",
       "       -0.89418544,  1.16191804, -1.3231062 ,  0.65199649, -0.48842022,\n",
       "       -0.95843293, -1.4225323 , -0.33516553, -0.17370666, -0.02780636,\n",
       "        0.35367338,  0.17528123,  0.61672174, -0.81098293,  0.51204157,\n",
       "       -0.51507957,  1.17574822,  2.42984498, -2.90044929, -0.7251126 ,\n",
       "        0.54248959, -1.19267042,  0.06404895, -0.47985945,  0.13028607,\n",
       "        0.5500104 ,  1.57293486, -0.00920094, -0.51845435,  0.80947811,\n",
       "        0.20556116, -0.67662845, -0.89755612, -0.38110507])"
      ]
     },
     "execution_count": 88,
     "metadata": {},
     "output_type": "execute_result"
    }
   ],
   "source": [
    "ridge_reg = Ridge(fit_intercept = True, alpha = alpha_ridge ).fit(X_train, y_train)\n",
    "ridge_reg.coef_"
   ]
  },
  {
   "cell_type": "code",
   "execution_count": 89,
   "metadata": {
    "scrolled": true
   },
   "outputs": [
    {
     "name": "stdout",
     "output_type": "stream",
     "text": [
      "training error\n",
      "2235.5943807088115\n",
      "testing error\n",
      "2073.1758817861514\n"
     ]
    }
   ],
   "source": [
    "print(\"training error\")\n",
    "print(sklearn.metrics.mean_squared_error(y_train, ridge_reg.predict(X_train)))\n",
    "print(\"testing error\")\n",
    "print(sklearn.metrics.mean_squared_error(y_test, ridge_reg.predict(X_test)))"
   ]
  },
  {
   "cell_type": "code",
   "execution_count": 90,
   "metadata": {},
   "outputs": [
    {
     "data": {
      "text/plain": [
       "0.2556001523096778"
      ]
     },
     "execution_count": 90,
     "metadata": {},
     "output_type": "execute_result"
    }
   ],
   "source": [
    "sklearn.metrics.r2_score(y_train, ridge_reg.predict(X_train))"
   ]
  },
  {
   "cell_type": "markdown",
   "metadata": {
    "colab": {
     "base_uri": "https://localhost:8080/"
    },
    "id": "78qM8lf46ziO",
    "outputId": "defd0840-fe88-4e60-ccba-c88b79654015"
   },
   "source": []
  },
  {
   "cell_type": "markdown",
   "metadata": {},
   "source": [
    "## lasso regression"
   ]
  },
  {
   "cell_type": "code",
   "execution_count": 24,
   "metadata": {},
   "outputs": [],
   "source": [
    "cv_lasso = sklearn.model_selection.RandomizedSearchCV(Lasso(), {'alpha' : np.arange(0.001, 1, 0.1)}, \n",
    "                                                      scoring = 'neg_mean_squared_error',\n",
    "                                                     n_iter = 1000, random_state = 0)"
   ]
  },
  {
   "cell_type": "code",
   "execution_count": 25,
   "metadata": {},
   "outputs": [
    {
     "name": "stderr",
     "output_type": "stream",
     "text": [
      "C:\\Users\\couga\\anaconda3\\lib\\site-packages\\sklearn\\model_selection\\_search.py:278: UserWarning: The total space of parameters 10 is smaller than n_iter=1000. Running 10 iterations. For exhaustive searches, use GridSearchCV.\n",
      "  warnings.warn(\n",
      "C:\\Users\\couga\\anaconda3\\lib\\site-packages\\sklearn\\linear_model\\_coordinate_descent.py:529: ConvergenceWarning: Objective did not converge. You might want to increase the number of iterations. Duality gap: 5784.2737769298255, tolerance: 3729.7450584281946\n",
      "  model = cd_fast.enet_coordinate_descent(\n"
     ]
    }
   ],
   "source": [
    "cv_lasso_res = cv_lasso.fit(X_train, y_train)"
   ]
  },
  {
   "cell_type": "code",
   "execution_count": 26,
   "metadata": {},
   "outputs": [
    {
     "data": {
      "text/plain": [
       "0.101"
      ]
     },
     "execution_count": 26,
     "metadata": {},
     "output_type": "execute_result"
    }
   ],
   "source": [
    "cv_lasso_res.cv_results_['params'] ##see what got tested\n",
    "alpha_lasso= cv_lasso_res.best_params_['alpha']\n",
    "alpha_lasso"
   ]
  },
  {
   "cell_type": "code",
   "execution_count": 27,
   "metadata": {},
   "outputs": [
    {
     "data": {
      "text/plain": [
       "array([-3.39625351, -4.82915924,  0.73515195,  8.64192976, -3.62226777,\n",
       "       11.44632628, -0.        ,  0.        , -0.        , -0.        ,\n",
       "       -0.        ,  3.99423501, -0.        ,  0.        ,  0.        ,\n",
       "       -0.        ,  0.        ,  0.        ,  0.        , -0.        ,\n",
       "       -0.        , -0.        , -0.        , -0.        , -0.        ,\n",
       "        0.        , -0.        ,  0.        , -0.        , -0.        ,\n",
       "       -0.        , -0.        , -0.        , -0.        ,  0.        ,\n",
       "        0.        ,  0.        , -0.        ,  0.        , -0.        ,\n",
       "        0.        ,  2.07891614, -2.5355234 , -0.        ,  0.        ,\n",
       "       -0.        ,  0.        , -0.        ,  0.        ,  0.        ,\n",
       "        0.95794911, -0.        , -0.        ,  0.        ,  0.        ,\n",
       "       -0.        , -0.        , -0.        ])"
      ]
     },
     "execution_count": 27,
     "metadata": {},
     "output_type": "execute_result"
    }
   ],
   "source": [
    "lasso_reg = Lasso(fit_intercept = True, alpha = alpha_lasso).fit(X_train, y_train)\n",
    "lasso_reg.coef_"
   ]
  },
  {
   "cell_type": "code",
   "execution_count": 28,
   "metadata": {},
   "outputs": [
    {
     "name": "stdout",
     "output_type": "stream",
     "text": [
      "training error\n",
      "2237.9909078033143\n",
      "testing error\n",
      "2074.0493798330212\n"
     ]
    }
   ],
   "source": [
    "print(\"training error\")\n",
    "print(sklearn.metrics.mean_squared_error(y_train, lasso_reg.predict(X_train)))\n",
    "print(\"testing error\")\n",
    "print(sklearn.metrics.mean_squared_error(y_test, lasso_reg.predict(X_test)))"
   ]
  },
  {
   "cell_type": "code",
   "execution_count": 29,
   "metadata": {},
   "outputs": [
    {
     "data": {
      "text/plain": [
       "0.25480216568941816"
      ]
     },
     "execution_count": 29,
     "metadata": {},
     "output_type": "execute_result"
    }
   ],
   "source": [
    "sklearn.metrics.r2_score(y_train, lasso_reg.predict(X_train))"
   ]
  },
  {
   "cell_type": "markdown",
   "metadata": {},
   "source": [
    "## random forest"
   ]
  },
  {
   "cell_type": "code",
   "execution_count": 48,
   "metadata": {},
   "outputs": [],
   "source": [
    "cv_rf = sklearn.model_selection.RandomizedSearchCV(RandomForestRegressor(random_state = 0), \n",
    "                                                      {'n_estimators' : range(1,15), 'max_depth' : range(1,10)}, \n",
    "                                                      scoring = 'neg_mean_squared_error',\n",
    "                                                n_iter = 10)"
   ]
  },
  {
   "cell_type": "code",
   "execution_count": 54,
   "metadata": {},
   "outputs": [
    {
     "data": {
      "text/plain": [
       "RandomizedSearchCV(estimator=RandomForestRegressor(random_state=0),\n",
       "                   param_distributions={'max_depth': range(1, 10),\n",
       "                                        'n_estimators': range(1, 15)},\n",
       "                   scoring='neg_mean_squared_error')"
      ]
     },
     "execution_count": 54,
     "metadata": {},
     "output_type": "execute_result"
    }
   ],
   "source": [
    "cv_rf.fit(X_train, y_train)"
   ]
  },
  {
   "cell_type": "code",
   "execution_count": 55,
   "metadata": {},
   "outputs": [
    {
     "data": {
      "text/plain": [
       "(8, 6)"
      ]
     },
     "execution_count": 55,
     "metadata": {},
     "output_type": "execute_result"
    }
   ],
   "source": [
    "cv_rf.cv_results_['params'] ##see what got tested\n",
    "n_est = cv_rf.best_params_['n_estimators']\n",
    "max_depth = cv_rf.best_params_['max_depth']\n",
    "n_est, max_depth"
   ]
  },
  {
   "cell_type": "code",
   "execution_count": 56,
   "metadata": {},
   "outputs": [
    {
     "data": {
      "text/plain": [
       "array([0.10979395, 0.1415752 , 0.08378263, 0.56138705, 0.01310049,\n",
       "       0.04242543, 0.00005451, 0.00015683, 0.0008459 , 0.00024649,\n",
       "       0.00052397, 0.00126007, 0.00196449, 0.0000296 , 0.        ,\n",
       "       0.        , 0.        , 0.00045506, 0.00143656, 0.        ,\n",
       "       0.        , 0.00089583, 0.        , 0.00398855, 0.        ,\n",
       "       0.        , 0.00029529, 0.00595143, 0.        , 0.00168081,\n",
       "       0.00030677, 0.        , 0.        , 0.        , 0.        ,\n",
       "       0.00007865, 0.00265741, 0.        , 0.00090703, 0.0003871 ,\n",
       "       0.00161258, 0.00750049, 0.00182832, 0.00011297, 0.00118732,\n",
       "       0.0002453 , 0.00012798, 0.00020189, 0.        , 0.00480736,\n",
       "       0.00020094, 0.00048438, 0.00206254, 0.        , 0.00090577,\n",
       "       0.00253509, 0.        , 0.        ])"
      ]
     },
     "execution_count": 56,
     "metadata": {},
     "output_type": "execute_result"
    }
   ],
   "source": [
    "rf = RandomForestRegressor(n_estimators = n_est, max_depth = max_depth).fit(X_train, y_train)\n",
    "rf.feature_importances_"
   ]
  },
  {
   "cell_type": "code",
   "execution_count": 57,
   "metadata": {
    "scrolled": true
   },
   "outputs": [
    {
     "name": "stdout",
     "output_type": "stream",
     "text": [
      "training error\n",
      "1993.7779982326156\n",
      "testing error\n",
      "1972.593666394607\n"
     ]
    }
   ],
   "source": [
    "print(\"training error\")\n",
    "print(sklearn.metrics.mean_squared_error(y_train, rf.predict(X_train)))\n",
    "print(\"testing error\")\n",
    "print(sklearn.metrics.mean_squared_error(y_test, rf.predict(X_test)))"
   ]
  },
  {
   "cell_type": "code",
   "execution_count": 58,
   "metadata": {},
   "outputs": [
    {
     "data": {
      "text/plain": [
       "0.3361192660798744"
      ]
     },
     "execution_count": 58,
     "metadata": {},
     "output_type": "execute_result"
    }
   ],
   "source": [
    "sklearn.metrics.r2_score(y_train, rf.predict(X_train))"
   ]
  },
  {
   "cell_type": "code",
   "execution_count": 117,
   "metadata": {},
   "outputs": [],
   "source": [
    "import seaborn as sns\n",
    "def plot_feature_importance(importance,names,model_type):\n",
    "\n",
    "    #Create arrays from feature importance and feature names\n",
    "    feature_importance = np.array(importance)\n",
    "    feature_names = np.array(names)\n",
    "\n",
    "    #Create a DataFrame using a Dictionary\n",
    "    data={'feature_names':feature_names,'feature_importance':feature_importance}\n",
    "    fi_df = pd.DataFrame(data)\n",
    "\n",
    "    #Sort the DataFrame in order decreasing feature importance\n",
    "    fi_df.sort_values(by=['feature_importance'], ascending=False,inplace=True)\n",
    "    top = fi_df.head(10)\n",
    "    \n",
    "    #Define size of bar plot\n",
    "    plt.figure(figsize=(10,8))\n",
    "    #Plot Searborn bar chart\n",
    "    sns.barplot(x=top['feature_importance'], y=top['feature_names'])\n",
    "    #Add chart labels\n",
    "    plt.title(model_type + ' FEATURE IMPORTANCE')\n",
    "    plt.xlabel('FEATURE IMPORTANCE')\n",
    "    plt.ylabel('FEATURE NAMES')"
   ]
  },
  {
   "cell_type": "code",
   "execution_count": 118,
   "metadata": {},
   "outputs": [
    {
     "data": {
      "image/png": "[encoded data removed]",
      "text/plain": [
       "<Figure size 720x576 with 1 Axes>"
      ]
     },
     "metadata": {
      "needs_background": "light"
     },
     "output_type": "display_data"
    }
   ],
   "source": [
    "plot_feature_importance(rf.feature_importances_,X_train.columns,'RANDOM FOREST')"
   ]
  },
  {
   "cell_type": "markdown",
   "metadata": {},
   "source": [
    "## gradient boosting"
   ]
  },
  {
   "cell_type": "code",
   "execution_count": 36,
   "metadata": {},
   "outputs": [],
   "source": [
    "cv_gb = sklearn.model_selection.RandomizedSearchCV(GradientBoostingRegressor(random_state = 0), \n",
    "                                                      {'n_estimators' : range(1,15), 'max_depth' : range(1,10), \n",
    "                                                      'learning_rate' : [0.01, 0.1, 0.5, 1, 2, 3, 5, 10]}, \n",
    "                                                      scoring = 'neg_mean_squared_error',\n",
    "                                                     n_iter = 10, random_state = 0)"
   ]
  },
  {
   "cell_type": "code",
   "execution_count": 93,
   "metadata": {},
   "outputs": [
    {
     "data": {
      "text/plain": [
       "RandomizedSearchCV(estimator=GradientBoostingRegressor(random_state=0),\n",
       "                   param_distributions={'learning_rate': [0.01, 0.1, 0.5, 1, 2,\n",
       "                                                          3, 5, 10],\n",
       "                                        'max_depth': range(1, 10),\n",
       "                                        'n_estimators': range(1, 15)},\n",
       "                   random_state=0, scoring='neg_mean_squared_error')"
      ]
     },
     "execution_count": 93,
     "metadata": {},
     "output_type": "execute_result"
    }
   ],
   "source": [
    "cv_gb.fit(X_train, y_train)"
   ]
  },
  {
   "cell_type": "code",
   "execution_count": 94,
   "metadata": {},
   "outputs": [
    {
     "data": {
      "text/plain": [
       "(11, 5, 0.1)"
      ]
     },
     "execution_count": 94,
     "metadata": {},
     "output_type": "execute_result"
    }
   ],
   "source": [
    "cv_gb.cv_results_['params'] ##see what got tested\n",
    "n_est = cv_gb.best_params_['n_estimators']\n",
    "max_depth = cv_gb.best_params_['max_depth']\n",
    "learning_rate = cv_gb.best_params_['learning_rate']\n",
    "n_est, max_depth, learning_rate"
   ]
  },
  {
   "cell_type": "code",
   "execution_count": 95,
   "metadata": {},
   "outputs": [
    {
     "data": {
      "text/plain": [
       "array([0.        , 0.09600979, 0.14087486, 0.0680542 , 0.62012131,\n",
       "       0.01534293, 0.04645373, 0.        , 0.00024919, 0.        ,\n",
       "       0.        , 0.        , 0.00127752, 0.        , 0.        ,\n",
       "       0.        , 0.        , 0.        , 0.        , 0.        ,\n",
       "       0.        , 0.        , 0.        , 0.        , 0.00246975,\n",
       "       0.        , 0.        , 0.        , 0.00136649, 0.        ,\n",
       "       0.        , 0.        , 0.        , 0.        , 0.        ,\n",
       "       0.        , 0.        , 0.00104096, 0.        , 0.        ,\n",
       "       0.00129384, 0.        , 0.00222566, 0.        , 0.        ,\n",
       "       0.        , 0.00021358, 0.00013377, 0.00003494, 0.        ,\n",
       "       0.00283748, 0.        , 0.        , 0.        , 0.        ,\n",
       "       0.        , 0.        , 0.        , 0.        ])"
      ]
     },
     "execution_count": 95,
     "metadata": {},
     "output_type": "execute_result"
    }
   ],
   "source": [
    "gb = GradientBoostingRegressor(n_estimators = n_est, max_depth = max_depth, \n",
    "                               learning_rate = learning_rate).fit(X_train, y_train)\n",
    "gb.feature_importances_"
   ]
  },
  {
   "cell_type": "code",
   "execution_count": 96,
   "metadata": {
    "scrolled": true
   },
   "outputs": [
    {
     "name": "stdout",
     "output_type": "stream",
     "text": [
      "training error\n",
      "2165.7681706191606\n",
      "testing error\n",
      "2048.566358048403\n"
     ]
    }
   ],
   "source": [
    "print(\"training error\")\n",
    "print(sklearn.metrics.mean_squared_error(y_train, gb.predict(X_train)))\n",
    "print(\"testing error\")\n",
    "print(sklearn.metrics.mean_squared_error(y_test, gb.predict(X_test)))"
   ]
  },
  {
   "cell_type": "code",
   "execution_count": 97,
   "metadata": {},
   "outputs": [
    {
     "data": {
      "text/plain": [
       "0.2788506223430872"
      ]
     },
     "execution_count": 97,
     "metadata": {},
     "output_type": "execute_result"
    }
   ],
   "source": [
    "sklearn.metrics.r2_score(y_train, gb.predict(X_train))"
   ]
  },
  {
   "cell_type": "markdown",
   "metadata": {},
   "source": [
    "# Data Viz"
   ]
  },
  {
   "cell_type": "code",
   "execution_count": 128,
   "metadata": {},
   "outputs": [
    {
     "data": {
      "text/plain": [
       "count    3801.000000\n",
       "mean       53.039860\n",
       "std        52.849892\n",
       "min         0.510417\n",
       "25%        16.538889\n",
       "50%        37.720833\n",
       "75%        72.828472\n",
       "max       639.265255\n",
       "Name: user_days_spent_watching, dtype: float64"
      ]
     },
     "execution_count": 128,
     "metadata": {},
     "output_type": "execute_result"
    }
   ],
   "source": [
    "y_test.describe()"
   ]
  },
  {
   "cell_type": "code",
   "execution_count": 162,
   "metadata": {},
   "outputs": [
    {
     "data": {
      "image/png": "[encoded data removed]",
      "text/plain": [
       "<Figure size 720x576 with 1 Axes>"
      ]
     },
     "metadata": {
      "needs_background": "light"
     },
     "output_type": "display_data"
    }
   ],
   "source": [
    "\n",
    "fig, ax = plt.subplots(figsize=(10,8))\n",
    "N, bins, patches = ax.hist(y_test, bins=20, edgecolor='white', linewidth=1)\n",
    "\n",
    "for i in range(0,1):\n",
    "    patches[i].set_facecolor('g')\n",
    "for i in range(1,2):    \n",
    "    patches[i].set_facecolor('limegreen')\n",
    "for i in range(2,4):    \n",
    "    patches[i].set_facecolor('y')\n",
    "for i in range(4,5):    \n",
    "    patches[i].set_facecolor('orange')\n",
    "for i in range(5, len(patches)):\n",
    "    patches[i].set_facecolor('r')\n",
    "\n",
    "plt.xlabel(\"user_days_spent_watching\")\n",
    "plt.ylabel(\"Number of Users\")\n",
    "plt.show()"
   ]
  },
  {
   "cell_type": "code",
   "execution_count": null,
   "metadata": {},
   "outputs": [],
   "source": []
  }
 ],
 "metadata": {
  "colab": {
   "collapsed_sections": [],
   "name": "Anime Regression Playground.ipynb",
   "provenance": []
  },
  "kernelspec": {
   "display_name": "Python 3",
   "language": "python",
   "name": "python3"
  },
  "language_info": {
   "codemirror_mode": {
    "name": "ipython",
    "version": 3
   },
   "file_extension": ".py",
   "mimetype": "text/x-python",
   "name": "python",
   "nbconvert_exporter": "python",
   "pygments_lexer": "ipython3",
   "version": "3.8.5"
  }
 },
 "nbformat": 4,
 "nbformat_minor": 1
}
